{
  "cells": [
    {
      "cell_type": "code",
      "execution_count": null,
      "metadata": {
        "id": "g31BuTv_daie"
      },
      "outputs": [],
      "source": [
        "!apt-get install openjdk-8-jdk-headless -qq > /dev/null\n",
        "!wget -q https://archive.apache.org/dist/spark/spark-3.2.0/spark-3.2.0-bin-hadoop3.2.tgz\n",
        "!tar xf spark-3.2.0-bin-hadoop3.2.tgz\n",
        "!pip install -q findspark\n"
      ]
    },
    {
      "cell_type": "code",
      "execution_count": null,
      "metadata": {
        "id": "I_y3PPnOdm8k"
      },
      "outputs": [],
      "source": [
        "import os\n",
        "os.environ[\"JAVA_HOME\"] = \"/usr/lib/jvm/java-8-openjdk-amd64\"\n",
        "os.environ[\"SPARK_HOME\"] = \"spark-3.2.0-bin-hadoop3.2\""
      ]
    },
    {
      "cell_type": "code",
      "execution_count": null,
      "metadata": {
        "id": "h1jB3tccdnLF"
      },
      "outputs": [],
      "source": [
        "import findspark\n",
        "findspark.init()"
      ]
    },
    {
      "cell_type": "code",
      "execution_count": null,
      "metadata": {
        "colab": {
          "base_uri": "https://localhost:8080/",
          "height": 196
        },
        "id": "XuV2b9wxdnUS",
        "outputId": "1d6f8ef9-4773-42fd-ac17-c623e2cae145"
      },
      "outputs": [
        {
          "data": {
            "text/html": [
              "\n",
              "        <div>\n",
              "            <p><b>SparkContext</b></p>\n",
              "\n",
              "            <p><a href=\"http://1078347cc51f:4040\">Spark UI</a></p>\n",
              "\n",
              "            <dl>\n",
              "              <dt>Version</dt>\n",
              "                <dd><code>v3.2.0</code></dd>\n",
              "              <dt>Master</dt>\n",
              "                <dd><code>local[*]</code></dd>\n",
              "              <dt>AppName</dt>\n",
              "                <dd><code>pyspark-shell</code></dd>\n",
              "            </dl>\n",
              "        </div>\n",
              "        "
            ],
            "text/plain": [
              "<SparkContext master=local[*] appName=pyspark-shell>"
            ]
          },
          "execution_count": 4,
          "metadata": {},
          "output_type": "execute_result"
        }
      ],
      "source": [
        "from pyspark.sql import SparkSession\n",
        "spark = SparkSession.builder.master(\"local[*]\").getOrCreate()\n",
        "sc = spark.sparkContext\n",
        "sc"
      ]
    },
    {
      "cell_type": "code",
      "execution_count": null,
      "metadata": {
        "colab": {
          "base_uri": "https://localhost:8080/"
        },
        "id": "d_AukGLbdnXH",
        "outputId": "b0a90753-cc8c-4e4f-dbb6-b46cf02af57e"
      },
      "outputs": [
        {
          "name": "stdout",
          "output_type": "stream",
          "text": [
            "Mounted at /drive\n"
          ]
        }
      ],
      "source": [
        "from google.colab import drive\n",
        "\n",
        "drive.mount('/drive')"
      ]
    },
    {
      "cell_type": "code",
      "execution_count": null,
      "metadata": {
        "id": "-d4Kz-NxdnZm"
      },
      "outputs": [],
      "source": [
        "from pyspark.sql import SparkSession\n",
        "from pyspark.mllib.stat import Statistics\n",
        "from pyspark.ml.linalg import Vectors\n",
        "from pyspark.ml.stat import Correlation\n",
        "from pyspark.ml.clustering import LDA\n",
        "import numpy as np\n",
        "import pandas as pd"
      ]
    },
    {
      "cell_type": "code",
      "execution_count": null,
      "metadata": {
        "id": "hwKihK9sdncH"
      },
      "outputs": [],
      "source": [
        "app_train = spark.read.option(\"header\",True) \\\n",
        "     .csv(\"/drive/MyDrive/Home_Loan default/application_train.csv\",inferSchema=True)\n",
        "prev_app = spark.read.option(\"header\",True) \\\n",
        "     .csv(\"/drive/MyDrive/Home_Loan default/previous_application.csv\",inferSchema=True)\n",
        "pos_cash = spark.read.option(\"header\",True) \\\n",
        "     .csv(\"/drive/MyDrive/Home_Loan default/POS_CASH_balance.csv\",inferSchema=True)\n",
        "install_payments = spark.read.option(\"header\",True) \\\n",
        "     .csv(\"/drive/MyDrive/Home_Loan default/installments_payments.csv\",inferSchema=True)\n",
        "credit_bal = spark.read.option(\"header\",True) \\\n",
        "     .csv(\"/drive/MyDrive/Home_Loan default/credit_card_balance.csv\",inferSchema=True)\n",
        "bureau_bal = spark.read.option(\"header\",True) \\\n",
        "     .csv(\"/drive/MyDrive/Home_Loan default/bureau_balance.csv\",inferSchema=True)\n",
        "bureau = spark.read.option(\"header\",True) \\\n",
        "     .csv(\"/drive/MyDrive/Home_Loan default/bureau.csv\",inferSchema=True)"
      ]
    },
    {
      "cell_type": "code",
      "execution_count": null,
      "metadata": {
        "id": "SJP-nvZQdneu"
      },
      "outputs": [],
      "source": [
        "prev_app.createOrReplaceTempView(\"prev_app\")\n",
        "app_train.createOrReplaceTempView(\"app_train\")\n",
        "bureau.createOrReplaceTempView(\"bureau\")\n",
        "pos_cash.createOrReplaceTempView(\"pos_cash\")\n",
        "install_payments.createOrReplaceTempView(\"install_payments\")\n",
        "credit_bal.createOrReplaceTempView(\"credit_bal\")\n",
        "check = spark.sql('''select SK_ID_CURR from app_train''')\n",
        "check_1 = spark.sql('''select distinct SK_ID_CURR from prev_app''')\n",
        "\n"
      ]
    },
    {
      "cell_type": "code",
      "execution_count": null,
      "metadata": {
        "id": "s5I6ZUiLXgHF"
      },
      "outputs": [],
      "source": [
        "pos_sk = spark.sql('''select distinct SK_ID_CURR from pos_cash''')\n",
        "app_train_sk = spark.sql('''select SK_ID_CURR from app_train''')\n",
        "prev_sk = spark.sql('''select SK_ID_CURR from prev_app''')\n",
        "credit_sk = spark.sql('''select SK_ID_CURR from credit_bal''')\n",
        "install_sk = spark.sql('''select SK_ID_CURR from install_payments''')\n",
        "bureau_sk = spark.sql('''select SK_ID_CURR from bureau''')\n"
      ]
    },
    {
      "cell_type": "code",
      "execution_count": null,
      "metadata": {
        "id": "aywp9y6gYXNL"
      },
      "outputs": [],
      "source": [
        "prev_app_train = app_train_sk.intersect(prev_sk)"
      ]
    },
    {
      "cell_type": "code",
      "execution_count": null,
      "metadata": {
        "id": "UkrKWWYAbgrp"
      },
      "outputs": [],
      "source": [
        "prev_app_pos = prev_app_train.intersect(pos_sk)"
      ]
    },
    {
      "cell_type": "code",
      "execution_count": null,
      "metadata": {
        "id": "jkD2WNp9cxCr"
      },
      "outputs": [],
      "source": [
        "prev_app_pos_credit = prev_app_pos.intersect(credit_sk)"
      ]
    },
    {
      "cell_type": "code",
      "execution_count": null,
      "metadata": {
        "id": "q1z-64DrdbST"
      },
      "outputs": [],
      "source": [
        "prev_app_pos_credit_install_sk = prev_app_pos_credit.intersect(install_sk)"
      ]
    },
    {
      "cell_type": "code",
      "execution_count": null,
      "metadata": {
        "id": "YudwDS-JeLto"
      },
      "outputs": [],
      "source": [
        "prev_app_pos_credit_install_sk_bureau = prev_app_pos_credit_install_sk.intersect(bureau_sk)"
      ]
    },
    {
      "cell_type": "code",
      "execution_count": null,
      "metadata": {
        "colab": {
          "base_uri": "https://localhost:8080/"
        },
        "id": "6PB5yIbzebIK",
        "outputId": "8e553000-218a-45d7-b553-6f5729179fff"
      },
      "outputs": [
        {
          "data": {
            "text/plain": [
              "72793"
            ]
          },
          "execution_count": 15,
          "metadata": {},
          "output_type": "execute_result"
        }
      ],
      "source": [
        "prev_app_pos_credit_install_sk_bureau.count()"
      ]
    },
    {
      "cell_type": "code",
      "execution_count": null,
      "metadata": {
        "id": "uNHweMsDmxM4"
      },
      "outputs": [],
      "source": [
        "prev_app_pos_credit_install_sk_bureau = prev_app_pos_credit_install_sk_bureau.withColumnRenamed('SK_ID_CURR','id')"
      ]
    },
    {
      "cell_type": "code",
      "execution_count": null,
      "metadata": {
        "id": "ge2ntyhdgOnx"
      },
      "outputs": [],
      "source": [
        "prev_app_pos_credit_install_sk_bureau.createOrReplaceTempView(\"prev_app_pos_credit_install_sk_bureau\")\n"
      ]
    },
    {
      "cell_type": "code",
      "execution_count": null,
      "metadata": {
        "id": "VYv68fNunFOO"
      },
      "outputs": [],
      "source": [
        "# app_train = app_train.withColumnRenamed('SK_ID_CURR','id')"
      ]
    },
    {
      "cell_type": "code",
      "execution_count": null,
      "metadata": {
        "id": "EG-jMiZrgOqo"
      },
      "outputs": [],
      "source": [
        "app_train_1=spark.sql('''SELECT *\n",
        "FROM app_train\n",
        "RIGHT JOIN prev_app_pos_credit_install_sk_bureau\n",
        "ON app_train.SK_ID_CURR = prev_app_pos_credit_install_sk_bureau.id; ''')"
      ]
    },
    {
      "cell_type": "code",
      "execution_count": null,
      "metadata": {
        "id": "7-ObNEBflrZC"
      },
      "outputs": [],
      "source": [
        "app_train_1.createOrReplaceTempView(\"app_train_1\")\n",
        "# spark.sql('''select * from app_train_1 where app_train_1.SK_ID_CURR='100001' ''').show()"
      ]
    },
    {
      "cell_type": "code",
      "execution_count": null,
      "metadata": {
        "id": "-E1vMLP1gOuC"
      },
      "outputs": [],
      "source": [
        "prev_train=spark.sql('''SELECT *\n",
        "FROM prev_app\n",
        "RIGHT JOIN prev_app_pos_credit_install_sk_bureau\n",
        "ON prev_app.SK_ID_CURR = prev_app_pos_credit_install_sk_bureau.id; ''')"
      ]
    },
    {
      "cell_type": "code",
      "execution_count": null,
      "metadata": {
        "id": "bIrGcbwHgOw6"
      },
      "outputs": [],
      "source": [
        "pos_cash_train=spark.sql('''SELECT *\n",
        "FROM pos_cash\n",
        "RIGHT JOIN prev_app_pos_credit_install_sk_bureau\n",
        "ON pos_cash.SK_ID_CURR = prev_app_pos_credit_install_sk_bureau.id; ''')"
      ]
    },
    {
      "cell_type": "code",
      "execution_count": null,
      "metadata": {
        "id": "5bnDWtIjgOzV"
      },
      "outputs": [],
      "source": [
        "credit_bal_train=spark.sql('''SELECT *\n",
        "FROM credit_bal\n",
        "RIGHT JOIN prev_app_pos_credit_install_sk_bureau\n",
        "ON credit_bal.SK_ID_CURR = prev_app_pos_credit_install_sk_bureau.id; ''')"
      ]
    },
    {
      "cell_type": "code",
      "execution_count": null,
      "metadata": {
        "id": "V-BbxBC4gO2y"
      },
      "outputs": [],
      "source": [
        "bureau_train =spark.sql('''SELECT *\n",
        "FROM bureau\n",
        "RIGHT JOIN prev_app_pos_credit_install_sk_bureau\n",
        "ON bureau.SK_ID_CURR = prev_app_pos_credit_install_sk_bureau.id; ''')"
      ]
    },
    {
      "cell_type": "code",
      "execution_count": null,
      "metadata": {
        "id": "H0EZkbtsjPnN"
      },
      "outputs": [],
      "source": [
        "# pos_cash_train.first()"
      ]
    },
    {
      "cell_type": "code",
      "execution_count": null,
      "metadata": {
        "id": "fIbcq9_rjPrl"
      },
      "outputs": [],
      "source": [
        "# credit_bal_train.first()\n",
        "from pyspark.sql.functions import col,count,isnan,when\n",
        "rd = app_train_1.select([count(when(col(c).isNull(), c)).alias(c) for c in app_train_1.columns])"
      ]
    },
    {
      "cell_type": "code",
      "execution_count": null,
      "metadata": {
        "id": "S_fkooA3RFBe"
      },
      "outputs": [],
      "source": [
        "r=[]\n",
        "for i in range(len(app_train_1.columns)):\n",
        "  # print(rd[i],rd.collect()[0][i]/app_train.count())\n",
        "  # r = rd.collect()[0][i]/app_train.count()>0.5\n",
        "  if(rd.collect()[0][i]/72793>0.5):\n",
        "    r.append(rd.columns[i])"
      ]
    },
    {
      "cell_type": "code",
      "execution_count": null,
      "metadata": {
        "colab": {
          "base_uri": "https://localhost:8080/"
        },
        "id": "j4gIs7-Q7So8",
        "outputId": "3a41495b-9d2a-41d1-a7a5-0fbfd8cd0479"
      },
      "outputs": [
        {
          "data": {
            "text/plain": [
              "30"
            ]
          },
          "execution_count": 28,
          "metadata": {},
          "output_type": "execute_result"
        }
      ],
      "source": [
        "len(r)"
      ]
    },
    {
      "cell_type": "code",
      "execution_count": null,
      "metadata": {
        "id": "nksaejHA7SsN"
      },
      "outputs": [],
      "source": [
        "for i in r:\n",
        "  app_train_1 = app_train_1.drop(i)"
      ]
    },
    {
      "cell_type": "code",
      "execution_count": null,
      "metadata": {
        "colab": {
          "base_uri": "https://localhost:8080/"
        },
        "id": "XLk_XlYP7Svp",
        "outputId": "5025cafb-b193-4489-dae0-43f1bcedf154"
      },
      "outputs": [
        {
          "data": {
            "text/plain": [
              "93"
            ]
          },
          "execution_count": 30,
          "metadata": {},
          "output_type": "execute_result"
        }
      ],
      "source": [
        "len(app_train_1.columns)"
      ]
    },
    {
      "cell_type": "code",
      "execution_count": null,
      "metadata": {
        "colab": {
          "base_uri": "https://localhost:8080/"
        },
        "id": "phqa73Bt7S0R",
        "outputId": "6f807095-c356-4ac5-d0cf-8ed97d594897"
      },
      "outputs": [
        {
          "name": "stdout",
          "output_type": "stream",
          "text": [
            "15  categorical features\n",
            "77  numerical features\n"
          ]
        }
      ],
      "source": [
        "cat_cols = [item[0] for item in app_train_1.dtypes if item[1].startswith('string')] \n",
        "print(str(len(cat_cols)) + '  categorical features')\n",
        "num_cols = [item[0] for item in app_train_1.dtypes if item[1].startswith('int') | item[1].startswith('double')][1:]\n",
        "print(str(len(num_cols)) + '  numerical features')"
      ]
    },
    {
      "cell_type": "code",
      "execution_count": null,
      "metadata": {
        "id": "I-0VLY0r59Qk"
      },
      "outputs": [],
      "source": [
        "from pyspark.ml.feature import Imputer\n",
        "for i in num_cols:\n",
        "  imputer = Imputer(\n",
        "      inputCols=[], \n",
        "      outputCols=[]\n",
        "      ).setStrategy(\"mean\")"
      ]
    },
    {
      "cell_type": "code",
      "execution_count": null,
      "metadata": {
        "id": "E40VHSWr59UM"
      },
      "outputs": [],
      "source": [
        "model = imputer.fit(app_train_1)\n",
        "app_train_imputed = model.transform(app_train_1)\n"
      ]
    },
    {
      "cell_type": "code",
      "execution_count": null,
      "metadata": {
        "colab": {
          "base_uri": "https://localhost:8080/"
        },
        "id": "_lZE9R_hm6Ru",
        "outputId": "04e1d772-5076-4fc4-9be1-c95266b8aea4"
      },
      "outputs": [
        {
          "name": "stdout",
          "output_type": "stream",
          "text": [
            "AMT_ANNUITY\n",
            "AMT_GOODS_PRICE\n",
            "NAME_TYPE_SUITE\n",
            "OCCUPATION_TYPE\n",
            "EXT_SOURCE_2\n",
            "EXT_SOURCE_3\n",
            "APARTMENTS_AVG\n",
            "YEARS_BEGINEXPLUATATION_AVG\n",
            "ENTRANCES_AVG\n",
            "FLOORSMAX_AVG\n",
            "LIVINGAREA_AVG\n",
            "APARTMENTS_MODE\n",
            "YEARS_BEGINEXPLUATATION_MODE\n",
            "ENTRANCES_MODE\n",
            "FLOORSMAX_MODE\n",
            "LIVINGAREA_MODE\n",
            "APARTMENTS_MEDI\n",
            "YEARS_BEGINEXPLUATATION_MEDI\n",
            "ENTRANCES_MEDI\n",
            "FLOORSMAX_MEDI\n",
            "LIVINGAREA_MEDI\n",
            "HOUSETYPE_MODE\n",
            "TOTALAREA_MODE\n",
            "WALLSMATERIAL_MODE\n",
            "EMERGENCYSTATE_MODE\n",
            "OBS_30_CNT_SOCIAL_CIRCLE\n",
            "DEF_30_CNT_SOCIAL_CIRCLE\n",
            "OBS_60_CNT_SOCIAL_CIRCLE\n",
            "DEF_60_CNT_SOCIAL_CIRCLE\n"
          ]
        }
      ],
      "source": [
        "from pyspark.sql.functions import col,count,isnan,when\n",
        "rd_1 = app_train_1.select([count(when(col(c).isNull(), c)).alias(c) for c in app_train_1.columns])\n",
        "for i in range(len(app_train_1.columns)):\n",
        "  if(rd_1.collect()[0][i]>0):\n",
        "    print(rd_1.columns[i])"
      ]
    },
    {
      "cell_type": "code",
      "execution_count": null,
      "metadata": {
        "id": "-cAPkPXrrD_b"
      },
      "outputs": [],
      "source": [
        "miss = ['AMT_ANNUITY',\n",
        "'AMT_GOODS_PRICE',\n",
        "'NAME_TYPE_SUITE',\n",
        "'OCCUPATION_TYPE',\n",
        "'EXT_SOURCE_2',\n",
        "'EXT_SOURCE_3',\n",
        "'APARTMENTS_AVG',\n",
        "'YEARS_BEGINEXPLUATATION_AVG',\n",
        "'ENTRANCES_AVG',\n",
        "'FLOORSMAX_AVG',\n",
        "'LIVINGAREA_AVG',\n",
        "'APARTMENTS_MODE',\n",
        "'YEARS_BEGINEXPLUATATION_MODE',\n",
        "'ENTRANCES_MODE',\n",
        "'FLOORSMAX_MODE',\n",
        "'LIVINGAREA_MODE',\n",
        "'APARTMENTS_MEDI',\n",
        "'YEARS_BEGINEXPLUATATION_MEDI',\n",
        "'ENTRANCES_MEDI',\n",
        "'FLOORSMAX_MEDI',\n",
        "'LIVINGAREA_MEDI',\n",
        "'HOUSETYPE_MODE',\n",
        "'TOTALAREA_MODE',\n",
        "'WALLSMATERIAL_MODE',\n",
        "'EMERGENCYSTATE_MODE',\n",
        "'OBS_30_CNT_SOCIAL_CIRCLE',\n",
        "'DEF_30_CNT_SOCIAL_CIRCLE',\n",
        "'OBS_60_CNT_SOCIAL_CIRCLE',\n",
        "'DEF_60_CNT_SOCIAL_CIRCLE']"
      ]
    },
    {
      "cell_type": "code",
      "execution_count": null,
      "metadata": {
        "id": "_wJL2zS5qNj1"
      },
      "outputs": [],
      "source": [
        "cat_col_mis = list(set(cat_cols).intersection(miss))"
      ]
    },
    {
      "cell_type": "code",
      "execution_count": null,
      "metadata": {
        "id": "TRiEmpw6qaQ4"
      },
      "outputs": [],
      "source": [
        "num_c0l_miss = list(set(num_cols).intersection(miss))"
      ]
    },
    {
      "cell_type": "code",
      "execution_count": null,
      "metadata": {
        "colab": {
          "base_uri": "https://localhost:8080/"
        },
        "id": "vbRFWWuLu_HE",
        "outputId": "3949be53-93dd-4901-d0b0-5eaa47f75796"
      },
      "outputs": [
        {
          "data": {
            "text/plain": [
              "['ENTRANCES_MODE',\n",
              " 'EXT_SOURCE_2',\n",
              " 'FLOORSMAX_MEDI',\n",
              " 'YEARS_BEGINEXPLUATATION_MEDI',\n",
              " 'APARTMENTS_AVG',\n",
              " 'YEARS_BEGINEXPLUATATION_MODE',\n",
              " 'FLOORSMAX_AVG',\n",
              " 'FLOORSMAX_MODE',\n",
              " 'AMT_ANNUITY',\n",
              " 'AMT_GOODS_PRICE',\n",
              " 'DEF_60_CNT_SOCIAL_CIRCLE',\n",
              " 'OBS_30_CNT_SOCIAL_CIRCLE',\n",
              " 'LIVINGAREA_AVG',\n",
              " 'YEARS_BEGINEXPLUATATION_AVG',\n",
              " 'ENTRANCES_AVG',\n",
              " 'ENTRANCES_MEDI',\n",
              " 'OBS_60_CNT_SOCIAL_CIRCLE',\n",
              " 'EXT_SOURCE_3',\n",
              " 'APARTMENTS_MEDI',\n",
              " 'LIVINGAREA_MEDI',\n",
              " 'TOTALAREA_MODE',\n",
              " 'DEF_30_CNT_SOCIAL_CIRCLE',\n",
              " 'LIVINGAREA_MODE',\n",
              " 'APARTMENTS_MODE']"
            ]
          },
          "execution_count": 38,
          "metadata": {},
          "output_type": "execute_result"
        }
      ],
      "source": [
        "num_c0l_miss"
      ]
    },
    {
      "cell_type": "code",
      "execution_count": null,
      "metadata": {
        "colab": {
          "base_uri": "https://localhost:8080/"
        },
        "id": "aDzbJjifrATx",
        "outputId": "5258c323-242e-4b04-a331-594a65cb8af2"
      },
      "outputs": [
        {
          "data": {
            "text/plain": [
              "['NAME_CONTRACT_TYPE',\n",
              " 'CODE_GENDER',\n",
              " 'FLAG_OWN_CAR',\n",
              " 'FLAG_OWN_REALTY',\n",
              " 'NAME_TYPE_SUITE',\n",
              " 'NAME_INCOME_TYPE',\n",
              " 'NAME_EDUCATION_TYPE',\n",
              " 'NAME_FAMILY_STATUS',\n",
              " 'NAME_HOUSING_TYPE',\n",
              " 'OCCUPATION_TYPE',\n",
              " 'WEEKDAY_APPR_PROCESS_START',\n",
              " 'ORGANIZATION_TYPE',\n",
              " 'HOUSETYPE_MODE',\n",
              " 'WALLSMATERIAL_MODE',\n",
              " 'EMERGENCYSTATE_MODE']"
            ]
          },
          "execution_count": 39,
          "metadata": {},
          "output_type": "execute_result"
        }
      ],
      "source": [
        "cat_cols"
      ]
    },
    {
      "cell_type": "code",
      "execution_count": null,
      "metadata": {
        "colab": {
          "base_uri": "https://localhost:8080/"
        },
        "id": "NkP4YWLd59YS",
        "outputId": "55c58944-0bbd-4a30-d294-bed8cc1f9fe3"
      },
      "outputs": [
        {
          "name": "stdout",
          "output_type": "stream",
          "text": [
            "NAME_TYPE_SUITE Unaccompanied\n",
            "WALLSMATERIAL_MODE Panel\n",
            "OCCUPATION_TYPE Laborers\n",
            "EMERGENCYSTATE_MODE No\n",
            "HOUSETYPE_MODE block of flats\n"
          ]
        }
      ],
      "source": [
        "df_Nomiss=app_train_imputed.na.drop()\n",
        "for x in cat_col_mis:                  \n",
        "  mode=df_Nomiss.groupBy(x).count().sort(col(\"count\").desc()).collect()[0][0] \n",
        "  print(x, mode) #print name of columns and it's most categories \n",
        "  app_train_imputed = app_train_imputed.na.fill({x:mode})"
      ]
    },
    {
      "cell_type": "code",
      "execution_count": null,
      "metadata": {
        "id": "ZcMXBagau1j2"
      },
      "outputs": [],
      "source": [
        "from pyspark.ml.feature import Imputer\n",
        "\n",
        "imputer = Imputer(\n",
        "      inputCols=['YEARS_BEGINEXPLUATATION_AVG',\n",
        " 'APARTMENTS_MEDI',\n",
        " 'LIVINGAREA_AVG',\n",
        " 'LIVINGAREA_MEDI',\n",
        " 'LIVINGAREA_MODE',\n",
        " 'APARTMENTS_MODE',\n",
        " 'YEARS_BEGINEXPLUATATION_MODE',\n",
        " 'OBS_30_CNT_SOCIAL_CIRCLE',\n",
        " 'APARTMENTS_AVG',\n",
        " 'ENTRANCES_AVG',\n",
        " 'YEARS_BEGINEXPLUATATION_MEDI',\n",
        " 'DEF_30_CNT_SOCIAL_CIRCLE',\n",
        " 'EXT_SOURCE_2',\n",
        " 'TOTALAREA_MODE',\n",
        " 'FLOORSMAX_AVG',\n",
        " 'EXT_SOURCE_3',\n",
        " 'ENTRANCES_MODE',\n",
        " 'ENTRANCES_MEDI',\n",
        " 'AMT_GOODS_PRICE',\n",
        " 'OBS_60_CNT_SOCIAL_CIRCLE',\n",
        " 'DEF_60_CNT_SOCIAL_CIRCLE',\n",
        " 'FLOORSMAX_MODE',\n",
        " 'FLOORSMAX_MEDI',\n",
        " 'AMT_ANNUITY'], \n",
        "      outputCols=['YEARS_BEGINEXPLUATATION_AVG',\n",
        " 'APARTMENTS_MEDI',\n",
        " 'LIVINGAREA_AVG',\n",
        " 'LIVINGAREA_MEDI',\n",
        " 'LIVINGAREA_MODE',\n",
        " 'APARTMENTS_MODE',\n",
        " 'YEARS_BEGINEXPLUATATION_MODE',\n",
        " 'OBS_30_CNT_SOCIAL_CIRCLE',\n",
        " 'APARTMENTS_AVG',\n",
        " 'ENTRANCES_AVG',\n",
        " 'YEARS_BEGINEXPLUATATION_MEDI',\n",
        " 'DEF_30_CNT_SOCIAL_CIRCLE',\n",
        " 'EXT_SOURCE_2',\n",
        " 'TOTALAREA_MODE',\n",
        " 'FLOORSMAX_AVG',\n",
        " 'EXT_SOURCE_3',\n",
        " 'ENTRANCES_MODE',\n",
        " 'ENTRANCES_MEDI',\n",
        " 'AMT_GOODS_PRICE',\n",
        " 'OBS_60_CNT_SOCIAL_CIRCLE',\n",
        " 'DEF_60_CNT_SOCIAL_CIRCLE',\n",
        " 'FLOORSMAX_MODE',\n",
        " 'FLOORSMAX_MEDI',\n",
        " 'AMT_ANNUITY']\n",
        "      ).setStrategy(\"mean\")"
      ]
    },
    {
      "cell_type": "code",
      "execution_count": null,
      "metadata": {
        "id": "VxenvFX0w5RW"
      },
      "outputs": [],
      "source": [
        "model = imputer.fit(app_train_imputed)\n",
        "app_train_imputed = model.transform(app_train_imputed)"
      ]
    },
    {
      "cell_type": "code",
      "execution_count": null,
      "metadata": {
        "colab": {
          "base_uri": "https://localhost:8080/"
        },
        "id": "9Zd7jJsxUbE4",
        "outputId": "723b0450-63fa-4b8e-a598-c8511f9c1578"
      },
      "outputs": [
        {
          "name": "stdout",
          "output_type": "stream",
          "text": [
            "+----------+------+------------------+-----------+------------+---------------+------------+----------------+----------+-----------+---------------+---------------+--------------------+--------------------+------------------+-----------------+--------------------------+----------+-------------+-----------------+---------------+----------+--------------+---------------+----------------+----------+----------+------------------+---------------+--------------------+---------------------------+--------------------------+-----------------------+--------------------------+--------------------------+---------------------------+----------------------+----------------------+-----------------------+--------------------+-------------------+-------------------+-------------------+---------------------------+-------------------+-------------------+-------------------+-------------------+----------------------------+-------------------+-------------------+------------------+-------------------+----------------------------+-------------------+-------------------+-------------------+--------------+------------------+------------------+-------------------+------------------------+------------------------+------------------------+------------------------+----------------------+---------------+---------------+---------------+---------------+---------------+---------------+---------------+---------------+----------------+----------------+----------------+----------------+----------------+----------------+----------------+----------------+----------------+----------------+----------------+----------------+--------------------------+-------------------------+--------------------------+-------------------------+-------------------------+--------------------------+------+\n",
            "|SK_ID_CURR|TARGET|NAME_CONTRACT_TYPE|CODE_GENDER|FLAG_OWN_CAR|FLAG_OWN_REALTY|CNT_CHILDREN|AMT_INCOME_TOTAL|AMT_CREDIT|AMT_ANNUITY|AMT_GOODS_PRICE|NAME_TYPE_SUITE|    NAME_INCOME_TYPE| NAME_EDUCATION_TYPE|NAME_FAMILY_STATUS|NAME_HOUSING_TYPE|REGION_POPULATION_RELATIVE|DAYS_BIRTH|DAYS_EMPLOYED|DAYS_REGISTRATION|DAYS_ID_PUBLISH|FLAG_MOBIL|FLAG_EMP_PHONE|FLAG_WORK_PHONE|FLAG_CONT_MOBILE|FLAG_PHONE|FLAG_EMAIL|   OCCUPATION_TYPE|CNT_FAM_MEMBERS|REGION_RATING_CLIENT|REGION_RATING_CLIENT_W_CITY|WEEKDAY_APPR_PROCESS_START|HOUR_APPR_PROCESS_START|REG_REGION_NOT_LIVE_REGION|REG_REGION_NOT_WORK_REGION|LIVE_REGION_NOT_WORK_REGION|REG_CITY_NOT_LIVE_CITY|REG_CITY_NOT_WORK_CITY|LIVE_CITY_NOT_WORK_CITY|   ORGANIZATION_TYPE|       EXT_SOURCE_2|       EXT_SOURCE_3|     APARTMENTS_AVG|YEARS_BEGINEXPLUATATION_AVG|      ENTRANCES_AVG|      FLOORSMAX_AVG|     LIVINGAREA_AVG|    APARTMENTS_MODE|YEARS_BEGINEXPLUATATION_MODE|     ENTRANCES_MODE|     FLOORSMAX_MODE|   LIVINGAREA_MODE|    APARTMENTS_MEDI|YEARS_BEGINEXPLUATATION_MEDI|     ENTRANCES_MEDI|     FLOORSMAX_MEDI|    LIVINGAREA_MEDI|HOUSETYPE_MODE|    TOTALAREA_MODE|WALLSMATERIAL_MODE|EMERGENCYSTATE_MODE|OBS_30_CNT_SOCIAL_CIRCLE|DEF_30_CNT_SOCIAL_CIRCLE|OBS_60_CNT_SOCIAL_CIRCLE|DEF_60_CNT_SOCIAL_CIRCLE|DAYS_LAST_PHONE_CHANGE|FLAG_DOCUMENT_2|FLAG_DOCUMENT_3|FLAG_DOCUMENT_4|FLAG_DOCUMENT_5|FLAG_DOCUMENT_6|FLAG_DOCUMENT_7|FLAG_DOCUMENT_8|FLAG_DOCUMENT_9|FLAG_DOCUMENT_10|FLAG_DOCUMENT_11|FLAG_DOCUMENT_12|FLAG_DOCUMENT_13|FLAG_DOCUMENT_14|FLAG_DOCUMENT_15|FLAG_DOCUMENT_16|FLAG_DOCUMENT_17|FLAG_DOCUMENT_18|FLAG_DOCUMENT_19|FLAG_DOCUMENT_20|FLAG_DOCUMENT_21|AMT_REQ_CREDIT_BUREAU_HOUR|AMT_REQ_CREDIT_BUREAU_DAY|AMT_REQ_CREDIT_BUREAU_WEEK|AMT_REQ_CREDIT_BUREAU_MON|AMT_REQ_CREDIT_BUREAU_QRT|AMT_REQ_CREDIT_BUREAU_YEAR|    id|\n",
            "+----------+------+------------------+-----------+------------+---------------+------------+----------------+----------+-----------+---------------+---------------+--------------------+--------------------+------------------+-----------------+--------------------------+----------+-------------+-----------------+---------------+----------+--------------+---------------+----------------+----------+----------+------------------+---------------+--------------------+---------------------------+--------------------------+-----------------------+--------------------------+--------------------------+---------------------------+----------------------+----------------------+-----------------------+--------------------+-------------------+-------------------+-------------------+---------------------------+-------------------+-------------------+-------------------+-------------------+----------------------------+-------------------+-------------------+------------------+-------------------+----------------------------+-------------------+-------------------+-------------------+--------------+------------------+------------------+-------------------+------------------------+------------------------+------------------------+------------------------+----------------------+---------------+---------------+---------------+---------------+---------------+---------------+---------------+---------------+----------------+----------------+----------------+----------------+----------------+----------------+----------------+----------------+----------------+----------------+----------------+----------------+--------------------------+-------------------------+--------------------------+-------------------------+-------------------------+--------------------------+------+\n",
            "|    100800|     0|        Cash loans|          F|           N|              Y|           0|        126000.0|  698517.0|    23215.5|       603000.0|  Unaccompanied|           Pensioner|     Lower secondary|             Widow|House / apartment|                  0.018634|    -21314|       365243|          -2486.0|          -4613|         1|             0|              0|               1|         0|         0|          Laborers|            1.0|                   2|                          2|                    FRIDAY|                     10|                         0|                         0|                          0|                     0|                     0|                      0|                 XNA| 0.2997892593212273| 0.6894791426446275|             0.0619|                     0.9871|             0.1379|             0.1667|             0.0541|              0.063|                      0.9871|             0.1379|             0.1667|            0.0563|             0.0625|                      0.9871|             0.1379|             0.1667|              0.055|block of flats|            0.0494|      Stone, brick|                 No|                     2.0|                     0.0|                     2.0|                     0.0|                -807.0|              0|              0|              0|              0|              1|              0|              0|              0|               0|               0|               0|               0|               0|               0|               0|               0|               0|               0|               0|               0|                       0.0|                      0.0|                       0.0|                      0.0|                      1.0|                       2.0|100800|\n",
            "|    105536|     0|        Cash loans|          F|           Y|              Y|           0|        180000.0|  168102.0|    12312.0|       148500.0|  Unaccompanied|             Working|Secondary / secon...|           Married|House / apartment|                   0.02461|    -19025|        -2251|          -4391.0|          -2577|         1|             1|              0|               1|         0|         0|        Core staff|            2.0|                   2|                          2|                 WEDNESDAY|                     12|                         0|                         0|                          0|                     0|                     1|                      1|          Government| 0.3382143956230168| 0.6195277080511546|0.11784763736859197|         0.9770344761060872|0.14921529452845983|0.22573746383161578|0.10763804638954336|0.11452238268126282|          0.9763223792267499|0.14465215557763988|0.22185662711371848|0.1060980153203344|0.11829808171669802|          0.9770536955445198|0.14871448333288598|0.22535817206872186|0.10891276248125112|block of flats|0.1025995947132015|             Panel|                 No|                     1.0|                     1.0|                     1.0|                     0.0|               -3096.0|              0|              1|              0|              0|              0|              0|              0|              0|               0|               0|               0|               0|               0|               0|               0|               0|               0|               0|               0|               0|                       0.0|                      0.0|                       0.0|                      1.0|                      0.0|                       6.0|105536|\n",
            "|    105665|     0|        Cash loans|          F|           N|              Y|           0|        180000.0| 1078200.0|    31653.0|       900000.0|  Unaccompanied|Commercial associate|Secondary / secon...|         Separated|House / apartment|                  0.018801|    -17292|        -1638|           -603.0|           -833|         1|             1|              0|               1|         0|         0|        Core staff|            1.0|                   2|                          2|                  THURSDAY|                      9|                         0|                         0|                          0|                     0|                     0|                      0|Business Entity T...| 0.5034131733666138| 0.6496203111237195|             0.0928|                     0.9771|             0.2069|             0.1667|             0.0856|             0.0945|                      0.9772|             0.2069|             0.1667|            0.0892|             0.0937|                      0.9771|             0.2069|             0.1667|             0.0871|block of flats|            0.0945|             Panel|                 No|                     6.0|                     0.0|                     6.0|                     0.0|               -2489.0|              0|              1|              0|              0|              0|              0|              0|              0|               0|               0|               0|               0|               0|               0|               0|               0|               0|               0|               0|               0|                       0.0|                      0.0|                       0.0|                      3.0|                      0.0|                       4.0|105665|\n",
            "|    106544|     1|        Cash loans|          F|           N|              Y|           1|        180000.0|  855000.0|    34821.0|       855000.0|  Unaccompanied|             Working|Secondary / secon...|           Married|House / apartment|                   0.04622|    -10896|         -959|           -970.0|          -3398|         1|             1|              0|               1|         0|         0|        Core staff|            3.0|                   1|                          1|                  SATURDAY|                     16|                         0|                         0|                          0|                     0|                     0|                      0|       Trade: type 3| 0.6860763696822458| 0.2735646775174348|             0.0165|                     0.9697|              0.069|             0.0833|             0.0146|             0.0168|                      0.9697|              0.069|             0.0833|            0.0152|             0.0167|                      0.9697|              0.069|             0.0833|             0.0148|block of flats|            0.0201|      Stone, brick|                 No|                     0.0|                     0.0|                     0.0|                     0.0|                -856.0|              0|              0|              0|              0|              0|              0|              0|              0|               0|               0|               0|               0|               0|               0|               0|               0|               0|               0|               0|               0|                       0.0|                      0.0|                       0.0|                      0.0|                      1.0|                       2.0|106544|\n",
            "|    107032|     0|        Cash loans|          M|           Y|              Y|           2|        157500.0|  956574.0|    38065.5|       855000.0|  Unaccompanied|Commercial associate|Secondary / secon...|           Married|House / apartment|                   0.04622|    -14680|        -3045|          -1838.0|          -4719|         1|             1|              0|               1|         0|         0|    Security staff|            4.0|                   1|                          1|                  THURSDAY|                      9|                         0|                         0|                          0|                     0|                     1|                      1|               Other| 0.4167950306125768| 0.5006209008767505|0.11784763736859197|         0.9770344761060872|0.14921529452845983|0.22573746383161578|0.10763804638954336|0.11452238268126282|          0.9763223792267499|0.14465215557763988|0.22185662711371848|0.1060980153203344|0.11829808171669802|          0.9770536955445198|0.14871448333288598|0.22535817206872186|0.10891276248125112|block of flats|0.1025995947132015|             Panel|                 No|                     1.0|                     0.0|                     1.0|                     0.0|                -137.0|              0|              1|              0|              0|              0|              0|              0|              0|               0|               0|               0|               0|               0|               0|               0|               0|               0|               0|               0|               0|                       0.0|                      0.0|                       0.0|                      0.0|                      0.0|                       2.0|107032|\n",
            "|    109172|     0|        Cash loans|          F|           N|              Y|           0|        180000.0|  259794.0|    30960.0|       229500.0|  Unaccompanied|             Working|Secondary / secon...|           Married|House / apartment|                  0.009549|    -17061|         -123|         -11182.0|           -577|         1|             1|              0|               1|         0|         1|          Managers|            2.0|                   2|                          2|                    FRIDAY|                     19|                         0|                         0|                          0|                     0|                     0|                      0|       Trade: type 7| 0.7258095731887246| 0.6971469077844458|              0.066|                     0.9767|             0.1379|             0.1667|             0.0503|             0.0672|                      0.9767|             0.1379|             0.1667|            0.0525|             0.0666|                      0.9767|             0.1379|             0.1667|             0.0513|block of flats|            0.0497|      Stone, brick|                 No|                     0.0|                     0.0|                     0.0|                     0.0|               -2587.0|              0|              1|              0|              0|              0|              0|              0|              0|               0|               0|               0|               0|               0|               0|               0|               0|               0|               0|               0|               0|                       0.0|                      0.0|                       0.0|                      1.0|                      1.0|                       1.0|109172|\n",
            "|    109608|     1|        Cash loans|          F|           N|              Y|           0|        252000.0|  877500.0|    44932.5|       877500.0|  Unaccompanied|             Working|    Higher education|           Married|House / apartment|                  0.028663|    -17123|        -7544|          -6617.0|           -181|         1|             1|              0|               1|         0|         0|          Laborers|            2.0|                   2|                          2|                 WEDNESDAY|                     14|                         0|                         0|                          0|                     0|                     1|                      1|Business Entity T...|0.17307260741296587| 0.2650494299443805|0.11784763736859197|         0.9770344761060872|0.14921529452845983|0.22573746383161578|0.10763804638954336|0.11452238268126282|          0.9763223792267499|0.14465215557763988|0.22185662711371848|0.1060980153203344|0.11829808171669802|          0.9770536955445198|0.14871448333288598|0.22535817206872186|0.10891276248125112|block of flats|0.1025995947132015|             Panel|                 No|                     3.0|                     2.0|                     3.0|                     2.0|                   0.0|              0|              1|              0|              0|              0|              0|              0|              0|               0|               0|               0|               0|               0|               0|               0|               0|               0|               0|               0|               0|                       0.0|                      0.0|                       0.0|                      0.0|                      0.0|                       2.0|109608|\n",
            "|    111300|     0|        Cash loans|          F|           N|              Y|           0|         81000.0|   75474.0|     6178.5|        63000.0|         Family|             Working|Secondary / secon...|           Married|House / apartment|                   0.00702|    -11479|        -1531|          -3623.0|          -3831|         1|             1|              1|               1|         0|         0|Low-skill Laborers|            2.0|                   2|                          2|                    MONDAY|                      9|                         0|                         0|                          0|                     0|                     0|                      0|         Agriculture|0.15223370787223794|0.36227724703843145|0.11784763736859197|         0.9770344761060872|0.14921529452845983|0.22573746383161578|0.10763804638954336|0.11452238268126282|          0.9763223792267499|0.14465215557763988|0.22185662711371848|0.1060980153203344|0.11829808171669802|          0.9770536955445198|0.14871448333288598|0.22535817206872186|0.10891276248125112|block of flats|0.1025995947132015|             Panel|                 No|                     0.0|                     0.0|                     0.0|                     0.0|                   0.0|              0|              1|              0|              0|              0|              0|              0|              0|               0|               0|               0|               0|               0|               0|               0|               0|               0|               0|               0|               0|                       0.0|                      0.0|                       0.0|                      0.0|                      0.0|                       6.0|111300|\n",
            "|    115528|     0|        Cash loans|          M|           Y|              Y|           0|        180000.0|  316125.0|    25105.5|       261000.0|  Unaccompanied|Commercial associate|Secondary / secon...|    Civil marriage|House / apartment|                   0.00963|    -15917|        -1243|           -296.0|          -2914|         1|             1|              0|               1|         0|         0|          Laborers|            2.0|                   2|                          2|                 WEDNESDAY|                     13|                         0|                         1|                          1|                     0|                     0|                      0|Business Entity T...| 0.6185223599392178|0.18195910978627852|0.11784763736859197|         0.9770344761060872|0.14921529452845983|0.22573746383161578|0.10763804638954336|0.11452238268126282|          0.9763223792267499|0.14465215557763988|0.22185662711371848|0.1060980153203344|0.11829808171669802|          0.9770536955445198|0.14871448333288598|0.22535817206872186|0.10891276248125112|block of flats|0.1025995947132015|             Panel|                 No|                     1.0|                     0.0|                     1.0|                     0.0|               -1305.0|              0|              1|              0|              0|              0|              0|              0|              0|               0|               0|               0|               0|               0|               0|               0|               0|               0|               0|               0|               0|                       0.0|                      0.0|                       0.0|                      0.0|                      0.0|                       3.0|115528|\n",
            "|    120899|     0|        Cash loans|          M|           Y|              Y|           0|        135000.0|  544491.0|    21226.5|       454500.0|  Unaccompanied|             Working|Secondary / secon...|         Separated|House / apartment|      0.016612000000000002|    -14592|        -3843|           -969.0|          -5613|         1|             1|              0|               1|         0|         0|          Laborers|            1.0|                   2|                          2|                  THURSDAY|                     18|                         0|                         0|                          0|                     0|                     0|                      0|               Other| 0.6211194348395871|  0.511891801533151|0.11784763736859197|         0.9770344761060872|0.14921529452845983|0.22573746383161578|0.10763804638954336|0.11452238268126282|          0.9763223792267499|0.14465215557763988|0.22185662711371848|0.1060980153203344|0.11829808171669802|          0.9770536955445198|0.14871448333288598|0.22535817206872186|0.10891276248125112|block of flats|0.1025995947132015|             Panel|                 No|                     0.0|                     0.0|                     0.0|                     0.0|                -491.0|              0|              1|              0|              0|              0|              0|              0|              0|               0|               0|               0|               0|               0|               0|               0|               0|               0|               0|               0|               0|                       0.0|                      0.0|                       1.0|                      0.0|                      2.0|                       3.0|120899|\n",
            "|    122128|     0|        Cash loans|          M|           N|              N|           0|        202500.0|  509400.0|    40243.5|       450000.0|  Unaccompanied|Commercial associate|Secondary / secon...|         Separated|House / apartment|      0.019688999999999998|    -15167|         -496|          -5508.0|          -5970|         1|             1|              1|               1|         0|         0|          Laborers|            1.0|                   2|                          2|                   TUESDAY|                     12|                         0|                         0|                          0|                     0|                     0|                      0|        Construction| 0.6533149514858619| 0.1385128770585923|0.11784763736859197|         0.9770344761060872|0.14921529452845983|0.22573746383161578|0.10763804638954336|0.11452238268126282|          0.9763223792267499|0.14465215557763988|0.22185662711371848|0.1060980153203344|0.11829808171669802|          0.9770536955445198|0.14871448333288598|0.22535817206872186|0.10891276248125112|block of flats|0.1025995947132015|             Panel|                 No|                     2.0|                     0.0|                     2.0|                     0.0|                -320.0|              0|              0|              0|              0|              0|              0|              1|              0|               0|               0|               0|               0|               0|               0|               0|               0|               0|               0|               0|               0|                       0.0|                      0.0|                       0.0|                      0.0|                      0.0|                       3.0|122128|\n",
            "|    126373|     0|        Cash loans|          M|           N|              N|           0|        112500.0|  785250.0|    21721.5|       562500.0|         Family|             Working|Secondary / secon...|           Married|House / apartment|                  0.025164|    -21313|        -4144|          -9191.0|          -4151|         1|             1|              0|               1|         0|         0|          Laborers|            2.0|                   2|                          2|                  SATURDAY|                      9|                         0|                         0|                          0|                     0|                     0|                      0|    Industry: type 7| 0.5917248487876975| 0.4241303111942548|             0.0082|                     0.9722|             0.0345|             0.0417|             0.0075|             0.0084|                      0.9722|             0.0345|             0.0417|            0.0078|             0.0083|                      0.9722|             0.0345|             0.0417|             0.0077|block of flats|            0.0059|             Mixed|                 No|                     6.0|                     0.0|                     6.0|                     0.0|                  -4.0|              0|              1|              0|              0|              0|              0|              0|              0|               0|               0|               0|               0|               0|               0|               0|               0|               0|               0|               0|               0|                       0.0|                      0.0|                       0.0|                      0.0|                      0.0|                       1.0|126373|\n",
            "|    128589|     0|        Cash loans|          F|           Y|              Y|           0|        292500.0|  472500.0|    17100.0|       472500.0|  Unaccompanied|Commercial associate|    Higher education|           Married|House / apartment|      0.026392000000000002|    -17164|         -857|          -9569.0|           -701|         1|             1|              0|               1|         1|         0|       Accountants|            2.0|                   2|                          2|                 WEDNESDAY|                     14|                         0|                         0|                          0|                     0|                     0|                      0|   Transport: type 4| 0.6631727297778426| 0.5028782772082183|             0.1856|                     0.9826|             0.1724|             0.3333|             0.1913|             0.1891|                      0.9826|             0.1724|             0.3333|            0.1993|             0.1874|                      0.9826|             0.1724|             0.3333|             0.1948|block of flats|            0.1512|             Panel|                 No|                     7.0|                     0.0|                     7.0|                     0.0|                   0.0|              0|              1|              0|              0|              0|              0|              0|              0|               0|               0|               0|               0|               0|               0|               0|               0|               0|               0|               0|               0|                       0.0|                      0.0|                       0.0|                      3.0|                      1.0|                       1.0|128589|\n",
            "|    132318|     0|        Cash loans|          F|           N|              Y|           2|        315000.0| 1236816.0|    36292.5|      1080000.0|         Family|       State servant|    Higher education|         Separated|     With parents|                   0.00963|    -13268|        -2630|          -1661.0|          -5384|         1|             1|              0|               1|         0|         0|          Laborers|            3.0|                   2|                          2|                  THURSDAY|                     15|                         0|                         0|                          0|                     0|                     0|                      0|            Religion| 0.5261916516652058|0.43473324875017305|             0.0866|                     0.9786|             0.1379|             0.1667|             0.0767|             0.0882|                      0.9786|             0.1379|             0.1667|            0.0799|             0.0874|                      0.9786|             0.1379|             0.1667|              0.078|block of flats|             0.065|             Panel|                 No|                     2.0|                     0.0|                     2.0|                     0.0|                -924.0|              0|              1|              0|              0|              0|              0|              0|              0|               0|               0|               0|               0|               0|               0|               0|               0|               0|               0|               0|               0|                       0.0|                      0.0|                       1.0|                      0.0|                      0.0|                       2.0|132318|\n",
            "|    133018|     0|        Cash loans|          F|           N|              Y|           2|        135000.0|  183694.5|    14643.0|       139500.0|  Unaccompanied|             Working|Secondary / secon...|    Civil marriage|House / apartment|      0.019688999999999998|    -14530|         -658|          -7095.0|          -4652|         1|             1|              0|               1|         0|         0|          Laborers|            4.0|                   2|                          2|                    MONDAY|                     12|                         0|                         0|                          0|                     0|                     0|                      0| Security Ministries| 0.7128535175898938|0.41885428862332175|             0.0155|                     0.9707|              0.069|             0.0417|              0.008|             0.0158|                      0.9707|              0.069|             0.0417|            0.0083|             0.0156|                      0.9707|              0.069|             0.0417|             0.0081|block of flats|            0.0063|            Others|                 No|                     0.0|                     0.0|                     0.0|                     0.0|                -452.0|              0|              1|              0|              0|              0|              0|              0|              0|               0|               0|               0|               0|               0|               0|               0|               0|               0|               0|               0|               0|                       0.0|                      0.0|                       1.0|                      1.0|                      0.0|                       3.0|133018|\n",
            "|    134205|     0|        Cash loans|          F|           N|              N|           0|         90000.0|  198666.0|    20988.0|       175500.0|  Unaccompanied|             Working|Secondary / secon...|           Married|House / apartment|                  0.010147|    -15027|        -2677|          -3697.0|          -5172|         1|             1|              0|               1|         0|         0|          Laborers|            2.0|                   2|                          2|                  THURSDAY|                     15|                         0|                         0|                          0|                     0|                     1|                      1|       Self-employed| 0.2522357026256388| 0.8435435389318647|0.11784763736859197|         0.9770344761060872|0.14921529452845983|0.22573746383161578|0.10763804638954336|0.11452238268126282|          0.9763223792267499|0.14465215557763988|0.22185662711371848|0.1060980153203344|0.11829808171669802|          0.9770536955445198|0.14871448333288598|0.22535817206872186|0.10891276248125112|block of flats|0.1025995947132015|             Panel|                 No|                     0.0|                     0.0|                     0.0|                     0.0|                   0.0|              0|              1|              0|              0|              0|              0|              0|              0|               0|               0|               0|               0|               0|               0|               0|               0|               0|               0|               0|               0|                       0.0|                      0.0|                       0.0|                      0.0|                      0.0|                       1.0|134205|\n",
            "|    134748|     0|        Cash loans|          F|           N|              Y|           0|         90000.0| 1024290.0|    30078.0|       855000.0|  Unaccompanied|           Pensioner|Secondary / secon...|           Married|House / apartment|                  0.006852|    -22667|       365243|          -4217.0|          -4268|         1|             0|              0|               1|         0|         0|          Laborers|            2.0|                   3|                          3|                  SATURDAY|                      5|                         0|                         0|                          0|                     0|                     0|                      0|                 XNA|  0.523175835628645| 0.5190973382084597|0.11784763736859197|         0.9770344761060872|0.14921529452845983|0.22573746383161578|0.10763804638954336|0.11452238268126282|          0.9763223792267499|0.14465215557763988|0.22185662711371848|0.1060980153203344|0.11829808171669802|          0.9770536955445198|0.14871448333288598|0.22535817206872186|0.10891276248125112|block of flats|0.1025995947132015|             Panel|                 No|                     0.0|                     0.0|                     0.0|                     0.0|               -1823.0|              0|              1|              0|              0|              0|              0|              0|              0|               0|               0|               0|               0|               0|               0|               0|               0|               0|               0|               0|               0|                       0.0|                      0.0|                       0.0|                      0.0|                      0.0|                       3.0|134748|\n",
            "|    137793|     0|        Cash loans|          F|           N|              Y|           1|         45000.0|  261288.0|     9981.0|       171000.0|  Unaccompanied|             Working|Secondary / secon...|           Married|House / apartment|                  0.010147|    -15189|         -540|          -5088.0|          -4571|         1|             1|              0|               1|         1|         0|       Sales staff|            3.0|                   2|                          2|                  THURSDAY|                     12|                         0|                         0|                          0|                     0|                     0|                      0|       Trade: type 7|0.49739966467570096|  0.722392890081304|             0.1206|                     0.9901|             0.1724|             0.3333|0.10763804638954336|             0.1229|                      0.9901|             0.1724|             0.3333|0.1060980153203344|             0.1218|                      0.9901|             0.1724|             0.3333|0.10891276248125112|block of flats|            0.1207|        Monolithic|                 No|                     0.0|                     0.0|                     0.0|                     0.0|               -1741.0|              0|              1|              0|              0|              0|              0|              0|              0|               0|               0|               0|               0|               0|               0|               0|               0|               0|               0|               0|               0|                       0.0|                      0.0|                       0.0|                      1.0|                      0.0|                       2.0|137793|\n",
            "|    139024|     0|        Cash loans|          M|           Y|              Y|           0|        270000.0|  675000.0|    80239.5|       675000.0|  Unaccompanied|             Working|Secondary / secon...|           Married|House / apartment|      0.026392000000000002|    -18557|        -2004|         -10765.0|          -2094|         1|             1|              0|               1|         0|         0|          Laborers|            2.0|                   2|                          2|                  THURSDAY|                     15|                         0|                         0|                          0|                     0|                     1|                      1|               Hotel| 0.5931610135755393| 0.5814837058057234|0.11784763736859197|         0.9770344761060872|0.14921529452845983|0.22573746383161578|0.10763804638954336|0.11452238268126282|          0.9763223792267499|0.14465215557763988|0.22185662711371848|0.1060980153203344|0.11829808171669802|          0.9770536955445198|0.14871448333288598|0.22535817206872186|0.10891276248125112|block of flats|0.1025995947132015|             Panel|                 No|                     0.0|                     0.0|                     0.0|                     0.0|               -1816.0|              0|              1|              0|              0|              0|              0|              0|              0|               0|               0|               0|               0|               0|               0|               0|               0|               0|               0|               0|               0|                       0.0|                      0.0|                       0.0|                      0.0|                      0.0|                       1.0|139024|\n",
            "|    141299|     0|        Cash loans|          M|           N|              N|           0|        351000.0|  390960.0|    17352.0|       337500.0|  Unaccompanied|Commercial associate|    Higher education|           Married|House / apartment|                  0.019101|    -22658|        -1256|          -6113.0|          -4127|         1|             1|              0|               1|         1|         0|          Managers|            2.0|                   2|                          2|                   TUESDAY|                      9|                         0|                         1|                          1|                     0|                     1|                      1|Business Entity T...| 0.6762365044209457|0.34090642641523844|             0.1155|                     0.9911|             0.2759|             0.1667|             0.1206|             0.1176|                      0.9911|             0.2759|             0.1667|            0.1256|             0.1166|                      0.9911|             0.2759|             0.1667|             0.1228|block of flats|            0.0948|      Stone, brick|                 No|                     0.0|                     0.0|                     0.0|                     0.0|                -260.0|              0|              1|              0|              0|              0|              0|              0|              0|               0|               0|               0|               0|               0|               0|               0|               0|               0|               0|               0|               0|                       0.0|                      0.0|                       0.0|                      1.0|                      0.0|                       2.0|141299|\n",
            "+----------+------+------------------+-----------+------------+---------------+------------+----------------+----------+-----------+---------------+---------------+--------------------+--------------------+------------------+-----------------+--------------------------+----------+-------------+-----------------+---------------+----------+--------------+---------------+----------------+----------+----------+------------------+---------------+--------------------+---------------------------+--------------------------+-----------------------+--------------------------+--------------------------+---------------------------+----------------------+----------------------+-----------------------+--------------------+-------------------+-------------------+-------------------+---------------------------+-------------------+-------------------+-------------------+-------------------+----------------------------+-------------------+-------------------+------------------+-------------------+----------------------------+-------------------+-------------------+-------------------+--------------+------------------+------------------+-------------------+------------------------+------------------------+------------------------+------------------------+----------------------+---------------+---------------+---------------+---------------+---------------+---------------+---------------+---------------+----------------+----------------+----------------+----------------+----------------+----------------+----------------+----------------+----------------+----------------+----------------+----------------+--------------------------+-------------------------+--------------------------+-------------------------+-------------------------+--------------------------+------+\n",
            "only showing top 20 rows\n",
            "\n"
          ]
        }
      ],
      "source": [
        "app_train_imputed.show()"
      ]
    },
    {
      "cell_type": "code",
      "execution_count": null,
      "metadata": {
        "colab": {
          "base_uri": "https://localhost:8080/"
        },
        "id": "qBRLYJfD59gO",
        "outputId": "31f35289-9471-46ce-f32c-0b347f9eaeb5"
      },
      "outputs": [
        {
          "name": "stdout",
          "output_type": "stream",
          "text": [
            "+----------+------+------------------+-----------+------------+---------------+------------+----------------+----------+-----------+---------------+---------------+----------------+-------------------+------------------+-----------------+--------------------------+----------+-------------+-----------------+---------------+----------+--------------+---------------+----------------+----------+----------+---------------+---------------+--------------------+---------------------------+--------------------------+-----------------------+--------------------------+--------------------------+---------------------------+----------------------+----------------------+-----------------------+-----------------+------------+------------+--------------+---------------------------+-------------+-------------+--------------+---------------+----------------------------+--------------+--------------+---------------+---------------+----------------------------+--------------+--------------+---------------+--------------+--------------+------------------+-------------------+------------------------+------------------------+------------------------+------------------------+----------------------+---------------+---------------+---------------+---------------+---------------+---------------+---------------+---------------+----------------+----------------+----------------+----------------+----------------+----------------+----------------+----------------+----------------+----------------+----------------+----------------+--------------------------+-------------------------+--------------------------+-------------------------+-------------------------+--------------------------+---+\n",
            "|SK_ID_CURR|TARGET|NAME_CONTRACT_TYPE|CODE_GENDER|FLAG_OWN_CAR|FLAG_OWN_REALTY|CNT_CHILDREN|AMT_INCOME_TOTAL|AMT_CREDIT|AMT_ANNUITY|AMT_GOODS_PRICE|NAME_TYPE_SUITE|NAME_INCOME_TYPE|NAME_EDUCATION_TYPE|NAME_FAMILY_STATUS|NAME_HOUSING_TYPE|REGION_POPULATION_RELATIVE|DAYS_BIRTH|DAYS_EMPLOYED|DAYS_REGISTRATION|DAYS_ID_PUBLISH|FLAG_MOBIL|FLAG_EMP_PHONE|FLAG_WORK_PHONE|FLAG_CONT_MOBILE|FLAG_PHONE|FLAG_EMAIL|OCCUPATION_TYPE|CNT_FAM_MEMBERS|REGION_RATING_CLIENT|REGION_RATING_CLIENT_W_CITY|WEEKDAY_APPR_PROCESS_START|HOUR_APPR_PROCESS_START|REG_REGION_NOT_LIVE_REGION|REG_REGION_NOT_WORK_REGION|LIVE_REGION_NOT_WORK_REGION|REG_CITY_NOT_LIVE_CITY|REG_CITY_NOT_WORK_CITY|LIVE_CITY_NOT_WORK_CITY|ORGANIZATION_TYPE|EXT_SOURCE_2|EXT_SOURCE_3|APARTMENTS_AVG|YEARS_BEGINEXPLUATATION_AVG|ENTRANCES_AVG|FLOORSMAX_AVG|LIVINGAREA_AVG|APARTMENTS_MODE|YEARS_BEGINEXPLUATATION_MODE|ENTRANCES_MODE|FLOORSMAX_MODE|LIVINGAREA_MODE|APARTMENTS_MEDI|YEARS_BEGINEXPLUATATION_MEDI|ENTRANCES_MEDI|FLOORSMAX_MEDI|LIVINGAREA_MEDI|HOUSETYPE_MODE|TOTALAREA_MODE|WALLSMATERIAL_MODE|EMERGENCYSTATE_MODE|OBS_30_CNT_SOCIAL_CIRCLE|DEF_30_CNT_SOCIAL_CIRCLE|OBS_60_CNT_SOCIAL_CIRCLE|DEF_60_CNT_SOCIAL_CIRCLE|DAYS_LAST_PHONE_CHANGE|FLAG_DOCUMENT_2|FLAG_DOCUMENT_3|FLAG_DOCUMENT_4|FLAG_DOCUMENT_5|FLAG_DOCUMENT_6|FLAG_DOCUMENT_7|FLAG_DOCUMENT_8|FLAG_DOCUMENT_9|FLAG_DOCUMENT_10|FLAG_DOCUMENT_11|FLAG_DOCUMENT_12|FLAG_DOCUMENT_13|FLAG_DOCUMENT_14|FLAG_DOCUMENT_15|FLAG_DOCUMENT_16|FLAG_DOCUMENT_17|FLAG_DOCUMENT_18|FLAG_DOCUMENT_19|FLAG_DOCUMENT_20|FLAG_DOCUMENT_21|AMT_REQ_CREDIT_BUREAU_HOUR|AMT_REQ_CREDIT_BUREAU_DAY|AMT_REQ_CREDIT_BUREAU_WEEK|AMT_REQ_CREDIT_BUREAU_MON|AMT_REQ_CREDIT_BUREAU_QRT|AMT_REQ_CREDIT_BUREAU_YEAR| id|\n",
            "+----------+------+------------------+-----------+------------+---------------+------------+----------------+----------+-----------+---------------+---------------+----------------+-------------------+------------------+-----------------+--------------------------+----------+-------------+-----------------+---------------+----------+--------------+---------------+----------------+----------+----------+---------------+---------------+--------------------+---------------------------+--------------------------+-----------------------+--------------------------+--------------------------+---------------------------+----------------------+----------------------+-----------------------+-----------------+------------+------------+--------------+---------------------------+-------------+-------------+--------------+---------------+----------------------------+--------------+--------------+---------------+---------------+----------------------------+--------------+--------------+---------------+--------------+--------------+------------------+-------------------+------------------------+------------------------+------------------------+------------------------+----------------------+---------------+---------------+---------------+---------------+---------------+---------------+---------------+---------------+----------------+----------------+----------------+----------------+----------------+----------------+----------------+----------------+----------------+----------------+----------------+----------------+--------------------------+-------------------------+--------------------------+-------------------------+-------------------------+--------------------------+---+\n",
            "|         0|     0|                 0|          0|           0|              0|           0|               0|         0|          0|              0|              0|               0|                  0|                 0|                0|                         0|         0|            0|                0|              0|         0|             0|              0|               0|         0|         0|              0|              0|                   0|                          0|                         0|                      0|                         0|                         0|                          0|                     0|                     0|                      0|                0|           0|           0|             0|                          0|            0|            0|             0|              0|                           0|             0|             0|              0|              0|                           0|             0|             0|              0|             0|             0|                 0|                  0|                       0|                       0|                       0|                       0|                     0|              0|              0|              0|              0|              0|              0|              0|              0|               0|               0|               0|               0|               0|               0|               0|               0|               0|               0|               0|               0|                         0|                        0|                         0|                        0|                        0|                         0|  0|\n",
            "+----------+------+------------------+-----------+------------+---------------+------------+----------------+----------+-----------+---------------+---------------+----------------+-------------------+------------------+-----------------+--------------------------+----------+-------------+-----------------+---------------+----------+--------------+---------------+----------------+----------+----------+---------------+---------------+--------------------+---------------------------+--------------------------+-----------------------+--------------------------+--------------------------+---------------------------+----------------------+----------------------+-----------------------+-----------------+------------+------------+--------------+---------------------------+-------------+-------------+--------------+---------------+----------------------------+--------------+--------------+---------------+---------------+----------------------------+--------------+--------------+---------------+--------------+--------------+------------------+-------------------+------------------------+------------------------+------------------------+------------------------+----------------------+---------------+---------------+---------------+---------------+---------------+---------------+---------------+---------------+----------------+----------------+----------------+----------------+----------------+----------------+----------------+----------------+----------------+----------------+----------------+----------------+--------------------------+-------------------------+--------------------------+-------------------------+-------------------------+--------------------------+---+\n",
            "\n"
          ]
        }
      ],
      "source": [
        "app_train_imputed.select([count(when(col(c).isNull(), c)).alias(c) for c in app_train_imputed.columns]).show()"
      ]
    },
    {
      "cell_type": "code",
      "execution_count": null,
      "metadata": {
        "id": "WWtRVasq59jU"
      },
      "outputs": [],
      "source": [
        "app_train_imputed = app_train_imputed.drop('id')"
      ]
    },
    {
      "cell_type": "code",
      "execution_count": null,
      "metadata": {
        "id": "fZA4j_a7jP2p"
      },
      "outputs": [],
      "source": [
        "from pyspark.ml.feature import OneHotEncoder\n",
        "\n",
        "from pyspark.ml.feature import StringIndexer\n",
        "indexer = StringIndexer(inputCols=['NAME_CONTRACT_TYPE',\n",
        " 'CODE_GENDER',\n",
        " 'FLAG_OWN_CAR',\n",
        " 'FLAG_OWN_REALTY',\n",
        " 'NAME_TYPE_SUITE',\n",
        " 'NAME_INCOME_TYPE',\n",
        " 'NAME_EDUCATION_TYPE',\n",
        " 'NAME_FAMILY_STATUS',\n",
        " 'NAME_HOUSING_TYPE',\n",
        " 'OCCUPATION_TYPE',\n",
        " 'WEEKDAY_APPR_PROCESS_START',\n",
        " 'ORGANIZATION_TYPE',\n",
        " 'HOUSETYPE_MODE',\n",
        " 'WALLSMATERIAL_MODE',\n",
        " 'EMERGENCYSTATE_MODE'],outputCols=['NAME_CONTRACT_TYPE_indexed',\n",
        " 'CODE_GENDER_indexed',\n",
        " 'FLAG_OWN_CAR_indexed',\n",
        " 'FLAG_OWN_REALTY_indexed',\n",
        " 'NAME_TYPE_SUITE_indexed',\n",
        " 'NAME_INCOME_TYPE_indexed',\n",
        " 'NAME_EDUCATION_TYPE_indexed',\n",
        " 'NAME_FAMILY_STATUS_indexed',\n",
        " 'NAME_HOUSING_TYPE_indexed',\n",
        " 'OCCUPATION_TYPE_indexed',\n",
        " 'WEEKDAY_APPR_PROCESS_START_indexed',\n",
        " 'ORGANIZATION_TYPE_indexed',\n",
        " 'HOUSETYPE_MODE_indexed',\n",
        " 'WALLSMATERIAL_MODE_indexed',\n",
        " 'EMERGENCYSTATE_MODE'+'_indexed'])\n"
      ]
    },
    {
      "cell_type": "code",
      "execution_count": null,
      "metadata": {
        "id": "7l3jBYEi0U8x"
      },
      "outputs": [],
      "source": [
        "app_train_indexer = indexer.fit(app_train_imputed).transform(app_train_imputed)"
      ]
    },
    {
      "cell_type": "code",
      "execution_count": null,
      "metadata": {
        "colab": {
          "base_uri": "https://localhost:8080/"
        },
        "id": "7ux29hlA0xge",
        "outputId": "1be76e7e-625e-4b0a-c914-816bae91655d"
      },
      "outputs": [
        {
          "name": "stdout",
          "output_type": "stream",
          "text": [
            "+----------+------+------------------+-----------+------------+---------------+------------+----------------+----------+-----------+---------------+---------------+----------------+--------------------+--------------------+-----------------+--------------------------+----------+-------------+-----------------+---------------+----------+--------------+---------------+----------------+----------+----------+---------------+---------------+--------------------+---------------------------+--------------------------+-----------------------+--------------------------+--------------------------+---------------------------+----------------------+----------------------+-----------------------+-----------------+-------------------+------------------+-------------------+---------------------------+-------------------+-------------------+-------------------+-------------------+----------------------------+-------------------+-------------------+------------------+-------------------+----------------------------+-------------------+-------------------+-------------------+--------------+------------------+------------------+-------------------+------------------------+------------------------+------------------------+------------------------+----------------------+---------------+---------------+---------------+---------------+---------------+---------------+---------------+---------------+----------------+----------------+----------------+----------------+----------------+----------------+----------------+----------------+----------------+----------------+----------------+----------------+--------------------------+-------------------------+--------------------------+-------------------------+-------------------------+--------------------------+--------------------------+-------------------+--------------------+-----------------------+-----------------------+------------------------+---------------------------+--------------------------+-------------------------+-----------------------+----------------------------------+-------------------------+----------------------+--------------------------+---------------------------+\n",
            "|SK_ID_CURR|TARGET|NAME_CONTRACT_TYPE|CODE_GENDER|FLAG_OWN_CAR|FLAG_OWN_REALTY|CNT_CHILDREN|AMT_INCOME_TOTAL|AMT_CREDIT|AMT_ANNUITY|AMT_GOODS_PRICE|NAME_TYPE_SUITE|NAME_INCOME_TYPE| NAME_EDUCATION_TYPE|  NAME_FAMILY_STATUS|NAME_HOUSING_TYPE|REGION_POPULATION_RELATIVE|DAYS_BIRTH|DAYS_EMPLOYED|DAYS_REGISTRATION|DAYS_ID_PUBLISH|FLAG_MOBIL|FLAG_EMP_PHONE|FLAG_WORK_PHONE|FLAG_CONT_MOBILE|FLAG_PHONE|FLAG_EMAIL|OCCUPATION_TYPE|CNT_FAM_MEMBERS|REGION_RATING_CLIENT|REGION_RATING_CLIENT_W_CITY|WEEKDAY_APPR_PROCESS_START|HOUR_APPR_PROCESS_START|REG_REGION_NOT_LIVE_REGION|REG_REGION_NOT_WORK_REGION|LIVE_REGION_NOT_WORK_REGION|REG_CITY_NOT_LIVE_CITY|REG_CITY_NOT_WORK_CITY|LIVE_CITY_NOT_WORK_CITY|ORGANIZATION_TYPE|       EXT_SOURCE_2|      EXT_SOURCE_3|     APARTMENTS_AVG|YEARS_BEGINEXPLUATATION_AVG|      ENTRANCES_AVG|      FLOORSMAX_AVG|     LIVINGAREA_AVG|    APARTMENTS_MODE|YEARS_BEGINEXPLUATATION_MODE|     ENTRANCES_MODE|     FLOORSMAX_MODE|   LIVINGAREA_MODE|    APARTMENTS_MEDI|YEARS_BEGINEXPLUATATION_MEDI|     ENTRANCES_MEDI|     FLOORSMAX_MEDI|    LIVINGAREA_MEDI|HOUSETYPE_MODE|    TOTALAREA_MODE|WALLSMATERIAL_MODE|EMERGENCYSTATE_MODE|OBS_30_CNT_SOCIAL_CIRCLE|DEF_30_CNT_SOCIAL_CIRCLE|OBS_60_CNT_SOCIAL_CIRCLE|DEF_60_CNT_SOCIAL_CIRCLE|DAYS_LAST_PHONE_CHANGE|FLAG_DOCUMENT_2|FLAG_DOCUMENT_3|FLAG_DOCUMENT_4|FLAG_DOCUMENT_5|FLAG_DOCUMENT_6|FLAG_DOCUMENT_7|FLAG_DOCUMENT_8|FLAG_DOCUMENT_9|FLAG_DOCUMENT_10|FLAG_DOCUMENT_11|FLAG_DOCUMENT_12|FLAG_DOCUMENT_13|FLAG_DOCUMENT_14|FLAG_DOCUMENT_15|FLAG_DOCUMENT_16|FLAG_DOCUMENT_17|FLAG_DOCUMENT_18|FLAG_DOCUMENT_19|FLAG_DOCUMENT_20|FLAG_DOCUMENT_21|AMT_REQ_CREDIT_BUREAU_HOUR|AMT_REQ_CREDIT_BUREAU_DAY|AMT_REQ_CREDIT_BUREAU_WEEK|AMT_REQ_CREDIT_BUREAU_MON|AMT_REQ_CREDIT_BUREAU_QRT|AMT_REQ_CREDIT_BUREAU_YEAR|NAME_CONTRACT_TYPE_indexed|CODE_GENDER_indexed|FLAG_OWN_CAR_indexed|FLAG_OWN_REALTY_indexed|NAME_TYPE_SUITE_indexed|NAME_INCOME_TYPE_indexed|NAME_EDUCATION_TYPE_indexed|NAME_FAMILY_STATUS_indexed|NAME_HOUSING_TYPE_indexed|OCCUPATION_TYPE_indexed|WEEKDAY_APPR_PROCESS_START_indexed|ORGANIZATION_TYPE_indexed|HOUSETYPE_MODE_indexed|WALLSMATERIAL_MODE_indexed|EMERGENCYSTATE_MODE_indexed|\n",
            "+----------+------+------------------+-----------+------------+---------------+------------+----------------+----------+-----------+---------------+---------------+----------------+--------------------+--------------------+-----------------+--------------------------+----------+-------------+-----------------+---------------+----------+--------------+---------------+----------------+----------+----------+---------------+---------------+--------------------+---------------------------+--------------------------+-----------------------+--------------------------+--------------------------+---------------------------+----------------------+----------------------+-----------------------+-----------------+-------------------+------------------+-------------------+---------------------------+-------------------+-------------------+-------------------+-------------------+----------------------------+-------------------+-------------------+------------------+-------------------+----------------------------+-------------------+-------------------+-------------------+--------------+------------------+------------------+-------------------+------------------------+------------------------+------------------------+------------------------+----------------------+---------------+---------------+---------------+---------------+---------------+---------------+---------------+---------------+----------------+----------------+----------------+----------------+----------------+----------------+----------------+----------------+----------------+----------------+----------------+----------------+--------------------------+-------------------------+--------------------------+-------------------------+-------------------------+--------------------------+--------------------------+-------------------+--------------------+-----------------------+-----------------------+------------------------+---------------------------+--------------------------+-------------------------+-----------------------+----------------------------------+-------------------------+----------------------+--------------------------+---------------------------+\n",
            "|    100011|     0|        Cash loans|          F|           N|              Y|           0|        112500.0| 1019610.0|    33826.5|       913500.0|       Children|       Pensioner|Secondary / secon...|             Married|House / apartment|                  0.018634|    -20099|       365243|          -7427.0|          -3514|         1|             0|              0|               1|         0|         0|       Laborers|            2.0|                   2|                          2|                 WEDNESDAY|                     14|                         0|                         0|                          0|                     0|                     0|                      0|              XNA|0.20574728800732814|0.7517237147741489|0.11784763736859197|         0.9770344761060872|0.14921529452845983|0.22573746383161578|0.10763804638954336|0.11452238268126282|          0.9763223792267499|0.14465215557763988|0.22185662711371848|0.1060980153203344|0.11829808171669802|          0.9770536955445198|0.14871448333288598|0.22535817206872186|0.10891276248125112|block of flats|0.1025995947132015|             Panel|                 No|                     1.0|                     0.0|                     1.0|                     0.0|                   0.0|              0|              1|              0|              0|              0|              0|              0|              0|               0|               0|               0|               0|               0|               0|               0|               0|               0|               0|               0|               0|                       0.0|                      0.0|                       0.0|                      0.0|                      0.0|                       1.0|                       0.0|                0.0|                 0.0|                    0.0|                    3.0|                     2.0|                        0.0|                       0.0|                      0.0|                    0.0|                               1.0|                      1.0|                   0.0|                       0.0|                        0.0|\n",
            "|    100023|     0|        Cash loans|          F|           N|              Y|           1|         90000.0|  544491.0|    17563.5|       454500.0|  Unaccompanied|   State servant|    Higher education|Single / not married|House / apartment|                  0.015221|    -11348|        -2038|          -1021.0|          -3964|         1|             1|              1|               1|         1|         0|     Core staff|            2.0|                   2|                          2|                    MONDAY|                     12|                         0|                         0|                          0|                     0|                     0|                      0|     Kindergarten| 0.5866171400119664|0.4776491548517548|0.11784763736859197|         0.9770344761060872|0.14921529452845983|0.22573746383161578|0.10763804638954336|0.11452238268126282|          0.9763223792267499|0.14465215557763988|0.22185662711371848|0.1060980153203344|0.11829808171669802|          0.9770536955445198|0.14871448333288598|0.22535817206872186|0.10891276248125112|block of flats|0.1025995947132015|             Panel|                 No|                     0.0|                     0.0|                     0.0|                     0.0|               -1850.0|              0|              1|              0|              0|              0|              0|              0|              0|               0|               0|               0|               0|               0|               0|               0|               0|               0|               0|               0|               0|                       0.0|                      0.0|                       0.0|                      0.0|                      0.0|                       2.0|                       0.0|                0.0|                 0.0|                    0.0|                    0.0|                     3.0|                        1.0|                       1.0|                      0.0|                    2.0|                               2.0|                      9.0|                   0.0|                       0.0|                        0.0|\n",
            "+----------+------+------------------+-----------+------------+---------------+------------+----------------+----------+-----------+---------------+---------------+----------------+--------------------+--------------------+-----------------+--------------------------+----------+-------------+-----------------+---------------+----------+--------------+---------------+----------------+----------+----------+---------------+---------------+--------------------+---------------------------+--------------------------+-----------------------+--------------------------+--------------------------+---------------------------+----------------------+----------------------+-----------------------+-----------------+-------------------+------------------+-------------------+---------------------------+-------------------+-------------------+-------------------+-------------------+----------------------------+-------------------+-------------------+------------------+-------------------+----------------------------+-------------------+-------------------+-------------------+--------------+------------------+------------------+-------------------+------------------------+------------------------+------------------------+------------------------+----------------------+---------------+---------------+---------------+---------------+---------------+---------------+---------------+---------------+----------------+----------------+----------------+----------------+----------------+----------------+----------------+----------------+----------------+----------------+----------------+----------------+--------------------------+-------------------------+--------------------------+-------------------------+-------------------------+--------------------------+--------------------------+-------------------+--------------------+-----------------------+-----------------------+------------------------+---------------------------+--------------------------+-------------------------+-----------------------+----------------------------------+-------------------------+----------------------+--------------------------+---------------------------+\n",
            "only showing top 2 rows\n",
            "\n"
          ]
        }
      ],
      "source": [
        "app_train_indexer.show(2)"
      ]
    },
    {
      "cell_type": "code",
      "execution_count": null,
      "metadata": {
        "id": "Lu7CZBHw3fDD"
      },
      "outputs": [],
      "source": [
        "app_train_indexer = app_train_indexer.drop('NAME_CONTRACT_TYPE',\n",
        " 'CODE_GENDER',\n",
        " 'FLAG_OWN_CAR',\n",
        " 'FLAG_OWN_REALTY',\n",
        " 'NAME_TYPE_SUITE',\n",
        " 'NAME_INCOME_TYPE',\n",
        " 'NAME_EDUCATION_TYPE',\n",
        " 'NAME_FAMILY_STATUS',\n",
        " 'NAME_HOUSING_TYPE',\n",
        " 'OCCUPATION_TYPE',\n",
        " 'WEEKDAY_APPR_PROCESS_START',\n",
        " 'ORGANIZATION_TYPE',\n",
        " 'HOUSETYPE_MODE',\n",
        " 'WALLSMATERIAL_MODE',\n",
        " 'EMERGENCYSTATE_MODE')"
      ]
    },
    {
      "cell_type": "code",
      "execution_count": null,
      "metadata": {
        "id": "2igIMmNt3FA4"
      },
      "outputs": [],
      "source": [
        "encoder = OneHotEncoder(inputCols=['NAME_CONTRACT_TYPE_indexed',\n",
        " 'CODE_GENDER_indexed',\n",
        " 'FLAG_OWN_CAR_indexed',\n",
        " 'FLAG_OWN_REALTY_indexed',\n",
        " 'NAME_TYPE_SUITE_indexed',\n",
        " 'NAME_INCOME_TYPE_indexed',\n",
        " 'NAME_EDUCATION_TYPE_indexed',\n",
        " 'NAME_FAMILY_STATUS_indexed',\n",
        " 'NAME_HOUSING_TYPE_indexed',\n",
        " 'OCCUPATION_TYPE_indexed',\n",
        " 'WEEKDAY_APPR_PROCESS_START_indexed',\n",
        " 'ORGANIZATION_TYPE_indexed',\n",
        " 'HOUSETYPE_MODE_indexed',\n",
        " 'WALLSMATERIAL_MODE_indexed',\n",
        " 'EMERGENCYSTATE_MODE_indexed'],\n",
        "                                 outputCols=['NAME_CONTRACT_TYPE_en',\n",
        " 'CODE_GENDER_en',\n",
        " 'FLAG_OWN_CAR_en',\n",
        " 'FLAG_OWN_REALTY_en',\n",
        " 'NAME_TYPE_SUITE_en',\n",
        " 'NAME_INCOME_TYPE_en',\n",
        " 'NAME_EDUCATION_TYPE_en',\n",
        " 'NAME_FAMILY_STATUS_en',\n",
        " 'NAME_HOUSING_TYPE_en',\n",
        " 'OCCUPATION_TYPE_en',\n",
        " 'WEEKDAY_APPR_PROCESS_START_en',\n",
        " 'ORGANIZATION_TYPE_en',\n",
        " 'HOUSETYPE_MODE_en',\n",
        " 'WALLSMATERIAL_MODE_en',\n",
        " 'EMERGENCYSTATE_MODE_en'])"
      ]
    },
    {
      "cell_type": "code",
      "execution_count": null,
      "metadata": {
        "id": "GvhT5K5R3FDe"
      },
      "outputs": [],
      "source": [
        "app_train_encoded = encoder.fit(app_train_indexer).transform(app_train_indexer)"
      ]
    },
    {
      "cell_type": "code",
      "execution_count": null,
      "metadata": {
        "colab": {
          "base_uri": "https://localhost:8080/"
        },
        "id": "ZFQjkgz63FGW",
        "outputId": "008b75a7-2c50-46f2-885f-a13bd7fc46e8"
      },
      "outputs": [
        {
          "name": "stdout",
          "output_type": "stream",
          "text": [
            "+----------+------+------------+----------------+----------+-----------+---------------+--------------------------+----------+-------------+-----------------+---------------+----------+--------------+---------------+----------------+----------+----------+---------------+--------------------+---------------------------+-----------------------+--------------------------+--------------------------+---------------------------+----------------------+----------------------+-----------------------+-------------------+-------------------+-------------------+---------------------------+-------------------+-------------------+-------------------+-------------------+----------------------------+-------------------+-------------------+------------------+-------------------+----------------------------+-------------------+-------------------+-------------------+------------------+------------------------+------------------------+------------------------+------------------------+----------------------+---------------+---------------+---------------+---------------+---------------+---------------+---------------+---------------+----------------+----------------+----------------+----------------+----------------+----------------+----------------+----------------+----------------+----------------+----------------+----------------+--------------------------+-------------------------+--------------------------+-------------------------+-------------------------+--------------------------+--------------------------+-------------------+--------------------+-----------------------+-----------------------+------------------------+---------------------------+--------------------------+-------------------------+-----------------------+----------------------------------+-------------------------+----------------------+--------------------------+---------------------------+---------------------+--------------+---------------+------------------+------------------+-------------------+----------------------+---------------------+--------------------+------------------+-----------------------------+--------------------+-----------------+---------------------+----------------------+\n",
            "|SK_ID_CURR|TARGET|CNT_CHILDREN|AMT_INCOME_TOTAL|AMT_CREDIT|AMT_ANNUITY|AMT_GOODS_PRICE|REGION_POPULATION_RELATIVE|DAYS_BIRTH|DAYS_EMPLOYED|DAYS_REGISTRATION|DAYS_ID_PUBLISH|FLAG_MOBIL|FLAG_EMP_PHONE|FLAG_WORK_PHONE|FLAG_CONT_MOBILE|FLAG_PHONE|FLAG_EMAIL|CNT_FAM_MEMBERS|REGION_RATING_CLIENT|REGION_RATING_CLIENT_W_CITY|HOUR_APPR_PROCESS_START|REG_REGION_NOT_LIVE_REGION|REG_REGION_NOT_WORK_REGION|LIVE_REGION_NOT_WORK_REGION|REG_CITY_NOT_LIVE_CITY|REG_CITY_NOT_WORK_CITY|LIVE_CITY_NOT_WORK_CITY|       EXT_SOURCE_2|       EXT_SOURCE_3|     APARTMENTS_AVG|YEARS_BEGINEXPLUATATION_AVG|      ENTRANCES_AVG|      FLOORSMAX_AVG|     LIVINGAREA_AVG|    APARTMENTS_MODE|YEARS_BEGINEXPLUATATION_MODE|     ENTRANCES_MODE|     FLOORSMAX_MODE|   LIVINGAREA_MODE|    APARTMENTS_MEDI|YEARS_BEGINEXPLUATATION_MEDI|     ENTRANCES_MEDI|     FLOORSMAX_MEDI|    LIVINGAREA_MEDI|    TOTALAREA_MODE|OBS_30_CNT_SOCIAL_CIRCLE|DEF_30_CNT_SOCIAL_CIRCLE|OBS_60_CNT_SOCIAL_CIRCLE|DEF_60_CNT_SOCIAL_CIRCLE|DAYS_LAST_PHONE_CHANGE|FLAG_DOCUMENT_2|FLAG_DOCUMENT_3|FLAG_DOCUMENT_4|FLAG_DOCUMENT_5|FLAG_DOCUMENT_6|FLAG_DOCUMENT_7|FLAG_DOCUMENT_8|FLAG_DOCUMENT_9|FLAG_DOCUMENT_10|FLAG_DOCUMENT_11|FLAG_DOCUMENT_12|FLAG_DOCUMENT_13|FLAG_DOCUMENT_14|FLAG_DOCUMENT_15|FLAG_DOCUMENT_16|FLAG_DOCUMENT_17|FLAG_DOCUMENT_18|FLAG_DOCUMENT_19|FLAG_DOCUMENT_20|FLAG_DOCUMENT_21|AMT_REQ_CREDIT_BUREAU_HOUR|AMT_REQ_CREDIT_BUREAU_DAY|AMT_REQ_CREDIT_BUREAU_WEEK|AMT_REQ_CREDIT_BUREAU_MON|AMT_REQ_CREDIT_BUREAU_QRT|AMT_REQ_CREDIT_BUREAU_YEAR|NAME_CONTRACT_TYPE_indexed|CODE_GENDER_indexed|FLAG_OWN_CAR_indexed|FLAG_OWN_REALTY_indexed|NAME_TYPE_SUITE_indexed|NAME_INCOME_TYPE_indexed|NAME_EDUCATION_TYPE_indexed|NAME_FAMILY_STATUS_indexed|NAME_HOUSING_TYPE_indexed|OCCUPATION_TYPE_indexed|WEEKDAY_APPR_PROCESS_START_indexed|ORGANIZATION_TYPE_indexed|HOUSETYPE_MODE_indexed|WALLSMATERIAL_MODE_indexed|EMERGENCYSTATE_MODE_indexed|NAME_CONTRACT_TYPE_en|CODE_GENDER_en|FLAG_OWN_CAR_en|FLAG_OWN_REALTY_en|NAME_TYPE_SUITE_en|NAME_INCOME_TYPE_en|NAME_EDUCATION_TYPE_en|NAME_FAMILY_STATUS_en|NAME_HOUSING_TYPE_en|OCCUPATION_TYPE_en|WEEKDAY_APPR_PROCESS_START_en|ORGANIZATION_TYPE_en|HOUSETYPE_MODE_en|WALLSMATERIAL_MODE_en|EMERGENCYSTATE_MODE_en|\n",
            "+----------+------+------------+----------------+----------+-----------+---------------+--------------------------+----------+-------------+-----------------+---------------+----------+--------------+---------------+----------------+----------+----------+---------------+--------------------+---------------------------+-----------------------+--------------------------+--------------------------+---------------------------+----------------------+----------------------+-----------------------+-------------------+-------------------+-------------------+---------------------------+-------------------+-------------------+-------------------+-------------------+----------------------------+-------------------+-------------------+------------------+-------------------+----------------------------+-------------------+-------------------+-------------------+------------------+------------------------+------------------------+------------------------+------------------------+----------------------+---------------+---------------+---------------+---------------+---------------+---------------+---------------+---------------+----------------+----------------+----------------+----------------+----------------+----------------+----------------+----------------+----------------+----------------+----------------+----------------+--------------------------+-------------------------+--------------------------+-------------------------+-------------------------+--------------------------+--------------------------+-------------------+--------------------+-----------------------+-----------------------+------------------------+---------------------------+--------------------------+-------------------------+-----------------------+----------------------------------+-------------------------+----------------------+--------------------------+---------------------------+---------------------+--------------+---------------+------------------+------------------+-------------------+----------------------+---------------------+--------------------+------------------+-----------------------------+--------------------+-----------------+---------------------+----------------------+\n",
            "|    100011|     0|           0|        112500.0| 1019610.0|    33826.5|       913500.0|                  0.018634|    -20099|       365243|          -7427.0|          -3514|         1|             0|              0|               1|         0|         0|            2.0|                   2|                          2|                     14|                         0|                         0|                          0|                     0|                     0|                      0|0.20574728800732814| 0.7517237147741489|0.11784763736859197|         0.9770344761060872|0.14921529452845983|0.22573746383161578|0.10763804638954336|0.11452238268126282|          0.9763223792267499|0.14465215557763988|0.22185662711371848|0.1060980153203344|0.11829808171669802|          0.9770536955445198|0.14871448333288598|0.22535817206872186|0.10891276248125112|0.1025995947132015|                     1.0|                     0.0|                     1.0|                     0.0|                   0.0|              0|              1|              0|              0|              0|              0|              0|              0|               0|               0|               0|               0|               0|               0|               0|               0|               0|               0|               0|               0|                       0.0|                      0.0|                       0.0|                      0.0|                      0.0|                       1.0|                       0.0|                0.0|                 0.0|                    0.0|                    3.0|                     2.0|                        0.0|                       0.0|                      0.0|                    0.0|                               1.0|                      1.0|                   0.0|                       0.0|                        0.0|        (1,[0],[1.0])| (1,[0],[1.0])|  (1,[0],[1.0])|     (1,[0],[1.0])|     (6,[3],[1.0])|      (4,[2],[1.0])|         (4,[0],[1.0])|        (4,[0],[1.0])|       (5,[0],[1.0])|    (17,[0],[1.0])|                (6,[1],[1.0])|      (57,[1],[1.0])|    (2,[0],[1.0])|        (6,[0],[1.0])|         (1,[0],[1.0])|\n",
            "|    100023|     0|           1|         90000.0|  544491.0|    17563.5|       454500.0|                  0.015221|    -11348|        -2038|          -1021.0|          -3964|         1|             1|              1|               1|         1|         0|            2.0|                   2|                          2|                     12|                         0|                         0|                          0|                     0|                     0|                      0| 0.5866171400119664| 0.4776491548517548|0.11784763736859197|         0.9770344761060872|0.14921529452845983|0.22573746383161578|0.10763804638954336|0.11452238268126282|          0.9763223792267499|0.14465215557763988|0.22185662711371848|0.1060980153203344|0.11829808171669802|          0.9770536955445198|0.14871448333288598|0.22535817206872186|0.10891276248125112|0.1025995947132015|                     0.0|                     0.0|                     0.0|                     0.0|               -1850.0|              0|              1|              0|              0|              0|              0|              0|              0|               0|               0|               0|               0|               0|               0|               0|               0|               0|               0|               0|               0|                       0.0|                      0.0|                       0.0|                      0.0|                      0.0|                       2.0|                       0.0|                0.0|                 0.0|                    0.0|                    0.0|                     3.0|                        1.0|                       1.0|                      0.0|                    2.0|                               2.0|                      9.0|                   0.0|                       0.0|                        0.0|        (1,[0],[1.0])| (1,[0],[1.0])|  (1,[0],[1.0])|     (1,[0],[1.0])|     (6,[0],[1.0])|      (4,[3],[1.0])|         (4,[1],[1.0])|        (4,[1],[1.0])|       (5,[0],[1.0])|    (17,[2],[1.0])|                (6,[2],[1.0])|      (57,[9],[1.0])|    (2,[0],[1.0])|        (6,[0],[1.0])|         (1,[0],[1.0])|\n",
            "|    100048|     0|           0|        202500.0|  604152.0|    29196.0|       540000.0|                  0.009175|    -16971|         -475|          -3148.0|           -513|         1|             1|              0|               1|         1|         0|            2.0|                   2|                          2|                     12|                         0|                         1|                          1|                     0|                     1|                      1|0.03731523556121631| 0.5006209008767505|0.11784763736859197|         0.9770344761060872|0.14921529452845983|0.22573746383161578|0.10763804638954336|0.11452238268126282|          0.9763223792267499|0.14465215557763988|0.22185662711371848|0.1060980153203344|0.11829808171669802|          0.9770536955445198|0.14871448333288598|0.22535817206872186|0.10891276248125112|0.1025995947132015|                     4.0|                     0.0|                     4.0|                     0.0|                -458.0|              0|              1|              0|              0|              0|              0|              0|              0|               0|               0|               0|               0|               0|               0|               0|               0|               0|               0|               0|               0|                       0.0|                      0.0|                       0.0|                      0.0|                      0.0|                       5.0|                       0.0|                0.0|                 0.0|                    0.0|                    0.0|                     0.0|                        0.0|                       0.0|                      0.0|                    0.0|                               2.0|                     32.0|                   0.0|                       0.0|                        0.0|        (1,[0],[1.0])| (1,[0],[1.0])|  (1,[0],[1.0])|     (1,[0],[1.0])|     (6,[0],[1.0])|      (4,[0],[1.0])|         (4,[0],[1.0])|        (4,[0],[1.0])|       (5,[0],[1.0])|    (17,[0],[1.0])|                (6,[2],[1.0])|     (57,[32],[1.0])|    (2,[0],[1.0])|        (6,[0],[1.0])|         (1,[0],[1.0])|\n",
            "|    100049|     1|           0|        135000.0|  288873.0|    16258.5|       238500.0|                  0.007305|    -13384|        -3597|            -45.0|          -4409|         1|             1|              1|               1|         1|         0|            2.0|                   3|                          3|                     11|                         0|                         0|                          0|                     0|                     0|                      0| 0.6742032101473874| 0.3996756156233169|0.11784763736859197|         0.9770344761060872|0.14921529452845983|0.22573746383161578|0.10763804638954336|0.11452238268126282|          0.9763223792267499|0.14465215557763988|0.22185662711371848|0.1060980153203344|0.11829808171669802|          0.9770536955445198|0.14871448333288598|0.22535817206872186|0.10891276248125112|0.1025995947132015|                     1.0|                     0.0|                     1.0|                     0.0|               -1480.0|              0|              1|              0|              0|              0|              0|              0|              0|               0|               0|               0|               0|               0|               0|               0|               0|               0|               0|               0|               0|                       0.0|                      0.0|                       0.0|                      0.0|                      0.0|                       2.0|                       0.0|                0.0|                 0.0|                    1.0|                    0.0|                     0.0|                        0.0|                       2.0|                      0.0|                    1.0|                               4.0|                      2.0|                   0.0|                       0.0|                        0.0|        (1,[0],[1.0])| (1,[0],[1.0])|  (1,[0],[1.0])|         (1,[],[])|     (6,[0],[1.0])|      (4,[0],[1.0])|         (4,[0],[1.0])|        (4,[2],[1.0])|       (5,[0],[1.0])|    (17,[1],[1.0])|                (6,[4],[1.0])|      (57,[2],[1.0])|    (2,[0],[1.0])|        (6,[0],[1.0])|         (1,[0],[1.0])|\n",
            "|    100050|     0|           0|        108000.0|  746280.0|    42970.5|       675000.0|                  0.010966|    -23548|       365243|          -5745.0|          -4576|         1|             0|              0|               1|         0|         0|            1.0|                   2|                          2|                      9|                         0|                         0|                          0|                     0|                     0|                      0| 0.7661378050275851| 0.6848276586890367|             0.2186|                     0.9851|             0.2069|             0.3333|             0.2113|             0.2227|                      0.9851|             0.2069|             0.3333|            0.2202|             0.2207|                      0.9851|             0.2069|             0.3333|             0.2151|            0.1903|                     0.0|                     0.0|                     0.0|                     0.0|                -491.0|              0|              1|              0|              0|              0|              0|              0|              0|               0|               0|               0|               0|               0|               0|               0|               0|               0|               0|               0|               0|                       0.0|                      0.0|                       0.0|                      0.0|                      0.0|                       3.0|                       0.0|                0.0|                 0.0|                    0.0|                    0.0|                     2.0|                        1.0|                       1.0|                      0.0|                    0.0|                               1.0|                      1.0|                   0.0|                       0.0|                        0.0|        (1,[0],[1.0])| (1,[0],[1.0])|  (1,[0],[1.0])|     (1,[0],[1.0])|     (6,[0],[1.0])|      (4,[2],[1.0])|         (4,[1],[1.0])|        (4,[1],[1.0])|       (5,[0],[1.0])|    (17,[0],[1.0])|                (6,[1],[1.0])|      (57,[1],[1.0])|    (2,[0],[1.0])|        (6,[0],[1.0])|         (1,[0],[1.0])|\n",
            "|    100077|     0|           0|        180000.0| 1256400.0|    40657.5|       900000.0|                  0.072508|    -12049|         -579|          -6105.0|             -1|         1|             1|              0|               1|         0|         0|            1.0|                   1|                          1|                     12|                         0|                         0|                          0|                     0|                     0|                      0| 0.6473478219828046| 0.5620604831738043|             0.1433|                     0.9811|             0.1379|             0.3333|             0.1367|              0.146|                      0.9811|             0.1379|             0.3333|            0.1425|             0.1447|                      0.9811|             0.1379|             0.3333|             0.1392|            0.1114|                     4.0|                     0.0|                     4.0|                     0.0|                -295.0|              0|              1|              0|              0|              0|              0|              0|              0|               0|               0|               0|               0|               0|               0|               0|               0|               0|               0|               0|               0|                       0.0|                      0.0|                       0.0|                      0.0|                      0.0|                       8.0|                       0.0|                1.0|                 0.0|                    0.0|                    0.0|                     1.0|                        0.0|                       1.0|                      0.0|                    2.0|                               1.0|                     23.0|                   0.0|                       0.0|                        0.0|        (1,[0],[1.0])|     (1,[],[])|  (1,[0],[1.0])|     (1,[0],[1.0])|     (6,[0],[1.0])|      (4,[1],[1.0])|         (4,[0],[1.0])|        (4,[1],[1.0])|       (5,[0],[1.0])|    (17,[2],[1.0])|                (6,[1],[1.0])|     (57,[23],[1.0])|    (2,[0],[1.0])|        (6,[0],[1.0])|         (1,[0],[1.0])|\n",
            "|    100082|     0|           2|        180000.0|  450000.0|    21109.5|       450000.0|                   0.01885|    -12009|        -2844|          -1377.0|          -3656|         1|             1|              1|               1|         1|         0|            4.0|                   2|                          2|                     12|                         0|                         0|                          0|                     0|                     0|                      0| 0.6865047975453018|0.39449540531239935|             0.0722|                     0.9826|             0.1379|             0.1667|             0.0505|             0.0735|                      0.9826|             0.1379|             0.1667|            0.0526|             0.0729|                      0.9826|             0.1379|             0.1667|             0.0514|            0.0444|                     0.0|                     0.0|                     0.0|                     0.0|               -1003.0|              0|              1|              0|              0|              0|              0|              0|              0|               0|               0|               0|               0|               0|               0|               0|               0|               0|               0|               0|               0|                       0.0|                      0.0|                       0.0|                      1.0|                      0.0|                       2.0|                       0.0|                1.0|                 0.0|                    1.0|                    0.0|                     1.0|                        1.0|                       0.0|                      0.0|                    0.0|                               2.0|                      0.0|                   0.0|                       0.0|                        0.0|        (1,[0],[1.0])|     (1,[],[])|  (1,[0],[1.0])|         (1,[],[])|     (6,[0],[1.0])|      (4,[1],[1.0])|         (4,[1],[1.0])|        (4,[0],[1.0])|       (5,[0],[1.0])|    (17,[0],[1.0])|                (6,[2],[1.0])|      (57,[0],[1.0])|    (2,[0],[1.0])|        (6,[0],[1.0])|         (1,[0],[1.0])|\n",
            "|    100100|     0|           2|        202500.0|  796396.5|    38443.5|       643500.0|                  0.008019|    -15909|        -1094|          -3134.0|          -4180|         1|             1|              0|               1|         0|         1|            4.0|                   2|                          2|                     17|                         0|                         0|                          0|                     0|                     1|                      1|0.49576514071749606| 0.8245949709919925|0.11784763736859197|         0.9770344761060872|0.14921529452845983|0.22573746383161578|0.10763804638954336|0.11452238268126282|          0.9763223792267499|0.14465215557763988|0.22185662711371848|0.1060980153203344|0.11829808171669802|          0.9770536955445198|0.14871448333288598|0.22535817206872186|0.10891276248125112|0.1025995947132015|                     0.0|                     0.0|                     0.0|                     0.0|               -1876.0|              0|              1|              0|              0|              0|              0|              0|              0|               0|               0|               0|               0|               0|               0|               0|               0|               0|               0|               0|               0|                       0.0|                      0.0|                       0.0|                      0.0|                      0.0|                       2.0|                       0.0|                1.0|                 1.0|                    0.0|                    0.0|                     0.0|                        1.0|                       0.0|                      0.0|                    3.0|                               3.0|                     18.0|                   0.0|                       0.0|                        0.0|        (1,[0],[1.0])|     (1,[],[])|      (1,[],[])|     (1,[0],[1.0])|     (6,[0],[1.0])|      (4,[0],[1.0])|         (4,[1],[1.0])|        (4,[0],[1.0])|       (5,[0],[1.0])|    (17,[3],[1.0])|                (6,[3],[1.0])|     (57,[18],[1.0])|    (2,[0],[1.0])|        (6,[0],[1.0])|         (1,[0],[1.0])|\n",
            "|    100110|     0|           3|        135000.0|  373140.0|    25065.0|       337500.0|      0.035792000000000004|    -10744|         -741|           -442.0|          -2381|         1|             1|              0|               1|         0|         0|            5.0|                   2|                          2|                      9|                         0|                         0|                          0|                     0|                     1|                      1| 0.6405493008893001| 0.3280631605201915|0.11784763736859197|         0.9770344761060872|0.14921529452845983|0.22573746383161578|0.10763804638954336|0.11452238268126282|          0.9763223792267499|0.14465215557763988|0.22185662711371848|0.1060980153203344|0.11829808171669802|          0.9770536955445198|0.14871448333288598|0.22535817206872186|0.10891276248125112|0.1025995947132015|                     0.0|                     0.0|                     0.0|                     0.0|                   0.0|              0|              1|              0|              0|              0|              0|              0|              0|               0|               0|               0|               0|               0|               0|               0|               0|               0|               0|               0|               0|                       0.0|                      0.0|                       0.0|                      0.0|                      1.0|                       2.0|                       0.0|                1.0|                 1.0|                    0.0|                    0.0|                     1.0|                        0.0|                       0.0|                      0.0|                    0.0|                               1.0|                     17.0|                   0.0|                       0.0|                        0.0|        (1,[0],[1.0])|     (1,[],[])|      (1,[],[])|     (1,[0],[1.0])|     (6,[0],[1.0])|      (4,[1],[1.0])|         (4,[0],[1.0])|        (4,[0],[1.0])|       (5,[0],[1.0])|    (17,[0],[1.0])|                (6,[1],[1.0])|     (57,[17],[1.0])|    (2,[0],[1.0])|        (6,[0],[1.0])|         (1,[0],[1.0])|\n",
            "|    100112|     1|           0|        315000.0|  953460.0|    64107.0|       900000.0|                  0.030755|    -10199|        -2015|          -4802.0|          -1038|         1|             1|              0|               1|         0|         0|            1.0|                   2|                          2|                     13|                         0|                         0|                          0|                     0|                     1|                      1| 0.4323402118056743|0.07749854649006513|0.11784763736859197|         0.9770344761060872|0.14921529452845983|0.22573746383161578|0.10763804638954336|0.11452238268126282|          0.9763223792267499|0.14465215557763988|0.22185662711371848|0.1060980153203344|0.11829808171669802|          0.9770536955445198|0.14871448333288598|0.22535817206872186|0.10891276248125112|0.1025995947132015|                     0.0|                     0.0|                     0.0|                     0.0|                -591.0|              0|              1|              0|              0|              0|              0|              0|              0|               0|               0|               0|               0|               0|               0|               0|               0|               0|               0|               0|               0|                       0.0|                      0.0|                       0.0|                      0.0|                      0.0|                       2.0|                       0.0|                1.0|                 1.0|                    0.0|                    1.0|                     1.0|                        2.0|                       1.0|                      2.0|                    0.0|                               6.0|                     35.0|                   0.0|                       0.0|                        0.0|        (1,[0],[1.0])|     (1,[],[])|      (1,[],[])|     (1,[0],[1.0])|     (6,[1],[1.0])|      (4,[1],[1.0])|         (4,[2],[1.0])|        (4,[1],[1.0])|       (5,[2],[1.0])|    (17,[0],[1.0])|                    (6,[],[])|     (57,[35],[1.0])|    (2,[0],[1.0])|        (6,[0],[1.0])|         (1,[0],[1.0])|\n",
            "|    100114|     0|           0|        135000.0|  284400.0|    22599.0|       225000.0|                  0.030755|    -10734|         -693|          -7913.0|          -1362|         1|             1|              0|               1|         0|         0|            1.0|                   2|                          2|                     14|                         0|                         0|                          0|                     1|                     1|                      0| 0.1549370735653434| 0.2650494299443805|0.11784763736859197|         0.9770344761060872|0.14921529452845983|0.22573746383161578|0.10763804638954336|0.11452238268126282|          0.9763223792267499|0.14465215557763988|0.22185662711371848|0.1060980153203344|0.11829808171669802|          0.9770536955445198|0.14871448333288598|0.22535817206872186|0.10891276248125112|0.1025995947132015|                     0.0|                     0.0|                     0.0|                     0.0|                -227.0|              0|              1|              0|              0|              0|              0|              0|              0|               0|               0|               0|               0|               0|               0|               0|               0|               0|               0|               0|               0|                       0.0|                      0.0|                       0.0|                      0.0|                      0.0|                       2.0|                       0.0|                0.0|                 0.0|                    0.0|                    0.0|                     1.0|                        1.0|                       1.0|                      0.0|                    0.0|                               2.0|                     26.0|                   0.0|                       0.0|                        0.0|        (1,[0],[1.0])| (1,[0],[1.0])|  (1,[0],[1.0])|     (1,[0],[1.0])|     (6,[0],[1.0])|      (4,[1],[1.0])|         (4,[1],[1.0])|        (4,[1],[1.0])|       (5,[0],[1.0])|    (17,[0],[1.0])|                (6,[2],[1.0])|     (57,[26],[1.0])|    (2,[0],[1.0])|        (6,[0],[1.0])|         (1,[0],[1.0])|\n",
            "|    100115|     0|           0|         90000.0|  315000.0|    14683.5|       315000.0|                  0.028663|    -15371|         -367|          -3071.0|          -4211|         1|             1|              1|               1|         1|         0|            2.0|                   2|                          2|                     11|                         0|                         0|                          0|                     0|                     1|                      1| 0.3343001962973505| 0.5006209008767505|             0.0247|                     0.9707|             0.1034|             0.0417|             0.0243|             0.0252|                      0.9707|             0.1034|             0.0417|            0.0253|              0.025|                      0.9707|             0.1034|             0.0417|             0.0248|             0.021|                     0.0|                     0.0|                     0.0|                     0.0|                 -40.0|              0|              1|              0|              0|              0|              0|              0|              0|               0|               0|               0|               0|               0|               0|               0|               0|               0|               0|               0|               0|                       0.0|                      0.0|                       0.0|                      0.0|                      2.0|                       2.0|                       0.0|                0.0|                 0.0|                    1.0|                    2.0|                     0.0|                        0.0|                       0.0|                      0.0|                    0.0|                               6.0|                      0.0|                   0.0|                       2.0|                        0.0|        (1,[0],[1.0])| (1,[0],[1.0])|  (1,[0],[1.0])|         (1,[],[])|     (6,[2],[1.0])|      (4,[0],[1.0])|         (4,[0],[1.0])|        (4,[0],[1.0])|       (5,[0],[1.0])|    (17,[0],[1.0])|                    (6,[],[])|      (57,[0],[1.0])|    (2,[0],[1.0])|        (6,[2],[1.0])|         (1,[0],[1.0])|\n",
            "|    100131|     0|           0|        270000.0|  891072.0|    45625.5|       720000.0|                  0.072508|    -13830|        -1169|          -7953.0|          -4802|         1|             1|              0|               1|         0|         0|            1.0|                   1|                          1|                     15|                         0|                         0|                          0|                     0|                     0|                      0| 0.7079724741176917| 0.4525335592581747|             0.1423|                     0.9841|             0.1034|             0.4583|             0.1627|              0.145|                      0.9841|             0.1034|             0.4583|            0.1695|             0.1436|                      0.9841|             0.1034|             0.4583|             0.1656|            0.1439|                     2.0|                     1.0|                     2.0|                     1.0|                -734.0|              0|              1|              0|              0|              0|              0|              0|              0|               0|               0|               0|               0|               0|               0|               0|               0|               0|               0|               0|               0|                       0.0|                      0.0|                       0.0|                      0.0|                      0.0|                       4.0|                       0.0|                0.0|                 0.0|                    0.0|                    0.0|                     1.0|                        0.0|                       1.0|                      0.0|                   15.0|                               4.0|                      3.0|                   0.0|                       0.0|                        0.0|        (1,[0],[1.0])| (1,[0],[1.0])|  (1,[0],[1.0])|     (1,[0],[1.0])|     (6,[0],[1.0])|      (4,[1],[1.0])|         (4,[0],[1.0])|        (4,[1],[1.0])|       (5,[0],[1.0])|   (17,[15],[1.0])|                (6,[4],[1.0])|      (57,[3],[1.0])|    (2,[0],[1.0])|        (6,[0],[1.0])|         (1,[0],[1.0])|\n",
            "|    100135|     0|           0|        135000.0|  391194.0|    26271.0|       319500.0|                   0.00733|    -19829|         -215|          -4730.0|          -3368|         1|             1|              0|               1|         0|         0|            2.0|                   2|                          2|                     10|                         1|                         1|                          0|                     1|                     1|                      0| 0.7206401576263843| 0.3201633668633456|0.11784763736859197|         0.9770344761060872|0.14921529452845983|0.22573746383161578|0.10763804638954336|0.11452238268126282|          0.9763223792267499|0.14465215557763988|0.22185662711371848|0.1060980153203344|0.11829808171669802|          0.9770536955445198|0.14871448333288598|0.22535817206872186|0.10891276248125112|0.1025995947132015|                     0.0|                     0.0|                     0.0|                     0.0|               -1209.0|              0|              1|              0|              0|              0|              0|              0|              0|               0|               0|               0|               0|               0|               0|               0|               0|               0|               0|               0|               0|                       0.0|                      0.0|                       0.0|                      0.0|                      0.0|                       5.0|                       0.0|                1.0|                 0.0|                    0.0|                    0.0|                     1.0|                        0.0|                       0.0|                      0.0|                    0.0|                               5.0|                      0.0|                   0.0|                       0.0|                        0.0|        (1,[0],[1.0])|     (1,[],[])|  (1,[0],[1.0])|     (1,[0],[1.0])|     (6,[0],[1.0])|      (4,[1],[1.0])|         (4,[0],[1.0])|        (4,[0],[1.0])|       (5,[0],[1.0])|    (17,[0],[1.0])|                (6,[5],[1.0])|      (57,[0],[1.0])|    (2,[0],[1.0])|        (6,[0],[1.0])|         (1,[0],[1.0])|\n",
            "|    100138|     0|           0|        135000.0|  824823.0|    29223.0|       688500.0|                   0.04622|    -14339|       365243|          -1104.0|          -4620|         1|             0|              0|               1|         0|         0|            2.0|                   1|                          1|                     14|                         0|                         0|                          0|                     0|                     0|                      0| 0.6075618184170141| 0.5726825047161584|             0.3247|         0.9770344761060872|             0.2414|              0.625|             0.4549|             0.3309|          0.9763223792267499|             0.2414|              0.625|            0.4739|             0.3279|          0.9770536955445198|             0.2414|              0.625|              0.463|             0.481|                     0.0|                     0.0|                     0.0|                     0.0|                -242.0|              0|              1|              0|              0|              0|              0|              0|              0|               0|               0|               0|               0|               0|               0|               0|               0|               0|               0|               0|               0|                       0.0|                      0.0|                       0.0|                      1.0|                      0.0|                       0.0|                       0.0|                1.0|                 1.0|                    1.0|                    0.0|                     2.0|                        1.0|                       0.0|                      0.0|                    0.0|                               0.0|                      1.0|                   0.0|                       0.0|                        0.0|        (1,[0],[1.0])|     (1,[],[])|      (1,[],[])|         (1,[],[])|     (6,[0],[1.0])|      (4,[2],[1.0])|         (4,[1],[1.0])|        (4,[0],[1.0])|       (5,[0],[1.0])|    (17,[0],[1.0])|                (6,[0],[1.0])|      (57,[1],[1.0])|    (2,[0],[1.0])|        (6,[0],[1.0])|         (1,[0],[1.0])|\n",
            "|    100151|     0|           0|        135000.0|  182016.0|    11772.0|       144000.0|                  0.019101|    -16522|        -1451|          -4101.0|            -66|         1|             1|              0|               1|         0|         0|            1.0|                   2|                          2|                     10|                         0|                         0|                          0|                     0|                     0|                      0| 0.6952191372191353| 0.7295666907060153|             0.0567|                     0.9791|             0.0345|             0.3333|             0.0434|             0.0578|                      0.9791|             0.0345|             0.3333|            0.0452|             0.0573|                      0.9791|             0.0345|             0.3333|             0.0442|            0.0471|                     0.0|                     0.0|                     0.0|                     0.0|                -398.0|              0|              1|              0|              0|              0|              0|              0|              0|               0|               0|               0|               0|               0|               0|               0|               0|               0|               0|               0|               0|                       0.0|                      0.0|                       0.0|                      0.0|                      1.0|                       1.0|                       0.0|                1.0|                 0.0|                    1.0|                    0.0|                     1.0|                        1.0|                       1.0|                      0.0|                    6.0|                               2.0|                      0.0|                   0.0|                       1.0|                        0.0|        (1,[0],[1.0])|     (1,[],[])|  (1,[0],[1.0])|         (1,[],[])|     (6,[0],[1.0])|      (4,[1],[1.0])|         (4,[1],[1.0])|        (4,[1],[1.0])|       (5,[0],[1.0])|    (17,[6],[1.0])|                (6,[2],[1.0])|      (57,[0],[1.0])|    (2,[0],[1.0])|        (6,[1],[1.0])|         (1,[0],[1.0])|\n",
            "|    100152|     0|           0|        157500.0|  254412.0|     9720.0|       166500.0|                  0.010032|    -16083|        -2764|          -7358.0|          -4654|         1|             1|              0|               1|         0|         0|            2.0|                   2|                          2|                     11|                         0|                         0|                          0|                     0|                     0|                      0| 0.1654420733377721| 0.7490217048463391|             0.0742|                     0.9821|              0.069|             0.3333|             0.0783|             0.0756|                      0.9821|              0.069|             0.3333|            0.0815|             0.0749|                      0.9821|              0.069|             0.3333|             0.0797|            0.0752|                     0.0|                     0.0|                     0.0|                     0.0|               -1761.0|              0|              1|              0|              0|              0|              0|              0|              0|               0|               0|               0|               0|               0|               0|               0|               0|               0|               0|               0|               0|                       0.0|                      0.0|                       0.0|                      0.0|                      1.0|                       4.0|                       0.0|                0.0|                 0.0|                    0.0|                    0.0|                     0.0|                        0.0|                       0.0|                      1.0|                    1.0|                               1.0|                      2.0|                   0.0|                       0.0|                        0.0|        (1,[0],[1.0])| (1,[0],[1.0])|  (1,[0],[1.0])|     (1,[0],[1.0])|     (6,[0],[1.0])|      (4,[0],[1.0])|         (4,[0],[1.0])|        (4,[0],[1.0])|       (5,[1],[1.0])|    (17,[1],[1.0])|                (6,[1],[1.0])|      (57,[2],[1.0])|    (2,[0],[1.0])|        (6,[0],[1.0])|         (1,[0],[1.0])|\n",
            "|    100153|     0|           0|        202500.0| 1107981.0|    32526.0|       967500.0|                  0.031329|    -18413|        -1895|         -10826.0|          -1947|         1|             1|              0|               1|         0|         0|            2.0|                   2|                          2|                     10|                         0|                         0|                          0|                     0|                     0|                      0| 0.6680204349150283| 0.3539876078507373|0.11784763736859197|         0.9770344761060872|0.14921529452845983|0.22573746383161578|0.10763804638954336|0.11452238268126282|          0.9763223792267499|0.14465215557763988|0.22185662711371848|0.1060980153203344|0.11829808171669802|          0.9770536955445198|0.14871448333288598|0.22535817206872186|0.10891276248125112|0.1025995947132015|                     0.0|                     0.0|                     0.0|                     0.0|               -1192.0|              0|              1|              0|              0|              0|              0|              0|              0|               0|               0|               0|               0|               0|               0|               0|               0|               0|               0|               0|               0|                       0.0|                      0.0|                       0.0|                      0.0|                      0.0|                       5.0|                       0.0|                1.0|                 1.0|                    0.0|                    1.0|                     0.0|                        0.0|                       0.0|                      0.0|                    4.0|                               5.0|                     10.0|                   0.0|                       0.0|                        0.0|        (1,[0],[1.0])|     (1,[],[])|      (1,[],[])|     (1,[0],[1.0])|     (6,[1],[1.0])|      (4,[0],[1.0])|         (4,[0],[1.0])|        (4,[0],[1.0])|       (5,[0],[1.0])|    (17,[4],[1.0])|                (6,[5],[1.0])|     (57,[10],[1.0])|    (2,[0],[1.0])|        (6,[0],[1.0])|         (1,[0],[1.0])|\n",
            "|    100157|     0|           0|        180000.0| 1755000.0|    61132.5|      1755000.0|      0.014519999999999996|    -16086|        -1549|          -3174.0|          -4584|         1|             1|              0|               1|         0|         0|            2.0|                   2|                          2|                      7|                         0|                         0|                          0|                     0|                     0|                      0|0.14768481724551802| 0.6690566947824041|0.11784763736859197|         0.9770344761060872|0.14921529452845983|0.22573746383161578|0.10763804638954336|0.11452238268126282|          0.9763223792267499|0.14465215557763988|0.22185662711371848|0.1060980153203344|0.11829808171669802|          0.9770536955445198|0.14871448333288598|0.22535817206872186|0.10891276248125112|0.1025995947132015|                     3.0|                     0.0|                     3.0|                     0.0|                   0.0|              0|              0|              0|              0|              0|              0|              1|              0|               0|               0|               0|               0|               0|               0|               0|               0|               0|               0|               0|               0|                       0.0|                      0.0|                       0.0|                      1.0|                      0.0|                       2.0|                       0.0|                1.0|                 0.0|                    0.0|                    0.0|                     0.0|                        0.0|                       0.0|                      0.0|                    0.0|                               2.0|                      0.0|                   0.0|                       0.0|                        0.0|        (1,[0],[1.0])|     (1,[],[])|  (1,[0],[1.0])|     (1,[0],[1.0])|     (6,[0],[1.0])|      (4,[0],[1.0])|         (4,[0],[1.0])|        (4,[0],[1.0])|       (5,[0],[1.0])|    (17,[0],[1.0])|                (6,[2],[1.0])|      (57,[0],[1.0])|    (2,[0],[1.0])|        (6,[0],[1.0])|         (1,[0],[1.0])|\n",
            "|    100162|     0|           0|        112500.0|  547344.0|    18216.0|       472500.0|                  0.020246|    -21061|       365243|          -5439.0|          -4488|         1|             0|              0|               1|         0|         0|            1.0|                   3|                          3|                      6|                         0|                         0|                          0|                     0|                     0|                      0| 0.5982432424547262|0.23272477626794336|             0.0907|                     0.9771|             0.2069|             0.1667|             0.0854|             0.0903|                      0.9772|             0.2069|             0.1667|             0.087|             0.0916|                      0.9771|             0.2069|             0.1667|              0.087|            0.0669|                     1.0|                     1.0|                     1.0|                     1.0|               -1594.0|              0|              1|              0|              0|              0|              0|              0|              0|               0|               0|               0|               0|               0|               0|               0|               0|               0|               0|               0|               0|                       0.0|                      0.0|                       0.0|                      0.0|                      0.0|                       2.0|                       0.0|                0.0|                 0.0|                    0.0|                    1.0|                     2.0|                        0.0|                       1.0|                      0.0|                    0.0|                               2.0|                      1.0|                   0.0|                       0.0|                        0.0|        (1,[0],[1.0])| (1,[0],[1.0])|  (1,[0],[1.0])|     (1,[0],[1.0])|     (6,[1],[1.0])|      (4,[2],[1.0])|         (4,[0],[1.0])|        (4,[1],[1.0])|       (5,[0],[1.0])|    (17,[0],[1.0])|                (6,[2],[1.0])|      (57,[1],[1.0])|    (2,[0],[1.0])|        (6,[0],[1.0])|         (1,[0],[1.0])|\n",
            "+----------+------+------------+----------------+----------+-----------+---------------+--------------------------+----------+-------------+-----------------+---------------+----------+--------------+---------------+----------------+----------+----------+---------------+--------------------+---------------------------+-----------------------+--------------------------+--------------------------+---------------------------+----------------------+----------------------+-----------------------+-------------------+-------------------+-------------------+---------------------------+-------------------+-------------------+-------------------+-------------------+----------------------------+-------------------+-------------------+------------------+-------------------+----------------------------+-------------------+-------------------+-------------------+------------------+------------------------+------------------------+------------------------+------------------------+----------------------+---------------+---------------+---------------+---------------+---------------+---------------+---------------+---------------+----------------+----------------+----------------+----------------+----------------+----------------+----------------+----------------+----------------+----------------+----------------+----------------+--------------------------+-------------------------+--------------------------+-------------------------+-------------------------+--------------------------+--------------------------+-------------------+--------------------+-----------------------+-----------------------+------------------------+---------------------------+--------------------------+-------------------------+-----------------------+----------------------------------+-------------------------+----------------------+--------------------------+---------------------------+---------------------+--------------+---------------+------------------+------------------+-------------------+----------------------+---------------------+--------------------+------------------+-----------------------------+--------------------+-----------------+---------------------+----------------------+\n",
            "only showing top 20 rows\n",
            "\n"
          ]
        }
      ],
      "source": [
        "app_train_encoded.show()"
      ]
    },
    {
      "cell_type": "code",
      "execution_count": null,
      "metadata": {
        "colab": {
          "base_uri": "https://localhost:8080/"
        },
        "id": "yLbdo84p5P36",
        "outputId": "40e05c62-4f74-4b48-90e2-4433a02cf033"
      },
      "outputs": [
        {
          "data": {
            "text/plain": [
              "['SK_ID_CURR',\n",
              " 'TARGET',\n",
              " 'CNT_CHILDREN',\n",
              " 'AMT_INCOME_TOTAL',\n",
              " 'AMT_CREDIT',\n",
              " 'AMT_ANNUITY',\n",
              " 'AMT_GOODS_PRICE',\n",
              " 'REGION_POPULATION_RELATIVE',\n",
              " 'DAYS_BIRTH',\n",
              " 'DAYS_EMPLOYED',\n",
              " 'DAYS_REGISTRATION',\n",
              " 'DAYS_ID_PUBLISH',\n",
              " 'FLAG_MOBIL',\n",
              " 'FLAG_EMP_PHONE',\n",
              " 'FLAG_WORK_PHONE',\n",
              " 'FLAG_CONT_MOBILE',\n",
              " 'FLAG_PHONE',\n",
              " 'FLAG_EMAIL',\n",
              " 'CNT_FAM_MEMBERS',\n",
              " 'REGION_RATING_CLIENT',\n",
              " 'REGION_RATING_CLIENT_W_CITY',\n",
              " 'HOUR_APPR_PROCESS_START',\n",
              " 'REG_REGION_NOT_LIVE_REGION',\n",
              " 'REG_REGION_NOT_WORK_REGION',\n",
              " 'LIVE_REGION_NOT_WORK_REGION',\n",
              " 'REG_CITY_NOT_LIVE_CITY',\n",
              " 'REG_CITY_NOT_WORK_CITY',\n",
              " 'LIVE_CITY_NOT_WORK_CITY',\n",
              " 'EXT_SOURCE_2',\n",
              " 'EXT_SOURCE_3',\n",
              " 'APARTMENTS_AVG',\n",
              " 'YEARS_BEGINEXPLUATATION_AVG',\n",
              " 'ENTRANCES_AVG',\n",
              " 'FLOORSMAX_AVG',\n",
              " 'LIVINGAREA_AVG',\n",
              " 'APARTMENTS_MODE',\n",
              " 'YEARS_BEGINEXPLUATATION_MODE',\n",
              " 'ENTRANCES_MODE',\n",
              " 'FLOORSMAX_MODE',\n",
              " 'LIVINGAREA_MODE',\n",
              " 'APARTMENTS_MEDI',\n",
              " 'YEARS_BEGINEXPLUATATION_MEDI',\n",
              " 'ENTRANCES_MEDI',\n",
              " 'FLOORSMAX_MEDI',\n",
              " 'LIVINGAREA_MEDI',\n",
              " 'TOTALAREA_MODE',\n",
              " 'OBS_30_CNT_SOCIAL_CIRCLE',\n",
              " 'DEF_30_CNT_SOCIAL_CIRCLE',\n",
              " 'OBS_60_CNT_SOCIAL_CIRCLE',\n",
              " 'DEF_60_CNT_SOCIAL_CIRCLE',\n",
              " 'DAYS_LAST_PHONE_CHANGE',\n",
              " 'FLAG_DOCUMENT_2',\n",
              " 'FLAG_DOCUMENT_3',\n",
              " 'FLAG_DOCUMENT_4',\n",
              " 'FLAG_DOCUMENT_5',\n",
              " 'FLAG_DOCUMENT_6',\n",
              " 'FLAG_DOCUMENT_7',\n",
              " 'FLAG_DOCUMENT_8',\n",
              " 'FLAG_DOCUMENT_9',\n",
              " 'FLAG_DOCUMENT_10',\n",
              " 'FLAG_DOCUMENT_11',\n",
              " 'FLAG_DOCUMENT_12',\n",
              " 'FLAG_DOCUMENT_13',\n",
              " 'FLAG_DOCUMENT_14',\n",
              " 'FLAG_DOCUMENT_15',\n",
              " 'FLAG_DOCUMENT_16',\n",
              " 'FLAG_DOCUMENT_17',\n",
              " 'FLAG_DOCUMENT_18',\n",
              " 'FLAG_DOCUMENT_19',\n",
              " 'FLAG_DOCUMENT_20',\n",
              " 'FLAG_DOCUMENT_21',\n",
              " 'AMT_REQ_CREDIT_BUREAU_HOUR',\n",
              " 'AMT_REQ_CREDIT_BUREAU_DAY',\n",
              " 'AMT_REQ_CREDIT_BUREAU_WEEK',\n",
              " 'AMT_REQ_CREDIT_BUREAU_MON',\n",
              " 'AMT_REQ_CREDIT_BUREAU_QRT',\n",
              " 'AMT_REQ_CREDIT_BUREAU_YEAR',\n",
              " 'NAME_CONTRACT_TYPE_indexed',\n",
              " 'CODE_GENDER_indexed',\n",
              " 'FLAG_OWN_CAR_indexed',\n",
              " 'FLAG_OWN_REALTY_indexed',\n",
              " 'NAME_TYPE_SUITE_indexed',\n",
              " 'NAME_INCOME_TYPE_indexed',\n",
              " 'NAME_EDUCATION_TYPE_indexed',\n",
              " 'NAME_FAMILY_STATUS_indexed',\n",
              " 'NAME_HOUSING_TYPE_indexed',\n",
              " 'OCCUPATION_TYPE_indexed',\n",
              " 'WEEKDAY_APPR_PROCESS_START_indexed',\n",
              " 'ORGANIZATION_TYPE_indexed',\n",
              " 'HOUSETYPE_MODE_indexed',\n",
              " 'WALLSMATERIAL_MODE_indexed',\n",
              " 'EMERGENCYSTATE_MODE_indexed',\n",
              " 'NAME_CONTRACT_TYPE_en',\n",
              " 'CODE_GENDER_en',\n",
              " 'FLAG_OWN_CAR_en',\n",
              " 'FLAG_OWN_REALTY_en',\n",
              " 'NAME_TYPE_SUITE_en',\n",
              " 'NAME_INCOME_TYPE_en',\n",
              " 'NAME_EDUCATION_TYPE_en',\n",
              " 'NAME_FAMILY_STATUS_en',\n",
              " 'NAME_HOUSING_TYPE_en',\n",
              " 'OCCUPATION_TYPE_en',\n",
              " 'WEEKDAY_APPR_PROCESS_START_en',\n",
              " 'ORGANIZATION_TYPE_en',\n",
              " 'HOUSETYPE_MODE_en',\n",
              " 'WALLSMATERIAL_MODE_en',\n",
              " 'EMERGENCYSTATE_MODE_en']"
            ]
          },
          "execution_count": 53,
          "metadata": {},
          "output_type": "execute_result"
        }
      ],
      "source": [
        "app_train_encoded.columns"
      ]
    },
    {
      "cell_type": "code",
      "execution_count": null,
      "metadata": {
        "id": "W-N9WQGzfat7"
      },
      "outputs": [],
      "source": [
        "app_train_encoded_1 = app_train_encoded.drop('FLAG_MOBIL',\n",
        " 'FLAG_EMP_PHONE',\n",
        " 'FLAG_WORK_PHONE',\n",
        " 'FLAG_CONT_MOBILE',\n",
        " 'FLAG_PHONE',\n",
        " 'FLAG_EMAIL','HOUR_APPR_PROCESS_START',\n",
        " 'REG_REGION_NOT_LIVE_REGION',\n",
        " 'REG_REGION_NOT_WORK_REGION',\n",
        " 'LIVE_REGION_NOT_WORK_REGION',\n",
        " 'REG_CITY_NOT_LIVE_CITY',\n",
        " 'REG_CITY_NOT_WORK_CITY',\n",
        " 'LIVE_CITY_NOT_WORK_CITY','YEARS_BEGINEXPLUATATION_MODE','YEARS_BEGINEXPLUATATION_MEDI','APARTMENTS_MODE',\n",
        " 'YEARS_BEGINEXPLUATATION_MODE',\n",
        " 'ENTRANCES_MODE',\n",
        " 'FLOORSMAX_MODE',\n",
        " 'LIVINGAREA_MODE','AMT_REQ_CREDIT_BUREAU_HOUR',\n",
        " 'AMT_REQ_CREDIT_BUREAU_DAY',\n",
        " 'AMT_REQ_CREDIT_BUREAU_WEEK',\n",
        " 'AMT_REQ_CREDIT_BUREAU_MON',\n",
        " 'AMT_REQ_CREDIT_BUREAU_QRT',\n",
        " 'AMT_REQ_CREDIT_BUREAU_YEAR',)"
      ]
    },
    {
      "cell_type": "code",
      "execution_count": null,
      "metadata": {
        "id": "3D3WNU0vSdYl"
      },
      "outputs": [],
      "source": [
        "# from pyspark.sql.functions import when\n",
        "# ratio = 0.91\n",
        "# def weight_balance(labels):\n",
        "#     return when(labels == 1, ratio).otherwise(1*(1-ratio))\n",
        "# app_train_encoded_1 = app_train_encoded_1.withColumn('weights', weight_balance(col('TARGET')))"
      ]
    },
    {
      "cell_type": "markdown",
      "metadata": {
        "id": "W_m0PQhR5QHH"
      },
      "source": [
        "Changing the secound file Previous data "
      ]
    },
    {
      "cell_type": "code",
      "execution_count": null,
      "metadata": {
        "id": "moLB8iGC3FQb"
      },
      "outputs": [],
      "source": []
    },
    {
      "cell_type": "code",
      "execution_count": null,
      "metadata": {
        "colab": {
          "base_uri": "https://localhost:8080/"
        },
        "id": "Ghmex9uG7BkC",
        "outputId": "cec5f264-9ed3-4c92-c6fd-db9ca93ef995"
      },
      "outputs": [
        {
          "name": "stdout",
          "output_type": "stream",
          "text": [
            "16  categorical features\n",
            "21  numerical features\n"
          ]
        }
      ],
      "source": [
        "cat_cols_prev = [item[0] for item in prev_train.dtypes if item[1].startswith('string')] \n",
        "print(str(len(cat_cols_prev)) + '  categorical features')\n",
        "num_cols_prev = [item[0] for item in prev_train.dtypes if item[1].startswith('int') | item[1].startswith('double')][1:]\n",
        "print(str(len(num_cols_prev)) + '  numerical features')"
      ]
    },
    {
      "cell_type": "code",
      "execution_count": null,
      "metadata": {
        "colab": {
          "base_uri": "https://localhost:8080/"
        },
        "id": "7vux11z27hVc",
        "outputId": "96c622d1-9a8b-405f-b894-ba7dd9c28122"
      },
      "outputs": [
        {
          "data": {
            "text/plain": [
              "['SK_ID_CURR',\n",
              " 'AMT_ANNUITY',\n",
              " 'AMT_APPLICATION',\n",
              " 'AMT_CREDIT',\n",
              " 'AMT_DOWN_PAYMENT',\n",
              " 'AMT_GOODS_PRICE',\n",
              " 'HOUR_APPR_PROCESS_START',\n",
              " 'NFLAG_LAST_APPL_IN_DAY',\n",
              " 'RATE_DOWN_PAYMENT',\n",
              " 'RATE_INTEREST_PRIMARY',\n",
              " 'RATE_INTEREST_PRIVILEGED',\n",
              " 'DAYS_DECISION',\n",
              " 'SELLERPLACE_AREA',\n",
              " 'CNT_PAYMENT',\n",
              " 'DAYS_FIRST_DRAWING',\n",
              " 'DAYS_FIRST_DUE',\n",
              " 'DAYS_LAST_DUE_1ST_VERSION',\n",
              " 'DAYS_LAST_DUE',\n",
              " 'DAYS_TERMINATION',\n",
              " 'NFLAG_INSURED_ON_APPROVAL',\n",
              " 'id']"
            ]
          },
          "execution_count": 56,
          "metadata": {},
          "output_type": "execute_result"
        }
      ],
      "source": [
        "num_cols_prev"
      ]
    },
    {
      "cell_type": "code",
      "execution_count": null,
      "metadata": {
        "colab": {
          "base_uri": "https://localhost:8080/"
        },
        "id": "XTLmyR2z9120",
        "outputId": "e5c9c7d4-06af-45a4-93ae-84b8dc884eec"
      },
      "outputs": [
        {
          "data": {
            "text/plain": [
              "['NAME_CONTRACT_TYPE',\n",
              " 'WEEKDAY_APPR_PROCESS_START',\n",
              " 'FLAG_LAST_APPL_PER_CONTRACT',\n",
              " 'NAME_CASH_LOAN_PURPOSE',\n",
              " 'NAME_CONTRACT_STATUS',\n",
              " 'NAME_PAYMENT_TYPE',\n",
              " 'CODE_REJECT_REASON',\n",
              " 'NAME_TYPE_SUITE',\n",
              " 'NAME_CLIENT_TYPE',\n",
              " 'NAME_GOODS_CATEGORY',\n",
              " 'NAME_PORTFOLIO',\n",
              " 'NAME_PRODUCT_TYPE',\n",
              " 'CHANNEL_TYPE',\n",
              " 'NAME_SELLER_INDUSTRY',\n",
              " 'NAME_YIELD_GROUP',\n",
              " 'PRODUCT_COMBINATION']"
            ]
          },
          "execution_count": 57,
          "metadata": {},
          "output_type": "execute_result"
        }
      ],
      "source": [
        "cat_cols_prev"
      ]
    },
    {
      "cell_type": "code",
      "execution_count": null,
      "metadata": {
        "id": "3xUes6LX7hcz"
      },
      "outputs": [],
      "source": [
        "prev_train.createOrReplaceTempView(\"prev_train\")\n",
        "prev_num = spark.sql('''select AMT_ANNUITY,\n",
        " AMT_APPLICATION,\n",
        " AMT_CREDIT,\n",
        " AMT_DOWN_PAYMENT,\n",
        " AMT_GOODS_PRICE,\n",
        " HOUR_APPR_PROCESS_START,\n",
        " NFLAG_LAST_APPL_IN_DAY,\n",
        " RATE_DOWN_PAYMENT,\n",
        " RATE_INTEREST_PRIMARY,\n",
        " RATE_INTEREST_PRIVILEGED,\n",
        " DAYS_DECISION,\n",
        " SELLERPLACE_AREA,\n",
        " CNT_PAYMENT,\n",
        " DAYS_FIRST_DRAWING,\n",
        " DAYS_FIRST_DUE,\n",
        " DAYS_LAST_DUE_1ST_VERSION,\n",
        " DAYS_LAST_DUE,\n",
        " DAYS_TERMINATION,\n",
        " NFLAG_INSURED_ON_APPROVAL,\n",
        " id from prev_train''')"
      ]
    },
    {
      "cell_type": "code",
      "execution_count": null,
      "metadata": {
        "colab": {
          "base_uri": "https://localhost:8080/"
        },
        "id": "WLm32oCK7hfv",
        "outputId": "4f42a5fb-b763-4730-8847-1a91daec6782"
      },
      "outputs": [
        {
          "name": "stdout",
          "output_type": "stream",
          "text": [
            "+-----------+---------------+----------+----------------+---------------+-----------------------+----------------------+-------------------+---------------------+------------------------+-------------+----------------+-----------+------------------+--------------+-------------------------+-------------+----------------+-------------------------+------+\n",
            "|AMT_ANNUITY|AMT_APPLICATION|AMT_CREDIT|AMT_DOWN_PAYMENT|AMT_GOODS_PRICE|HOUR_APPR_PROCESS_START|NFLAG_LAST_APPL_IN_DAY|  RATE_DOWN_PAYMENT|RATE_INTEREST_PRIMARY|RATE_INTEREST_PRIVILEGED|DAYS_DECISION|SELLERPLACE_AREA|CNT_PAYMENT|DAYS_FIRST_DRAWING|DAYS_FIRST_DUE|DAYS_LAST_DUE_1ST_VERSION|DAYS_LAST_DUE|DAYS_TERMINATION|NFLAG_INSURED_ON_APPROVAL|    id|\n",
            "+-----------+---------------+----------+----------------+---------------+-----------------------+----------------------+-------------------+---------------------+------------------------+-------------+----------------+-----------+------------------+--------------+-------------------------+-------------+----------------+-------------------------+------+\n",
            "|  11490.885|       135000.0|  148365.0|            null|       135000.0|                      9|                     1|               null|                 null|                    null|         -352|              -1|       18.0|          365243.0|        -322.0|                    188.0|     365243.0|        365243.0|                      1.0|100800|\n",
            "|    5407.38|        58608.0|   52744.5|          5863.5|        58608.0|                     12|                     1| 0.1089592640160822|                 null|                    null|         -807|              11|       12.0|          365243.0|        -776.0|                   -446.0|       -626.0|          -621.0|                      0.0|100800|\n",
            "|       null|            0.0|       0.0|            null|           null|                      9|                     1|               null|                 null|                    null|         -352|              -1|       null|              null|          null|                     null|         null|            null|                     null|100800|\n",
            "|     4500.0|        90000.0|   90000.0|            null|        90000.0|                      9|                     1|               null|                 null|                    null|         -352|              -1|        0.0|             -52.0|      365243.0|                 365243.0|     365243.0|        365243.0|                      0.0|100800|\n",
            "|       null|            0.0|       0.0|            null|           null|                     11|                     1|               null|                 null|                    null|         -197|              -1|       null|              null|          null|                     null|         null|            null|                     null|105536|\n",
            "|     9000.0|            0.0|  180000.0|            null|           null|                     10|                     1|               null|                 null|                    null|        -2824|              -1|        0.0|           -2815.0|       -2771.0|                 365243.0|      -1157.0|        365243.0|                      0.0|105536|\n",
            "|  17536.725|       211500.0|  267336.0|            null|       211500.0|                     11|                     1|               null|                 null|                    null|         -197|              -1|       24.0|          365243.0|        -167.0|                    523.0|     365243.0|        365243.0|                      1.0|105536|\n",
            "|   8217.765|        72841.5|   70965.0|          7285.5|        72841.5|                     12|                     1| 0.1013996309056404|                 null|                    null|        -2592|             150|       10.0|          365243.0|       -2561.0|                  -2291.0|      -2291.0|         -2271.0|                      1.0|105536|\n",
            "|       null|            0.0|       0.0|            null|           null|                     10|                     1|               null|                 null|                    null|         -207|              -1|       null|              null|          null|                     null|         null|            null|                     null|105536|\n",
            "|  20542.185|       315000.0|  349096.5|            null|       315000.0|                     13|                     1|               null|                 null|                    null|        -1209|               0|       24.0|          365243.0|       -1179.0|                   -489.0|       -489.0|          -486.0|                      1.0|105536|\n",
            "|       null|            0.0|       0.0|            null|           null|                     12|                     1|               null|                 null|                    null|         -246|              -1|       null|              null|          null|                     null|         null|            null|                     null|105536|\n",
            "|    28593.9|       630000.0|  630000.0|            null|       630000.0|                     12|                     1|               null|                 null|                    null|        -1376|               0|       36.0|          365243.0|       -1346.0|                   -296.0|       -296.0|          -290.0|                      0.0|105536|\n",
            "|    43006.5|       990000.0| 1104997.5|            null|       990000.0|                     12|                     1|               null|                 null|                    null|         -991|              -1|       48.0|          365243.0|        -961.0|                    449.0|     365243.0|        365243.0|                      1.0|105536|\n",
            "|       null|            0.0|       0.0|            null|           null|                     11|                     1|               null|                 null|                    null|         -197|              -1|       null|              null|          null|                     null|         null|            null|                     null|105536|\n",
            "|       null|            0.0|       0.0|            null|           null|                     12|                     1|               null|                 null|                    null|         -211|              -1|       null|              null|          null|                     null|         null|            null|                     null|105536|\n",
            "|   21100.68|       400500.0|  400500.0|            null|       400500.0|                     11|                     1|               null|                 null|                    null|         -197|              -1|       36.0|              null|          null|                     null|         null|            null|                     null|105536|\n",
            "|  25219.125|       652500.0|  652500.0|            null|       652500.0|                      8|                     1|               null|                 null|                    null|        -1102|              -1|       42.0|          365243.0|       -1071.0|                    159.0|       -171.0|          -165.0|                      0.0|105665|\n",
            "|    34785.0|       900000.0|  900000.0|            null|       900000.0|                      8|                     1|               null|                 null|                    null|        -1105|              -1|       42.0|              null|          null|                     null|         null|            null|                     null|105665|\n",
            "|  24125.625|       184500.0|  183604.5|         13500.0|       184500.0|                      9|                     1|0.07459356469653036|                 null|                    null|        -2489|              10|       10.0|          365243.0|       -2458.0|                  -2188.0|      -2188.0|         -2174.0|                      1.0|105665|\n",
            "|   35090.55|       675000.0|  732915.0|            null|       675000.0|                     14|                     1|               null|                 null|                    null|        -1109|              -1|       30.0|              null|          null|                     null|         null|            null|                     null|105665|\n",
            "+-----------+---------------+----------+----------------+---------------+-----------------------+----------------------+-------------------+---------------------+------------------------+-------------+----------------+-----------+------------------+--------------+-------------------------+-------------+----------------+-------------------------+------+\n",
            "only showing top 20 rows\n",
            "\n"
          ]
        }
      ],
      "source": [
        "prev_num.show()"
      ]
    },
    {
      "cell_type": "code",
      "execution_count": null,
      "metadata": {
        "id": "upBI92lK7hir"
      },
      "outputs": [],
      "source": [
        "prev_num = prev_num.groupBy('id').mean()"
      ]
    },
    {
      "cell_type": "code",
      "execution_count": null,
      "metadata": {
        "colab": {
          "base_uri": "https://localhost:8080/"
        },
        "id": "rdZNHgOm7hoP",
        "outputId": "4debf7c5-0f73-4b11-ad34-76e8f868df97"
      },
      "outputs": [
        {
          "data": {
            "text/plain": [
              "['id',\n",
              " 'avg(AMT_ANNUITY)',\n",
              " 'avg(AMT_APPLICATION)',\n",
              " 'avg(AMT_CREDIT)',\n",
              " 'avg(AMT_DOWN_PAYMENT)',\n",
              " 'avg(AMT_GOODS_PRICE)',\n",
              " 'avg(HOUR_APPR_PROCESS_START)',\n",
              " 'avg(NFLAG_LAST_APPL_IN_DAY)',\n",
              " 'avg(RATE_DOWN_PAYMENT)',\n",
              " 'avg(RATE_INTEREST_PRIMARY)',\n",
              " 'avg(RATE_INTEREST_PRIVILEGED)',\n",
              " 'avg(DAYS_DECISION)',\n",
              " 'avg(SELLERPLACE_AREA)',\n",
              " 'avg(CNT_PAYMENT)',\n",
              " 'avg(DAYS_FIRST_DRAWING)',\n",
              " 'avg(DAYS_FIRST_DUE)',\n",
              " 'avg(DAYS_LAST_DUE_1ST_VERSION)',\n",
              " 'avg(DAYS_LAST_DUE)',\n",
              " 'avg(DAYS_TERMINATION)',\n",
              " 'avg(NFLAG_INSURED_ON_APPROVAL)',\n",
              " 'avg(id)']"
            ]
          },
          "execution_count": 61,
          "metadata": {},
          "output_type": "execute_result"
        }
      ],
      "source": [
        "prev_num.columns"
      ]
    },
    {
      "cell_type": "code",
      "execution_count": null,
      "metadata": {
        "id": "xR50bF577htO"
      },
      "outputs": [],
      "source": [
        "prev_cat = spark.sql('''select NAME_CONTRACT_TYPE,\n",
        " WEEKDAY_APPR_PROCESS_START,\n",
        " FLAG_LAST_APPL_PER_CONTRACT,\n",
        " NAME_CASH_LOAN_PURPOSE,\n",
        " NAME_CONTRACT_STATUS,\n",
        " NAME_PAYMENT_TYPE,\n",
        " CODE_REJECT_REASON,\n",
        " NAME_TYPE_SUITE,\n",
        " NAME_CLIENT_TYPE,\n",
        " NAME_GOODS_CATEGORY,\n",
        " NAME_PORTFOLIO,\n",
        " NAME_PRODUCT_TYPE,\n",
        " CHANNEL_TYPE,\n",
        " NAME_SELLER_INDUSTRY,\n",
        " NAME_YIELD_GROUP,\n",
        " PRODUCT_COMBINATION,SK_ID_CURR from prev_train''')"
      ]
    },
    {
      "cell_type": "code",
      "execution_count": null,
      "metadata": {
        "id": "N_sMYoGN7hwK"
      },
      "outputs": [],
      "source": [
        "import pyspark.sql.functions as f\n",
        "prev_cat = prev_cat.groupBy('SK_ID_CURR').agg(f.max('NAME_CONTRACT_TYPE'),\n",
        "f.max('WEEKDAY_APPR_PROCESS_START'),\n",
        "f.max('FLAG_LAST_APPL_PER_CONTRACT'),\n",
        "f.max('NAME_CASH_LOAN_PURPOSE'),\n",
        "f.max('NAME_CONTRACT_STATUS'),\n",
        "f.max('NAME_PAYMENT_TYPE'),\n",
        "f.max('CODE_REJECT_REASON'),\n",
        "f.max('NAME_TYPE_SUITE'),\n",
        " f.max('NAME_CLIENT_TYPE'),\n",
        " f.max('NAME_GOODS_CATEGORY'),\n",
        " f.max('NAME_PORTFOLIO'),\n",
        " f.max('NAME_PRODUCT_TYPE'),\n",
        " f.max('CHANNEL_TYPE'),\n",
        " f.max('NAME_SELLER_INDUSTRY'),\n",
        " f.max('NAME_YIELD_GROUP'),\n",
        " f.max('PRODUCT_COMBINATION'))"
      ]
    },
    {
      "cell_type": "code",
      "execution_count": null,
      "metadata": {
        "colab": {
          "base_uri": "https://localhost:8080/"
        },
        "id": "Vg5eX0gS7hzI",
        "outputId": "51e222f1-081d-4157-ff18-c81b9aba9604"
      },
      "outputs": [
        {
          "name": "stdout",
          "output_type": "stream",
          "text": [
            "+----------+-----------------------+-------------------------------+--------------------------------+---------------------------+-------------------------+----------------------+-----------------------+--------------------+---------------------+------------------------+-------------------+----------------------+--------------------+-------------------------+---------------------+------------------------+\n",
            "|SK_ID_CURR|max(NAME_CONTRACT_TYPE)|max(WEEKDAY_APPR_PROCESS_START)|max(FLAG_LAST_APPL_PER_CONTRACT)|max(NAME_CASH_LOAN_PURPOSE)|max(NAME_CONTRACT_STATUS)|max(NAME_PAYMENT_TYPE)|max(CODE_REJECT_REASON)|max(NAME_TYPE_SUITE)|max(NAME_CLIENT_TYPE)|max(NAME_GOODS_CATEGORY)|max(NAME_PORTFOLIO)|max(NAME_PRODUCT_TYPE)|   max(CHANNEL_TYPE)|max(NAME_SELLER_INDUSTRY)|max(NAME_YIELD_GROUP)|max(PRODUCT_COMBINATION)|\n",
            "+----------+-----------------------+-------------------------------+--------------------------------+---------------------------+-------------------------+----------------------+-----------------------+--------------------+---------------------+------------------------+-------------------+----------------------+--------------------+-------------------------+---------------------+------------------------+\n",
            "|    100011|        Revolving loans|                      WEDNESDAY|                               Y|                        XNA|                  Refused|                   XNA|                    XAP|       Unaccompanied|             Repeater|                     XNA|                XNA|                x-sell|Credit and cash o...|                      XNA|           low_action|    POS household wit...|\n",
            "|    100023|        Revolving loans|                      WEDNESDAY|                               Y|                        XNA|                 Approved|                   XNA|                    XAP|       Unaccompanied|             Repeater|                     XNA|                POS|                x-sell|               Stone|                      XNA|               middle|    POS household wit...|\n",
            "|    100048|        Revolving loans|                        TUESDAY|                               Y|                        XNA|                 Canceled|                   XNA|                    XAP|       Unaccompanied|             Repeater|                     XNA|                XNA|                x-sell|Credit and cash o...|                      XNA|               middle|     Cash X-Sell: middle|\n",
            "|    100049|        Revolving loans|                         SUNDAY|                               Y|                        XNA|                 Approved|                   XNA|                    XAP|       Unaccompanied|             Repeater|                     XNA|                POS|                x-sell|    Regional / Local|                      XNA|               middle|    POS mobile with i...|\n",
            "|    100050|        Revolving loans|                      WEDNESDAY|                               Y|                        XAP|                 Canceled|                   XNA|                    XAP|       Unaccompanied|             Repeater|                     XNA|                XNA|                x-sell|Credit and cash o...|                      XNA|           low_action|    POS others withou...|\n",
            "|    100077|        Revolving loans|                      WEDNESDAY|                               Y|                        XNA|                  Refused|                   XNA|                    XAP|       Unaccompanied|             Repeater|                     XNA|                XNA|                x-sell|Credit and cash o...|                      XNA|               middle|    POS other with in...|\n",
            "|    100082|        Revolving loans|                        TUESDAY|                               Y|                        XNA|                  Refused|                   XNA|                    XAP|       Unaccompanied|             Repeater|                     XNA|                XNA|                x-sell|               Stone|                      XNA|           low_normal|    POS mobile with i...|\n",
            "|    100100|        Revolving loans|                      WEDNESDAY|                               Y|                        XAP|                 Approved|                   XNA|                    XAP|     Spouse, partner|             Repeater|                     XNA|                POS|                x-sell|Credit and cash o...|                      XNA|               middle|    POS mobile with i...|\n",
            "|    100110|        Revolving loans|                      WEDNESDAY|                               Y|                        XAP|                 Approved|                   XNA|                    XAP|              Family|             Repeater|                     XNA|                POS|               walk-in|    Regional / Local|     Consumer electronics|               middle|    POS mobile with i...|\n",
            "|    100112|        Revolving loans|                        TUESDAY|                               Y|                        XAP|                 Approved|                   XNA|                    XAP|       Unaccompanied|             Repeater|                     XNA|                POS|                x-sell|               Stone|     Consumer electronics|               middle|    POS mobile withou...|\n",
            "|    100114|        Revolving loans|                         FRIDAY|                               Y|                        XAP|                 Approved|                   XNA|                    XAP|              Family|                  New|                     XNA|                POS|               walk-in|        Country-wide|     Consumer electronics|           low_normal|    POS household wit...|\n",
            "|    100115|        Revolving loans|                        TUESDAY|                               Y|                        XNA|                 Canceled|                   XNA|                    XAP|              Family|             Repeater|                     XNA|                XNA|                x-sell|Credit and cash o...|                      XNA|               middle|    POS household wit...|\n",
            "|    100131|        Revolving loans|                         FRIDAY|                               Y|                        XNA|                 Approved|                   XNA|                    XAP|                null|            Refreshed|                     XNA|               Cash|                x-sell|Credit and cash o...|                      XNA|                 high|       Cash X-Sell: high|\n",
            "|    100135|        Revolving loans|                      WEDNESDAY|                               Y|                        XNA|                  Refused|                   XNA|                    XAP|       Unaccompanied|             Repeater|                     XNA|                XNA|                x-sell|Credit and cash o...|                      XNA|               middle|    POS household wit...|\n",
            "|    100138|        Revolving loans|                       SATURDAY|                               Y|                        XAP|                 Approved|                   XNA|                    XAP|              Family|                  New|                     XNA|                POS|               walk-in|        Country-wide|     Consumer electronics|               middle|    POS household wit...|\n",
            "|    100151|        Revolving loans|                      WEDNESDAY|                               Y|                        XNA|                 Canceled|                   XNA|                    XAP|       Unaccompanied|             Repeater|                     XNA|                XNA|                x-sell|Credit and cash o...|                      XNA|                 high|       Cash Street: high|\n",
            "|    100152|        Revolving loans|                      WEDNESDAY|                               Y|                        XNA|                 Canceled|                   XNA|                    XAP|       Unaccompanied|             Repeater|                     XNA|                XNA|                x-sell|Credit and cash o...|                      XNA|               middle|    POS mobile with i...|\n",
            "|    100153|        Revolving loans|                       THURSDAY|                               Y|                        XNA|                 Canceled|                   XNA|                    XAP|       Unaccompanied|             Repeater|                     XNA|                XNA|                x-sell|               Stone|                      XNA|               middle|    POS household wit...|\n",
            "|    100157|        Revolving loans|                        TUESDAY|                               Y|                        XNA|                  Refused|                   XNA|                    XAP|     Spouse, partner|             Repeater|                     XNA|                XNA|                x-sell|Credit and cash o...|                      XNA|               middle|    POS household wit...|\n",
            "|    100162|        Revolving loans|                      WEDNESDAY|                               Y|                        XNA|             Unused offer|                   XNA|                    XAP|       Unaccompanied|             Repeater|                     XNA|                XNA|                x-sell|               Stone|                      XNA|               middle|    POS mobile with i...|\n",
            "+----------+-----------------------+-------------------------------+--------------------------------+---------------------------+-------------------------+----------------------+-----------------------+--------------------+---------------------+------------------------+-------------------+----------------------+--------------------+-------------------------+---------------------+------------------------+\n",
            "only showing top 20 rows\n",
            "\n"
          ]
        }
      ],
      "source": [
        "prev_cat.show()"
      ]
    },
    {
      "cell_type": "code",
      "execution_count": null,
      "metadata": {
        "id": "9t1mJWwF7h2C"
      },
      "outputs": [],
      "source": [
        "prev_cat.createOrReplaceTempView(\"prev_cat\")\n",
        "prev_num.createOrReplaceTempView(\"prev_num\")\n",
        "prev_train_up=spark.sql('''SELECT *\n",
        "FROM prev_num\n",
        "INNER JOIN prev_cat\n",
        "ON prev_cat.SK_ID_CURR = prev_num.id; ''')"
      ]
    },
    {
      "cell_type": "code",
      "execution_count": null,
      "metadata": {
        "colab": {
          "base_uri": "https://localhost:8080/"
        },
        "id": "aJlQvIwG7h47",
        "outputId": "0628458c-8ef7-4d4c-8b9f-01af93e67423"
      },
      "outputs": [
        {
          "name": "stdout",
          "output_type": "stream",
          "text": [
            "+------+------------------+--------------------+-----------------+---------------------+--------------------+----------------------------+---------------------------+----------------------+--------------------------+-----------------------------+-------------------+---------------------+-----------------+-----------------------+-------------------+------------------------------+------------------+---------------------+------------------------------+--------+----------+-----------------------+-------------------------------+--------------------------------+---------------------------+-------------------------+----------------------+-----------------------+--------------------+---------------------+------------------------+-------------------+----------------------+--------------------+-------------------------+---------------------+------------------------+\n",
            "|    id|  avg(AMT_ANNUITY)|avg(AMT_APPLICATION)|  avg(AMT_CREDIT)|avg(AMT_DOWN_PAYMENT)|avg(AMT_GOODS_PRICE)|avg(HOUR_APPR_PROCESS_START)|avg(NFLAG_LAST_APPL_IN_DAY)|avg(RATE_DOWN_PAYMENT)|avg(RATE_INTEREST_PRIMARY)|avg(RATE_INTEREST_PRIVILEGED)| avg(DAYS_DECISION)|avg(SELLERPLACE_AREA)| avg(CNT_PAYMENT)|avg(DAYS_FIRST_DRAWING)|avg(DAYS_FIRST_DUE)|avg(DAYS_LAST_DUE_1ST_VERSION)|avg(DAYS_LAST_DUE)|avg(DAYS_TERMINATION)|avg(NFLAG_INSURED_ON_APPROVAL)| avg(id)|SK_ID_CURR|max(NAME_CONTRACT_TYPE)|max(WEEKDAY_APPR_PROCESS_START)|max(FLAG_LAST_APPL_PER_CONTRACT)|max(NAME_CASH_LOAN_PURPOSE)|max(NAME_CONTRACT_STATUS)|max(NAME_PAYMENT_TYPE)|max(CODE_REJECT_REASON)|max(NAME_TYPE_SUITE)|max(NAME_CLIENT_TYPE)|max(NAME_GOODS_CATEGORY)|max(NAME_PORTFOLIO)|max(NAME_PRODUCT_TYPE)|   max(CHANNEL_TYPE)|max(NAME_SELLER_INDUSTRY)|max(NAME_YIELD_GROUP)|max(PRODUCT_COMBINATION)|\n",
            "+------+------------------+--------------------+-----------------+---------------------+--------------------+----------------------------+---------------------------+----------------------+--------------------------+-----------------------------+-------------------+---------------------+-----------------+-----------------------+-------------------+------------------------------+------------------+---------------------+------------------------------+--------+----------+-----------------------+-------------------------------+--------------------------------+---------------------------+-------------------------+----------------------+-----------------------+--------------------+---------------------+------------------------+-------------------+----------------------+--------------------+-------------------------+---------------------+------------------------+\n",
            "|100011|         18303.195|          202732.875|       261840.375|              6797.25|            270310.5|                       11.75|                        1.0|      0.05000522275463|                      null|                         null|            -1784.5|               342.25|             14.0|     242736.33333333334|            -1955.0|            120935.66666666667|           -1231.0|             121258.0|            0.6666666666666666|100011.0|    100011|        Revolving loans|                      WEDNESDAY|                               Y|                        XNA|                  Refused|                   XNA|                    XAP|       Unaccompanied|             Repeater|                     XNA|                XNA|                x-sell|Credit and cash o...|                      XNA|           low_action|    POS household wit...|\n",
            "|100023| 8895.892499999998|           98746.875|         113517.0|              8435.25|           98746.875|                        10.0|                        1.0|   0.09866945201849298|                      null|                         null|           -1215.75|                382.0|             12.5|               365243.0|           90199.75|                      90552.25|          90372.25|             90377.25|                           0.5|100023.0|    100023|        Revolving loans|                      WEDNESDAY|                               Y|                        XNA|                 Approved|                   XNA|                    XAP|       Unaccompanied|             Repeater|                     XNA|                POS|                x-sell|               Stone|                      XNA|               middle|    POS household wit...|\n",
            "|100048|         38522.265|            394875.0|       432694.125|                 null|            526500.0|                       10.75|                        1.0|                  null|                      null|                         null|             -544.5|                 -1.0|             12.0|     243188.33333333334|             -530.0|            121850.33333333333|243392.66666666666|   243394.66666666666|            0.6666666666666666|100048.0|    100048|        Revolving loans|                        TUESDAY|                               Y|                        XNA|                 Canceled|                   XNA|                    XAP|       Unaccompanied|             Repeater|                     XNA|                XNA|                x-sell|Credit and cash o...|                      XNA|               middle|     Cash X-Sell: middle|\n",
            "|100049|5747.8589999999995|             35602.2|          55715.4|               4377.0|            44502.75|                        10.6|                        1.0|   0.11639047300249707|                      null|                         null|            -1066.6|                 94.6|              8.0|               292148.8|             -995.8|                       72305.8|           72305.8|              72309.2|                           0.6|100049.0|    100049|        Revolving loans|                         SUNDAY|                               Y|                        XNA|                 Approved|                   XNA|                    XAP|       Unaccompanied|             Repeater|                     XNA|                POS|                x-sell|    Regional / Local|                      XNA|               middle|    POS mobile with i...|\n",
            "|100050|         7959.8025|            111199.5|         111199.5|                  0.0|           166799.25|           9.333333333333334|                        1.0|                   0.0|                      null|                         null| -317.6666666666667|   29.333333333333332|             12.0|               365243.0|           182392.0|                      182737.0|          182617.0|                -13.0|                           0.0|100050.0|    100050|        Revolving loans|                      WEDNESDAY|                               Y|                        XAP|                 Canceled|                   XNA|                    XAP|       Unaccompanied|             Repeater|                     XNA|                XNA|                x-sell|Credit and cash o...|                      XNA|           low_action|    POS others withou...|\n",
            "|100077|         21123.243|   59380.61538461538|66984.92307692308|               5890.5|            308779.2|          12.192307692307692|                        1.0|   0.10892573349633247|                      null|                         null|-330.15384615384613|  -0.9615384615384616|             14.0|               365243.0| 120845.66666666667|            120925.66666666667|120915.66666666667|   120917.33333333333|            0.3333333333333333|100077.0|    100077|        Revolving loans|                      WEDNESDAY|                               Y|                        XNA|                  Refused|                   XNA|                    XAP|       Unaccompanied|             Repeater|                     XNA|                XNA|                x-sell|Credit and cash o...|                      XNA|               middle|    POS other with in...|\n",
            "|100082| 22021.44576923077|            523975.2|         548873.4|              22662.0|            654969.0|                        17.6|                        1.0|   0.15943527382905257|                      null|                         null|-1138.6666666666667|   114.66666666666667|35.38461538461539|              273262.75|            -2010.5|                       90281.0|           -1662.0|             90068.25|                           0.0|100082.0|    100082|        Revolving loans|                        TUESDAY|                               Y|                        XNA|                  Refused|                   XNA|                    XAP|       Unaccompanied|             Repeater|                     XNA|                XNA|                x-sell|               Stone|                      XNA|           low_normal|    POS mobile with i...|\n",
            "|100100|13491.197999999999|            137855.7|         189446.4|                  0.0|          172319.625|                        12.6|                        1.0|                   0.0|                      null|                         null|            -1169.6|               3216.6|             12.8|               291621.2|            -1136.8|                       72838.2|           72605.8|             145822.4|                           0.2|100100.0|    100100|        Revolving loans|                      WEDNESDAY|                               Y|                        XAP|                 Approved|                   XNA|                    XAP|     Spouse, partner|             Repeater|                     XNA|                POS|                x-sell|Credit and cash o...|                      XNA|               middle|    POS mobile with i...|\n",
            "|100110|         6903.8775|            68442.75|          76599.0|               4540.5|            68442.75|                       14.75|                        1.0|  0.028781894375922667|                      null|                         null|             -200.5|                51.25|             10.5|               365243.0|          182494.25|                      91503.25|          273852.0|            273852.75|                          0.25|100110.0|    100110|        Revolving loans|                      WEDNESDAY|                               Y|                        XAP|                 Approved|                   XNA|                    XAP|              Family|             Repeater|                     XNA|                POS|               walk-in|    Regional / Local|     Consumer electronics|               middle|    POS mobile with i...|\n",
            "|100112|        12261.8025|           79239.375|        115589.25|              14161.5|            105652.5|                       18.25|                        1.0|    0.1969766534908337|                      null|                         null|             -883.5|                376.0|              7.0|               365243.0|           90599.75|                      90787.25|          90712.25|              -634.75|                           0.0|100112.0|    100112|        Revolving loans|                        TUESDAY|                               Y|                        XAP|                 Approved|                   XNA|                    XAP|       Unaccompanied|             Repeater|                     XNA|                POS|                x-sell|               Stone|     Consumer electronics|               middle|    POS mobile withou...|\n",
            "|100114|           5288.13|             62842.5|         67101.75|                  0.0|             62842.5|                        14.5|                        1.0|                   0.0|                      null|                         null|             -227.0|                200.0|              6.0|               365243.0|           182523.0|                      182688.0|          365243.0|             365243.0|                           0.5|100114.0|    100114|        Revolving loans|                         FRIDAY|                               Y|                        XAP|                 Approved|                   XNA|                    XAP|              Family|                  New|                     XNA|                POS|               walk-in|        Country-wide|     Consumer electronics|           low_normal|    POS household wit...|\n",
            "|100115| 6408.157499999999|            40826.25|          42097.5|                  0.0|             81652.5|                        11.5|                        1.0|                   0.0|                      null|                         null|             -90.75|                11.75|              3.0|               182601.5|           182515.5|                      182590.5|          182590.5|             182593.5|                           0.0|100115.0|    100115|        Revolving loans|                        TUESDAY|                               Y|                        XNA|                 Canceled|                   XNA|                    XAP|              Family|             Repeater|                     XNA|                XNA|                x-sell|Credit and cash o...|                      XNA|               middle|    POS household wit...|\n",
            "|100131|         25057.575|            112500.0|        442028.25|                 null|            225000.0|                        19.0|                        1.0|                  null|                      null|                         null|             -741.0|                 -1.0|             12.0|               182258.0|             -704.5|                      182611.0|          182476.0|             182479.5|                           0.5|100131.0|    100131|        Revolving loans|                         FRIDAY|                               Y|                        XNA|                 Approved|                   XNA|                    XAP|                null|            Refreshed|                     XNA|               Cash|                x-sell|Credit and cash o...|                      XNA|                 high|       Cash X-Sell: high|\n",
            "|100135|13163.028750000001|           126672.75|       171004.875|                  0.0|          190009.125|                        13.0|         0.9166666666666666|                   0.0|                      null|                         null| -449.6666666666667|   184.33333333333334|             18.0|               365243.0|           90822.25|                      91339.75|          182304.5|            182310.75|                          0.75|100135.0|    100135|        Revolving loans|                      WEDNESDAY|                               Y|                        XNA|                  Refused|                   XNA|                    XAP|       Unaccompanied|             Repeater|                     XNA|                XNA|                x-sell|Credit and cash o...|                      XNA|               middle|    POS household wit...|\n",
            "|100138|         8467.0875|            76943.25|          81733.5|                  0.0|            76943.25|                        15.0|                        1.0|                   0.0|                      null|                         null|             -242.0|                200.0|              5.0|               365243.0|           182515.5|                      182650.5|          365243.0|             365243.0|                           0.5|100138.0|    100138|        Revolving loans|                       SATURDAY|                               Y|                        XAP|                 Approved|                   XNA|                    XAP|              Family|                  New|                     XNA|                POS|               walk-in|        Country-wide|     Consumer electronics|               middle|    POS household wit...|\n",
            "|100151|           16767.9|            195000.0|         198358.5|                 null|            292500.0|                        13.0|                        1.0|                  null|                      null|                         null| -612.3333333333334|                 -1.0|              6.0|               182437.5|             -666.5|                      182281.0|          182281.0|             182285.5|                           0.5|100151.0|    100151|        Revolving loans|                      WEDNESDAY|                               Y|                        XNA|                 Canceled|                   XNA|                    XAP|       Unaccompanied|             Repeater|                     XNA|                XNA|                x-sell|Credit and cash o...|                      XNA|                 high|       Cash Street: high|\n",
            "|100152|         19889.715|   369405.4090909091|466384.0909090909|               1717.2|         507932.4375|           7.909090909090909|                        1.0|   0.04141534802501027|                      null|                         null| -883.4545454545455|    365.6363636363636|28.88888888888889|               365243.0|            44645.0|                      45368.75|           90585.5|            44924.375|                          0.25|100152.0|    100152|        Revolving loans|                      WEDNESDAY|                               Y|                        XNA|                 Canceled|                   XNA|                    XAP|       Unaccompanied|             Repeater|                     XNA|                XNA|                x-sell|Credit and cash o...|                      XNA|               middle|    POS mobile with i...|\n",
            "|100153|          15290.31|  185659.07142857142|         222160.5|               2533.5|            259922.7|          10.714285714285714|                        1.0|  0.027424236390469717|                      null|                         null| -1535.857142857143|   169.85714285714286|             15.0|      303998.8333333333|-1718.8333333333333|                       59941.5|           59836.5|              59841.5|            0.6666666666666666|100153.0|    100153|        Revolving loans|                       THURSDAY|                               Y|                        XNA|                 Canceled|                   XNA|                    XAP|       Unaccompanied|             Repeater|                     XNA|                XNA|                x-sell|               Stone|                      XNA|               middle|    POS household wit...|\n",
            "|100157|12724.470000000001|             41386.5|         128614.5|               5625.0|             68977.5|                        10.6|                        1.0|   0.06886456738013745|                      null|                         null|            -1435.8|               1354.6|              7.5|               365243.0| 120585.33333333333|            120805.33333333333|120785.33333333333|             120788.0|                           0.0|100157.0|    100157|        Revolving loans|                        TUESDAY|                               Y|                        XNA|                  Refused|                   XNA|                    XAP|     Spouse, partner|             Repeater|                     XNA|                XNA|                x-sell|Credit and cash o...|                      XNA|               middle|    POS household wit...|\n",
            "|100162|17355.510000000002|            301380.0|         331975.5|              10125.0|            339052.5|           10.11111111111111|                        1.0|   0.07352981292247929|                      null|                         null|-1106.6666666666667|   117.22222222222223|            35.25|               365243.0| 59959.333333333336|            60924.333333333336|60199.333333333336|              60206.0|                           0.5|100162.0|    100162|        Revolving loans|                      WEDNESDAY|                               Y|                        XNA|             Unused offer|                   XNA|                    XAP|       Unaccompanied|             Repeater|                     XNA|                XNA|                x-sell|               Stone|                      XNA|               middle|    POS mobile with i...|\n",
            "+------+------------------+--------------------+-----------------+---------------------+--------------------+----------------------------+---------------------------+----------------------+--------------------------+-----------------------------+-------------------+---------------------+-----------------+-----------------------+-------------------+------------------------------+------------------+---------------------+------------------------------+--------+----------+-----------------------+-------------------------------+--------------------------------+---------------------------+-------------------------+----------------------+-----------------------+--------------------+---------------------+------------------------+-------------------+----------------------+--------------------+-------------------------+---------------------+------------------------+\n",
            "only showing top 20 rows\n",
            "\n"
          ]
        }
      ],
      "source": [
        "prev_train_up.show()"
      ]
    },
    {
      "cell_type": "code",
      "execution_count": null,
      "metadata": {
        "id": "UEevqJtE7h7u"
      },
      "outputs": [],
      "source": [
        "rd_prev = prev_train_up.select([count(when(col(c).isNull(), c)).alias(c) for c in prev_train_up.columns])"
      ]
    },
    {
      "cell_type": "code",
      "execution_count": null,
      "metadata": {
        "id": "DPfPzBSt7h-p"
      },
      "outputs": [],
      "source": [
        "r_prev=[]\n",
        "for i in range(len(prev_train_up.columns)):\n",
        "  # print(rd[i],rd.collect()[0][i]/app_train.count())\n",
        "  # r = rd.collect()[0][i]/app_train.count()>0.5\n",
        "  if(rd_prev.collect()[0][i]/72793>0.5):\n",
        "    r_prev.append(rd_prev.columns[i])"
      ]
    },
    {
      "cell_type": "code",
      "execution_count": null,
      "metadata": {
        "colab": {
          "base_uri": "https://localhost:8080/"
        },
        "id": "3uv7tvR47iBS",
        "outputId": "b3d194ea-7cb1-47e6-ee5d-495a83825132"
      },
      "outputs": [
        {
          "data": {
            "text/plain": [
              "['avg(RATE_INTEREST_PRIMARY)', 'avg(RATE_INTEREST_PRIVILEGED)']"
            ]
          },
          "execution_count": 69,
          "metadata": {},
          "output_type": "execute_result"
        }
      ],
      "source": [
        "r_prev"
      ]
    },
    {
      "cell_type": "code",
      "execution_count": null,
      "metadata": {
        "id": "2DNn5sQe7iD5"
      },
      "outputs": [],
      "source": [
        "prev_train_up = prev_train_up.drop('avg(RATE_INTEREST_PRIMARY)','avg(RATE_INTEREST_PRIVILEGED)')"
      ]
    },
    {
      "cell_type": "code",
      "execution_count": null,
      "metadata": {
        "colab": {
          "base_uri": "https://localhost:8080/"
        },
        "id": "L1Q0t0ZO7iGn",
        "outputId": "b3368dcb-74e8-469b-892a-7380f6a3e249"
      },
      "outputs": [
        {
          "name": "stdout",
          "output_type": "stream",
          "text": [
            "+---+----------------+--------------------+---------------+---------------------+--------------------+----------------------------+---------------------------+----------------------+------------------+---------------------+----------------+-----------------------+-------------------+------------------------------+------------------+---------------------+------------------------------+-------+----------+-----------------------+-------------------------------+--------------------------------+---------------------------+-------------------------+----------------------+-----------------------+--------------------+---------------------+------------------------+-------------------+----------------------+-----------------+-------------------------+---------------------+------------------------+\n",
            "| id|avg(AMT_ANNUITY)|avg(AMT_APPLICATION)|avg(AMT_CREDIT)|avg(AMT_DOWN_PAYMENT)|avg(AMT_GOODS_PRICE)|avg(HOUR_APPR_PROCESS_START)|avg(NFLAG_LAST_APPL_IN_DAY)|avg(RATE_DOWN_PAYMENT)|avg(DAYS_DECISION)|avg(SELLERPLACE_AREA)|avg(CNT_PAYMENT)|avg(DAYS_FIRST_DRAWING)|avg(DAYS_FIRST_DUE)|avg(DAYS_LAST_DUE_1ST_VERSION)|avg(DAYS_LAST_DUE)|avg(DAYS_TERMINATION)|avg(NFLAG_INSURED_ON_APPROVAL)|avg(id)|SK_ID_CURR|max(NAME_CONTRACT_TYPE)|max(WEEKDAY_APPR_PROCESS_START)|max(FLAG_LAST_APPL_PER_CONTRACT)|max(NAME_CASH_LOAN_PURPOSE)|max(NAME_CONTRACT_STATUS)|max(NAME_PAYMENT_TYPE)|max(CODE_REJECT_REASON)|max(NAME_TYPE_SUITE)|max(NAME_CLIENT_TYPE)|max(NAME_GOODS_CATEGORY)|max(NAME_PORTFOLIO)|max(NAME_PRODUCT_TYPE)|max(CHANNEL_TYPE)|max(NAME_SELLER_INDUSTRY)|max(NAME_YIELD_GROUP)|max(PRODUCT_COMBINATION)|\n",
            "+---+----------------+--------------------+---------------+---------------------+--------------------+----------------------------+---------------------------+----------------------+------------------+---------------------+----------------+-----------------------+-------------------+------------------------------+------------------+---------------------+------------------------------+-------+----------+-----------------------+-------------------------------+--------------------------------+---------------------------+-------------------------+----------------------+-----------------------+--------------------+---------------------+------------------------+-------------------+----------------------+-----------------+-------------------------+---------------------+------------------------+\n",
            "|  0|              15|                   0|              0|                 5210|                 419|                           0|                          0|                  5210|                 0|                    0|              15|                     92|                 92|                            92|                92|                   92|                            92|      0|         0|                      0|                              0|                               0|                          0|                        0|                     0|                      0|                3987|                    0|                       0|                  0|                     0|                0|                        0|                    0|                       0|\n",
            "+---+----------------+--------------------+---------------+---------------------+--------------------+----------------------------+---------------------------+----------------------+------------------+---------------------+----------------+-----------------------+-------------------+------------------------------+------------------+---------------------+------------------------------+-------+----------+-----------------------+-------------------------------+--------------------------------+---------------------------+-------------------------+----------------------+-----------------------+--------------------+---------------------+------------------------+-------------------+----------------------+-----------------+-------------------------+---------------------+------------------------+\n",
            "\n"
          ]
        }
      ],
      "source": [
        "prev_train_up.select([count(when(col(c).isNull(), c)).alias(c) for c in prev_train_up.columns]).show()"
      ]
    },
    {
      "cell_type": "code",
      "execution_count": null,
      "metadata": {
        "colab": {
          "base_uri": "https://localhost:8080/"
        },
        "id": "cSXPkVyq7iJQ",
        "outputId": "1f1e7d50-0143-4dff-face-9388caf218a0"
      },
      "outputs": [
        {
          "name": "stdout",
          "output_type": "stream",
          "text": [
            "avg(AMT_ANNUITY)\n",
            "avg(AMT_DOWN_PAYMENT)\n",
            "avg(AMT_GOODS_PRICE)\n",
            "avg(RATE_DOWN_PAYMENT)\n",
            "avg(CNT_PAYMENT)\n",
            "avg(DAYS_FIRST_DRAWING)\n",
            "avg(DAYS_FIRST_DUE)\n",
            "avg(DAYS_LAST_DUE_1ST_VERSION)\n",
            "avg(DAYS_LAST_DUE)\n",
            "avg(DAYS_TERMINATION)\n",
            "avg(NFLAG_INSURED_ON_APPROVAL)\n",
            "max(NAME_TYPE_SUITE)\n"
          ]
        }
      ],
      "source": [
        "from pyspark.sql.functions import col,count,isnan,when\n",
        "rd_prev_1 = prev_train_up.select([count(when(col(c).isNull(), c)).alias(c) for c in prev_train_up.columns])\n",
        "for i in range(len(prev_train_up.columns)):\n",
        "  if(rd_prev_1.collect()[0][i]>0):\n",
        "    print(rd_prev_1.columns[i])"
      ]
    },
    {
      "cell_type": "code",
      "execution_count": null,
      "metadata": {
        "id": "qjgyCC-j7iMS"
      },
      "outputs": [],
      "source": [
        "from pyspark.ml.feature import Imputer\n",
        "\n",
        "imputer = Imputer(\n",
        "      inputCols=['avg(AMT_ANNUITY)',\n",
        "'avg(AMT_DOWN_PAYMENT)',\n",
        "'avg(AMT_GOODS_PRICE)',\n",
        "'avg(RATE_DOWN_PAYMENT)',\n",
        "'avg(CNT_PAYMENT)',\n",
        "'avg(DAYS_FIRST_DRAWING)',\n",
        "'avg(DAYS_FIRST_DUE)',\n",
        "'avg(DAYS_LAST_DUE_1ST_VERSION)',\n",
        "'avg(DAYS_LAST_DUE)',\n",
        "'avg(DAYS_TERMINATION)',\n",
        "'avg(NFLAG_INSURED_ON_APPROVAL)'], \n",
        "      outputCols=['avg(AMT_ANNUITY)',\n",
        "'avg(AMT_DOWN_PAYMENT)',\n",
        "'avg(AMT_GOODS_PRICE)',\n",
        "'avg(RATE_DOWN_PAYMENT)',\n",
        "'avg(CNT_PAYMENT)',\n",
        "'avg(DAYS_FIRST_DRAWING)',\n",
        "'avg(DAYS_FIRST_DUE)',\n",
        "'avg(DAYS_LAST_DUE_1ST_VERSION)',\n",
        "'avg(DAYS_LAST_DUE)',\n",
        "'avg(DAYS_TERMINATION)',\n",
        "'avg(NFLAG_INSURED_ON_APPROVAL)']\n",
        "      ).setStrategy(\"mean\")"
      ]
    },
    {
      "cell_type": "code",
      "execution_count": null,
      "metadata": {
        "id": "8uTZqBvE3FTC"
      },
      "outputs": [],
      "source": [
        "model = imputer.fit(prev_train_up)\n",
        "prev_train_imputed = model.transform(prev_train_up)"
      ]
    },
    {
      "cell_type": "code",
      "execution_count": null,
      "metadata": {
        "colab": {
          "base_uri": "https://localhost:8080/"
        },
        "id": "YV82GciT3FVn",
        "outputId": "5b795f4a-b332-497f-884b-3a65249271d0"
      },
      "outputs": [
        {
          "name": "stdout",
          "output_type": "stream",
          "text": [
            "+--------------------+-----+\n",
            "|max(NAME_TYPE_SUITE)|count|\n",
            "+--------------------+-----+\n",
            "|       Unaccompanied|57132|\n",
            "|              Family| 6467|\n",
            "|                null| 3987|\n",
            "|     Spouse, partner| 3497|\n",
            "|            Children|  664|\n",
            "|             Other_B|  662|\n",
            "|             Other_A|  309|\n",
            "|     Group of people|   75|\n",
            "+--------------------+-----+\n",
            "\n"
          ]
        }
      ],
      "source": [
        "prev_train_imputed.groupBy(\"max(NAME_TYPE_SUITE)\").count().sort(col(\"count\").desc()).show()"
      ]
    },
    {
      "cell_type": "code",
      "execution_count": null,
      "metadata": {
        "colab": {
          "base_uri": "https://localhost:8080/"
        },
        "id": "WX_Es0o5HLiu",
        "outputId": "d3bcc11b-5283-4c59-b3d3-47cdf37b22ad"
      },
      "outputs": [
        {
          "name": "stdout",
          "output_type": "stream",
          "text": [
            "+---+----------------+--------------------+---------------+---------------------+--------------------+----------------------------+---------------------------+----------------------+------------------+---------------------+----------------+-----------------------+-------------------+------------------------------+------------------+---------------------+------------------------------+-------+----------+-----------------------+-------------------------------+--------------------------------+---------------------------+-------------------------+----------------------+-----------------------+--------------------+---------------------+------------------------+-------------------+----------------------+-----------------+-------------------------+---------------------+------------------------+\n",
            "| id|avg(AMT_ANNUITY)|avg(AMT_APPLICATION)|avg(AMT_CREDIT)|avg(AMT_DOWN_PAYMENT)|avg(AMT_GOODS_PRICE)|avg(HOUR_APPR_PROCESS_START)|avg(NFLAG_LAST_APPL_IN_DAY)|avg(RATE_DOWN_PAYMENT)|avg(DAYS_DECISION)|avg(SELLERPLACE_AREA)|avg(CNT_PAYMENT)|avg(DAYS_FIRST_DRAWING)|avg(DAYS_FIRST_DUE)|avg(DAYS_LAST_DUE_1ST_VERSION)|avg(DAYS_LAST_DUE)|avg(DAYS_TERMINATION)|avg(NFLAG_INSURED_ON_APPROVAL)|avg(id)|SK_ID_CURR|max(NAME_CONTRACT_TYPE)|max(WEEKDAY_APPR_PROCESS_START)|max(FLAG_LAST_APPL_PER_CONTRACT)|max(NAME_CASH_LOAN_PURPOSE)|max(NAME_CONTRACT_STATUS)|max(NAME_PAYMENT_TYPE)|max(CODE_REJECT_REASON)|max(NAME_TYPE_SUITE)|max(NAME_CLIENT_TYPE)|max(NAME_GOODS_CATEGORY)|max(NAME_PORTFOLIO)|max(NAME_PRODUCT_TYPE)|max(CHANNEL_TYPE)|max(NAME_SELLER_INDUSTRY)|max(NAME_YIELD_GROUP)|max(PRODUCT_COMBINATION)|\n",
            "+---+----------------+--------------------+---------------+---------------------+--------------------+----------------------------+---------------------------+----------------------+------------------+---------------------+----------------+-----------------------+-------------------+------------------------------+------------------+---------------------+------------------------------+-------+----------+-----------------------+-------------------------------+--------------------------------+---------------------------+-------------------------+----------------------+-----------------------+--------------------+---------------------+------------------------+-------------------+----------------------+-----------------+-------------------------+---------------------+------------------------+\n",
            "|  0|               0|                   0|              0|                    0|                   0|                           0|                          0|                     0|                 0|                    0|               0|                      0|                  0|                             0|                 0|                    0|                             0|      0|         0|                      0|                              0|                               0|                          0|                        0|                     0|                      0|                3987|                    0|                       0|                  0|                     0|                0|                        0|                    0|                       0|\n",
            "+---+----------------+--------------------+---------------+---------------------+--------------------+----------------------------+---------------------------+----------------------+------------------+---------------------+----------------+-----------------------+-------------------+------------------------------+------------------+---------------------+------------------------------+-------+----------+-----------------------+-------------------------------+--------------------------------+---------------------------+-------------------------+----------------------+-----------------------+--------------------+---------------------+------------------------+-------------------+----------------------+-----------------+-------------------------+---------------------+------------------------+\n",
            "\n"
          ]
        }
      ],
      "source": [
        "prev_train_imputed.select([count(when(col(c).isNull(), c)).alias(c) for c in prev_train_imputed.columns]).show()"
      ]
    },
    {
      "cell_type": "code",
      "execution_count": null,
      "metadata": {
        "id": "B1G2OQoLEy4t"
      },
      "outputs": [],
      "source": [
        "prev_train_imputed = prev_train_imputed.fillna('Unaccompanied')"
      ]
    },
    {
      "cell_type": "code",
      "execution_count": null,
      "metadata": {
        "colab": {
          "base_uri": "https://localhost:8080/"
        },
        "id": "lY64ZLv7Ey7W",
        "outputId": "69df704a-862e-4824-e447-ef0b9a81304e"
      },
      "outputs": [
        {
          "data": {
            "text/plain": [
              "['id',\n",
              " 'avg(AMT_ANNUITY)',\n",
              " 'avg(AMT_APPLICATION)',\n",
              " 'avg(AMT_CREDIT)',\n",
              " 'avg(AMT_DOWN_PAYMENT)',\n",
              " 'avg(AMT_GOODS_PRICE)',\n",
              " 'avg(HOUR_APPR_PROCESS_START)',\n",
              " 'avg(NFLAG_LAST_APPL_IN_DAY)',\n",
              " 'avg(RATE_DOWN_PAYMENT)',\n",
              " 'avg(DAYS_DECISION)',\n",
              " 'avg(SELLERPLACE_AREA)',\n",
              " 'avg(CNT_PAYMENT)',\n",
              " 'avg(DAYS_FIRST_DRAWING)',\n",
              " 'avg(DAYS_FIRST_DUE)',\n",
              " 'avg(DAYS_LAST_DUE_1ST_VERSION)',\n",
              " 'avg(DAYS_LAST_DUE)',\n",
              " 'avg(DAYS_TERMINATION)',\n",
              " 'avg(NFLAG_INSURED_ON_APPROVAL)',\n",
              " 'avg(id)',\n",
              " 'SK_ID_CURR',\n",
              " 'max(NAME_CONTRACT_TYPE)',\n",
              " 'max(WEEKDAY_APPR_PROCESS_START)',\n",
              " 'max(FLAG_LAST_APPL_PER_CONTRACT)',\n",
              " 'max(NAME_CASH_LOAN_PURPOSE)',\n",
              " 'max(NAME_CONTRACT_STATUS)',\n",
              " 'max(NAME_PAYMENT_TYPE)',\n",
              " 'max(CODE_REJECT_REASON)',\n",
              " 'max(NAME_TYPE_SUITE)',\n",
              " 'max(NAME_CLIENT_TYPE)',\n",
              " 'max(NAME_GOODS_CATEGORY)',\n",
              " 'max(NAME_PORTFOLIO)',\n",
              " 'max(NAME_PRODUCT_TYPE)',\n",
              " 'max(CHANNEL_TYPE)',\n",
              " 'max(NAME_SELLER_INDUSTRY)',\n",
              " 'max(NAME_YIELD_GROUP)',\n",
              " 'max(PRODUCT_COMBINATION)']"
            ]
          },
          "execution_count": 78,
          "metadata": {},
          "output_type": "execute_result"
        }
      ],
      "source": [
        "prev_train_imputed.columns"
      ]
    },
    {
      "cell_type": "code",
      "execution_count": null,
      "metadata": {
        "id": "G3mj-l9HEzAl"
      },
      "outputs": [],
      "source": [
        "indexer = StringIndexer(inputCols=['max(NAME_CONTRACT_TYPE)',\n",
        " 'max(WEEKDAY_APPR_PROCESS_START)',\n",
        " 'max(FLAG_LAST_APPL_PER_CONTRACT)',\n",
        " 'max(NAME_CASH_LOAN_PURPOSE)',\n",
        " 'max(NAME_CONTRACT_STATUS)',\n",
        " 'max(NAME_PAYMENT_TYPE)',\n",
        " 'max(CODE_REJECT_REASON)',\n",
        " 'max(NAME_TYPE_SUITE)',\n",
        " 'max(NAME_CLIENT_TYPE)',\n",
        " 'max(NAME_GOODS_CATEGORY)',\n",
        " 'max(NAME_PORTFOLIO)',\n",
        " 'max(NAME_PRODUCT_TYPE)',\n",
        " 'max(CHANNEL_TYPE)',\n",
        " 'max(NAME_SELLER_INDUSTRY)',\n",
        " 'max(NAME_YIELD_GROUP)',\n",
        " 'max(PRODUCT_COMBINATION)'],outputCols=['max(NAME_CONTRACT_TYPE)_indexed',\n",
        " 'max(WEEKDAY_APPR_PROCESS_START)_indexed',\n",
        " 'max(FLAG_LAST_APPL_PER_CONTRACT)_indexed',\n",
        " 'max(NAME_CASH_LOAN_PURPOSE)_indexed',\n",
        " 'max(NAME_CONTRACT_STATUS)_indexed',\n",
        " 'max(NAME_PAYMENT_TYPE)_indexed',\n",
        " 'max(CODE_REJECT_REASON)_indexed',\n",
        " 'max(NAME_TYPE_SUITE)_indexed',\n",
        " 'max(NAME_CLIENT_TYPE)_indexed',\n",
        " 'max(NAME_GOODS_CATEGORY)_indexed',\n",
        " 'max(NAME_PORTFOLIO)_indexed',\n",
        " 'max(NAME_PRODUCT_TYPE)_indexed',\n",
        " 'max(CHANNEL_TYPE)_indexed',\n",
        " 'max(NAME_SELLER_INDUSTRY)_indexed',\n",
        " 'max(NAME_YIELD_GROUP)_indexed',\n",
        " 'max(PRODUCT_COMBINATION)_indexed'])"
      ]
    },
    {
      "cell_type": "code",
      "execution_count": null,
      "metadata": {
        "id": "fFqf1_AiEzDf"
      },
      "outputs": [],
      "source": [
        "prev_train_indexer = indexer.fit(prev_train_imputed).transform(prev_train_imputed)"
      ]
    },
    {
      "cell_type": "code",
      "execution_count": null,
      "metadata": {
        "colab": {
          "base_uri": "https://localhost:8080/"
        },
        "id": "4CLBWF-LEzGS",
        "outputId": "5bfb5c32-0b73-473a-e9a8-05a066c85083"
      },
      "outputs": [
        {
          "name": "stdout",
          "output_type": "stream",
          "text": [
            "+------+------------------+--------------------+-----------------+---------------------+--------------------+----------------------------+---------------------------+----------------------+-------------------+---------------------+-----------------+-----------------------+-------------------+------------------------------+------------------+---------------------+------------------------------+--------+----------+-----------------------+-------------------------------+--------------------------------+---------------------------+-------------------------+----------------------+-----------------------+--------------------+---------------------+------------------------+-------------------+----------------------+--------------------+-------------------------+---------------------+------------------------+-------------------------------+---------------------------------------+----------------------------------------+-----------------------------------+---------------------------------+------------------------------+-------------------------------+----------------------------+-----------------------------+--------------------------------+---------------------------+------------------------------+-------------------------+---------------------------------+-----------------------------+--------------------------------+\n",
            "|    id|  avg(AMT_ANNUITY)|avg(AMT_APPLICATION)|  avg(AMT_CREDIT)|avg(AMT_DOWN_PAYMENT)|avg(AMT_GOODS_PRICE)|avg(HOUR_APPR_PROCESS_START)|avg(NFLAG_LAST_APPL_IN_DAY)|avg(RATE_DOWN_PAYMENT)| avg(DAYS_DECISION)|avg(SELLERPLACE_AREA)| avg(CNT_PAYMENT)|avg(DAYS_FIRST_DRAWING)|avg(DAYS_FIRST_DUE)|avg(DAYS_LAST_DUE_1ST_VERSION)|avg(DAYS_LAST_DUE)|avg(DAYS_TERMINATION)|avg(NFLAG_INSURED_ON_APPROVAL)| avg(id)|SK_ID_CURR|max(NAME_CONTRACT_TYPE)|max(WEEKDAY_APPR_PROCESS_START)|max(FLAG_LAST_APPL_PER_CONTRACT)|max(NAME_CASH_LOAN_PURPOSE)|max(NAME_CONTRACT_STATUS)|max(NAME_PAYMENT_TYPE)|max(CODE_REJECT_REASON)|max(NAME_TYPE_SUITE)|max(NAME_CLIENT_TYPE)|max(NAME_GOODS_CATEGORY)|max(NAME_PORTFOLIO)|max(NAME_PRODUCT_TYPE)|   max(CHANNEL_TYPE)|max(NAME_SELLER_INDUSTRY)|max(NAME_YIELD_GROUP)|max(PRODUCT_COMBINATION)|max(NAME_CONTRACT_TYPE)_indexed|max(WEEKDAY_APPR_PROCESS_START)_indexed|max(FLAG_LAST_APPL_PER_CONTRACT)_indexed|max(NAME_CASH_LOAN_PURPOSE)_indexed|max(NAME_CONTRACT_STATUS)_indexed|max(NAME_PAYMENT_TYPE)_indexed|max(CODE_REJECT_REASON)_indexed|max(NAME_TYPE_SUITE)_indexed|max(NAME_CLIENT_TYPE)_indexed|max(NAME_GOODS_CATEGORY)_indexed|max(NAME_PORTFOLIO)_indexed|max(NAME_PRODUCT_TYPE)_indexed|max(CHANNEL_TYPE)_indexed|max(NAME_SELLER_INDUSTRY)_indexed|max(NAME_YIELD_GROUP)_indexed|max(PRODUCT_COMBINATION)_indexed|\n",
            "+------+------------------+--------------------+-----------------+---------------------+--------------------+----------------------------+---------------------------+----------------------+-------------------+---------------------+-----------------+-----------------------+-------------------+------------------------------+------------------+---------------------+------------------------------+--------+----------+-----------------------+-------------------------------+--------------------------------+---------------------------+-------------------------+----------------------+-----------------------+--------------------+---------------------+------------------------+-------------------+----------------------+--------------------+-------------------------+---------------------+------------------------+-------------------------------+---------------------------------------+----------------------------------------+-----------------------------------+---------------------------------+------------------------------+-------------------------------+----------------------------+-----------------------------+--------------------------------+---------------------------+------------------------------+-------------------------+---------------------------------+-----------------------------+--------------------------------+\n",
            "|100011|         18303.195|          202732.875|       261840.375|              6797.25|            270310.5|                       11.75|                        1.0|      0.05000522275463|            -1784.5|               342.25|             14.0|     242736.33333333334|            -1955.0|            120935.66666666667|           -1231.0|             121258.0|            0.6666666666666666|100011.0|    100011|        Revolving loans|                      WEDNESDAY|                               Y|                        XNA|                  Refused|                   XNA|                    XAP|       Unaccompanied|             Repeater|                     XNA|                XNA|                x-sell|Credit and cash o...|                      XNA|           low_action|    POS household wit...|                            0.0|                                    0.0|                                     0.0|                                0.0|                              0.0|                           0.0|                            0.0|                         0.0|                          0.0|                             0.0|                        0.0|                           0.0|                      1.0|                              0.0|                          3.0|                             1.0|\n",
            "|100023| 8895.892499999998|           98746.875|         113517.0|              8435.25|           98746.875|                        10.0|                        1.0|   0.09866945201849298|           -1215.75|                382.0|             12.5|               365243.0|           90199.75|                      90552.25|          90372.25|             90377.25|                           0.5|100023.0|    100023|        Revolving loans|                      WEDNESDAY|                               Y|                        XNA|                 Approved|                   XNA|                    XAP|       Unaccompanied|             Repeater|                     XNA|                POS|                x-sell|               Stone|                      XNA|               middle|    POS household wit...|                            0.0|                                    0.0|                                     0.0|                                0.0|                              1.0|                           0.0|                            0.0|                         0.0|                          0.0|                             0.0|                        1.0|                           0.0|                      0.0|                              0.0|                          0.0|                             3.0|\n",
            "|100048|         38522.265|            394875.0|       432694.125|   6636.9450095915745|            526500.0|                       10.75|                        1.0|   0.08185536720555545|             -544.5|                 -1.0|             12.0|     243188.33333333334|             -530.0|            121850.33333333333|243392.66666666666|   243394.66666666666|            0.6666666666666666|100048.0|    100048|        Revolving loans|                        TUESDAY|                               Y|                        XNA|                 Canceled|                   XNA|                    XAP|       Unaccompanied|             Repeater|                     XNA|                XNA|                x-sell|Credit and cash o...|                      XNA|               middle|     Cash X-Sell: middle|                            0.0|                                    1.0|                                     0.0|                                0.0|                              2.0|                           0.0|                            0.0|                         0.0|                          0.0|                             0.0|                        0.0|                           0.0|                      1.0|                              0.0|                          0.0|                             6.0|\n",
            "|100049|5747.8589999999995|             35602.2|          55715.4|               4377.0|            44502.75|                        10.6|                        1.0|   0.11639047300249707|            -1066.6|                 94.6|              8.0|               292148.8|             -995.8|                       72305.8|           72305.8|              72309.2|                           0.6|100049.0|    100049|        Revolving loans|                         SUNDAY|                               Y|                        XNA|                 Approved|                   XNA|                    XAP|       Unaccompanied|             Repeater|                     XNA|                POS|                x-sell|    Regional / Local|                      XNA|               middle|    POS mobile with i...|                            0.0|                                    3.0|                                     0.0|                                0.0|                              1.0|                           0.0|                            0.0|                         0.0|                          0.0|                             0.0|                        1.0|                           0.0|                      2.0|                              0.0|                          0.0|                             0.0|\n",
            "|100050|         7959.8025|            111199.5|         111199.5|                  0.0|           166799.25|           9.333333333333334|                        1.0|                   0.0| -317.6666666666667|   29.333333333333332|             12.0|               365243.0|           182392.0|                      182737.0|          182617.0|                -13.0|                           0.0|100050.0|    100050|        Revolving loans|                      WEDNESDAY|                               Y|                        XAP|                 Canceled|                   XNA|                    XAP|       Unaccompanied|             Repeater|                     XNA|                XNA|                x-sell|Credit and cash o...|                      XNA|           low_action|    POS others withou...|                            0.0|                                    0.0|                                     0.0|                                1.0|                              2.0|                           0.0|                            0.0|                         0.0|                          0.0|                             0.0|                        0.0|                           0.0|                      1.0|                              0.0|                          3.0|                            12.0|\n",
            "|100077|         21123.243|   59380.61538461538|66984.92307692308|               5890.5|            308779.2|          12.192307692307692|                        1.0|   0.10892573349633247|-330.15384615384613|  -0.9615384615384616|             14.0|               365243.0| 120845.66666666667|            120925.66666666667|120915.66666666667|   120917.33333333333|            0.3333333333333333|100077.0|    100077|        Revolving loans|                      WEDNESDAY|                               Y|                        XNA|                  Refused|                   XNA|                    XAP|       Unaccompanied|             Repeater|                     XNA|                XNA|                x-sell|Credit and cash o...|                      XNA|               middle|    POS other with in...|                            0.0|                                    0.0|                                     0.0|                                0.0|                              0.0|                           0.0|                            0.0|                         0.0|                          0.0|                             0.0|                        0.0|                           0.0|                      1.0|                              0.0|                          0.0|                             4.0|\n",
            "|100082| 22021.44576923077|            523975.2|         548873.4|              22662.0|            654969.0|                        17.6|                        1.0|   0.15943527382905257|-1138.6666666666667|   114.66666666666667|35.38461538461539|              273262.75|            -2010.5|                       90281.0|           -1662.0|             90068.25|                           0.0|100082.0|    100082|        Revolving loans|                        TUESDAY|                               Y|                        XNA|                  Refused|                   XNA|                    XAP|       Unaccompanied|             Repeater|                     XNA|                XNA|                x-sell|               Stone|                      XNA|           low_normal|    POS mobile with i...|                            0.0|                                    1.0|                                     0.0|                                0.0|                              0.0|                           0.0|                            0.0|                         0.0|                          0.0|                             0.0|                        0.0|                           0.0|                      0.0|                              0.0|                          1.0|                             0.0|\n",
            "|100100|13491.197999999999|            137855.7|         189446.4|                  0.0|          172319.625|                        12.6|                        1.0|                   0.0|            -1169.6|               3216.6|             12.8|               291621.2|            -1136.8|                       72838.2|           72605.8|             145822.4|                           0.2|100100.0|    100100|        Revolving loans|                      WEDNESDAY|                               Y|                        XAP|                 Approved|                   XNA|                    XAP|     Spouse, partner|             Repeater|                     XNA|                POS|                x-sell|Credit and cash o...|                      XNA|               middle|    POS mobile with i...|                            0.0|                                    0.0|                                     0.0|                                1.0|                              1.0|                           0.0|                            0.0|                         2.0|                          0.0|                             0.0|                        1.0|                           0.0|                      1.0|                              0.0|                          0.0|                             0.0|\n",
            "|100110|         6903.8775|            68442.75|          76599.0|               4540.5|            68442.75|                       14.75|                        1.0|  0.028781894375922667|             -200.5|                51.25|             10.5|               365243.0|          182494.25|                      91503.25|          273852.0|            273852.75|                          0.25|100110.0|    100110|        Revolving loans|                      WEDNESDAY|                               Y|                        XAP|                 Approved|                   XNA|                    XAP|              Family|             Repeater|                     XNA|                POS|               walk-in|    Regional / Local|     Consumer electronics|               middle|    POS mobile with i...|                            0.0|                                    0.0|                                     0.0|                                1.0|                              1.0|                           0.0|                            0.0|                         1.0|                          0.0|                             0.0|                        1.0|                           1.0|                      2.0|                              1.0|                          0.0|                             0.0|\n",
            "|100112|        12261.8025|           79239.375|        115589.25|              14161.5|            105652.5|                       18.25|                        1.0|    0.1969766534908337|             -883.5|                376.0|              7.0|               365243.0|           90599.75|                      90787.25|          90712.25|              -634.75|                           0.0|100112.0|    100112|        Revolving loans|                        TUESDAY|                               Y|                        XAP|                 Approved|                   XNA|                    XAP|       Unaccompanied|             Repeater|                     XNA|                POS|                x-sell|               Stone|     Consumer electronics|               middle|    POS mobile withou...|                            0.0|                                    1.0|                                     0.0|                                1.0|                              1.0|                           0.0|                            0.0|                         0.0|                          0.0|                             0.0|                        1.0|                           0.0|                      0.0|                              1.0|                          0.0|                             5.0|\n",
            "|100114|           5288.13|             62842.5|         67101.75|                  0.0|             62842.5|                        14.5|                        1.0|                   0.0|             -227.0|                200.0|              6.0|               365243.0|           182523.0|                      182688.0|          365243.0|             365243.0|                           0.5|100114.0|    100114|        Revolving loans|                         FRIDAY|                               Y|                        XAP|                 Approved|                   XNA|                    XAP|              Family|                  New|                     XNA|                POS|               walk-in|        Country-wide|     Consumer electronics|           low_normal|    POS household wit...|                            0.0|                                    6.0|                                     0.0|                                1.0|                              1.0|                           0.0|                            0.0|                         1.0|                          1.0|                             0.0|                        1.0|                           1.0|                      3.0|                              1.0|                          1.0|                             1.0|\n",
            "|100115| 6408.157499999999|            40826.25|          42097.5|                  0.0|             81652.5|                        11.5|                        1.0|                   0.0|             -90.75|                11.75|              3.0|               182601.5|           182515.5|                      182590.5|          182590.5|             182593.5|                           0.0|100115.0|    100115|        Revolving loans|                        TUESDAY|                               Y|                        XNA|                 Canceled|                   XNA|                    XAP|              Family|             Repeater|                     XNA|                XNA|                x-sell|Credit and cash o...|                      XNA|               middle|    POS household wit...|                            0.0|                                    1.0|                                     0.0|                                0.0|                              2.0|                           0.0|                            0.0|                         1.0|                          0.0|                             0.0|                        0.0|                           0.0|                      1.0|                              0.0|                          0.0|                             1.0|\n",
            "|100131|         25057.575|            112500.0|        442028.25|   6636.9450095915745|            225000.0|                        19.0|                        1.0|   0.08185536720555545|             -741.0|                 -1.0|             12.0|               182258.0|             -704.5|                      182611.0|          182476.0|             182479.5|                           0.5|100131.0|    100131|        Revolving loans|                         FRIDAY|                               Y|                        XNA|                 Approved|                   XNA|                    XAP|       Unaccompanied|            Refreshed|                     XNA|               Cash|                x-sell|Credit and cash o...|                      XNA|                 high|       Cash X-Sell: high|                            0.0|                                    6.0|                                     0.0|                                0.0|                              1.0|                           0.0|                            0.0|                         0.0|                          2.0|                             0.0|                        2.0|                           0.0|                      1.0|                              0.0|                          2.0|                            11.0|\n",
            "|100135|13163.028750000001|           126672.75|       171004.875|                  0.0|          190009.125|                        13.0|         0.9166666666666666|                   0.0| -449.6666666666667|   184.33333333333334|             18.0|               365243.0|           90822.25|                      91339.75|          182304.5|            182310.75|                          0.75|100135.0|    100135|        Revolving loans|                      WEDNESDAY|                               Y|                        XNA|                  Refused|                   XNA|                    XAP|       Unaccompanied|             Repeater|                     XNA|                XNA|                x-sell|Credit and cash o...|                      XNA|               middle|    POS household wit...|                            0.0|                                    0.0|                                     0.0|                                0.0|                              0.0|                           0.0|                            0.0|                         0.0|                          0.0|                             0.0|                        0.0|                           0.0|                      1.0|                              0.0|                          0.0|                             3.0|\n",
            "|100138|         8467.0875|            76943.25|          81733.5|                  0.0|            76943.25|                        15.0|                        1.0|                   0.0|             -242.0|                200.0|              5.0|               365243.0|           182515.5|                      182650.5|          365243.0|             365243.0|                           0.5|100138.0|    100138|        Revolving loans|                       SATURDAY|                               Y|                        XAP|                 Approved|                   XNA|                    XAP|              Family|                  New|                     XNA|                POS|               walk-in|        Country-wide|     Consumer electronics|               middle|    POS household wit...|                            0.0|                                    4.0|                                     0.0|                                1.0|                              1.0|                           0.0|                            0.0|                         1.0|                          1.0|                             0.0|                        1.0|                           1.0|                      3.0|                              1.0|                          0.0|                             1.0|\n",
            "|100151|           16767.9|            195000.0|         198358.5|   6636.9450095915745|            292500.0|                        13.0|                        1.0|   0.08185536720555545| -612.3333333333334|                 -1.0|              6.0|               182437.5|             -666.5|                      182281.0|          182281.0|             182285.5|                           0.5|100151.0|    100151|        Revolving loans|                      WEDNESDAY|                               Y|                        XNA|                 Canceled|                   XNA|                    XAP|       Unaccompanied|             Repeater|                     XNA|                XNA|                x-sell|Credit and cash o...|                      XNA|                 high|       Cash Street: high|                            0.0|                                    0.0|                                     0.0|                                0.0|                              2.0|                           0.0|                            0.0|                         0.0|                          0.0|                             0.0|                        0.0|                           0.0|                      1.0|                              0.0|                          2.0|                             9.0|\n",
            "|100152|         19889.715|   369405.4090909091|466384.0909090909|               1717.2|         507932.4375|           7.909090909090909|                        1.0|   0.04141534802501027| -883.4545454545455|    365.6363636363636|28.88888888888889|               365243.0|            44645.0|                      45368.75|           90585.5|            44924.375|                          0.25|100152.0|    100152|        Revolving loans|                      WEDNESDAY|                               Y|                        XNA|                 Canceled|                   XNA|                    XAP|       Unaccompanied|             Repeater|                     XNA|                XNA|                x-sell|Credit and cash o...|                      XNA|               middle|    POS mobile with i...|                            0.0|                                    0.0|                                     0.0|                                0.0|                              2.0|                           0.0|                            0.0|                         0.0|                          0.0|                             0.0|                        0.0|                           0.0|                      1.0|                              0.0|                          0.0|                             0.0|\n",
            "|100153|          15290.31|  185659.07142857142|         222160.5|               2533.5|            259922.7|          10.714285714285714|                        1.0|  0.027424236390469717| -1535.857142857143|   169.85714285714286|             15.0|      303998.8333333333|-1718.8333333333333|                       59941.5|           59836.5|              59841.5|            0.6666666666666666|100153.0|    100153|        Revolving loans|                       THURSDAY|                               Y|                        XNA|                 Canceled|                   XNA|                    XAP|       Unaccompanied|             Repeater|                     XNA|                XNA|                x-sell|               Stone|                      XNA|               middle|    POS household wit...|                            0.0|                                    2.0|                                     0.0|                                0.0|                              2.0|                           0.0|                            0.0|                         0.0|                          0.0|                             0.0|                        0.0|                           0.0|                      0.0|                              0.0|                          0.0|                             1.0|\n",
            "|100157|12724.470000000001|             41386.5|         128614.5|               5625.0|             68977.5|                        10.6|                        1.0|   0.06886456738013745|            -1435.8|               1354.6|              7.5|               365243.0| 120585.33333333333|            120805.33333333333|120785.33333333333|             120788.0|                           0.0|100157.0|    100157|        Revolving loans|                        TUESDAY|                               Y|                        XNA|                  Refused|                   XNA|                    XAP|     Spouse, partner|             Repeater|                     XNA|                XNA|                x-sell|Credit and cash o...|                      XNA|               middle|    POS household wit...|                            0.0|                                    1.0|                                     0.0|                                0.0|                              0.0|                           0.0|                            0.0|                         2.0|                          0.0|                             0.0|                        0.0|                           0.0|                      1.0|                              0.0|                          0.0|                             1.0|\n",
            "|100162|17355.510000000002|            301380.0|         331975.5|              10125.0|            339052.5|           10.11111111111111|                        1.0|   0.07352981292247929|-1106.6666666666667|   117.22222222222223|            35.25|               365243.0| 59959.333333333336|            60924.333333333336|60199.333333333336|              60206.0|                           0.5|100162.0|    100162|        Revolving loans|                      WEDNESDAY|                               Y|                        XNA|             Unused offer|                   XNA|                    XAP|       Unaccompanied|             Repeater|                     XNA|                XNA|                x-sell|               Stone|                      XNA|               middle|    POS mobile with i...|                            0.0|                                    0.0|                                     0.0|                                0.0|                              3.0|                           0.0|                            0.0|                         0.0|                          0.0|                             0.0|                        0.0|                           0.0|                      0.0|                              0.0|                          0.0|                             0.0|\n",
            "+------+------------------+--------------------+-----------------+---------------------+--------------------+----------------------------+---------------------------+----------------------+-------------------+---------------------+-----------------+-----------------------+-------------------+------------------------------+------------------+---------------------+------------------------------+--------+----------+-----------------------+-------------------------------+--------------------------------+---------------------------+-------------------------+----------------------+-----------------------+--------------------+---------------------+------------------------+-------------------+----------------------+--------------------+-------------------------+---------------------+------------------------+-------------------------------+---------------------------------------+----------------------------------------+-----------------------------------+---------------------------------+------------------------------+-------------------------------+----------------------------+-----------------------------+--------------------------------+---------------------------+------------------------------+-------------------------+---------------------------------+-----------------------------+--------------------------------+\n",
            "only showing top 20 rows\n",
            "\n"
          ]
        }
      ],
      "source": [
        "prev_train_indexer.show()"
      ]
    },
    {
      "cell_type": "code",
      "execution_count": null,
      "metadata": {
        "id": "vbL3L-rDEzIv"
      },
      "outputs": [],
      "source": [
        "prev_train_indexer = prev_train_indexer.drop('max(NAME_CONTRACT_TYPE)',\n",
        " 'max(WEEKDAY_APPR_PROCESS_START)',\n",
        " 'max(FLAG_LAST_APPL_PER_CONTRACT)',\n",
        " 'max(NAME_CASH_LOAN_PURPOSE)',\n",
        " 'max(NAME_CONTRACT_STATUS)',\n",
        " 'max(NAME_PAYMENT_TYPE)',\n",
        " 'max(CODE_REJECT_REASON)',\n",
        " 'max(NAME_TYPE_SUITE)',\n",
        " 'max(NAME_CLIENT_TYPE)',\n",
        " 'max(NAME_GOODS_CATEGORY)',\n",
        " 'max(NAME_PORTFOLIO)',\n",
        " 'max(NAME_PRODUCT_TYPE)',\n",
        " 'max(CHANNEL_TYPE)',\n",
        " 'max(NAME_SELLER_INDUSTRY)',\n",
        " 'max(NAME_YIELD_GROUP)',\n",
        " 'max(PRODUCT_COMBINATION)')"
      ]
    },
    {
      "cell_type": "code",
      "execution_count": null,
      "metadata": {
        "id": "O3cobq_zJOOo"
      },
      "outputs": [],
      "source": [
        "encoder = OneHotEncoder(inputCols=['max(NAME_CONTRACT_TYPE)_indexed',\n",
        " 'max(WEEKDAY_APPR_PROCESS_START)_indexed',\n",
        " \n",
        " 'max(NAME_CASH_LOAN_PURPOSE)_indexed',\n",
        " 'max(NAME_CONTRACT_STATUS)_indexed',\n",
        " 'max(NAME_PAYMENT_TYPE)_indexed',\n",
        " 'max(CODE_REJECT_REASON)_indexed',\n",
        " 'max(NAME_TYPE_SUITE)_indexed',\n",
        " 'max(NAME_CLIENT_TYPE)_indexed',\n",
        " 'max(NAME_GOODS_CATEGORY)_indexed',\n",
        " 'max(NAME_PORTFOLIO)_indexed',\n",
        " 'max(NAME_PRODUCT_TYPE)_indexed',\n",
        " 'max(CHANNEL_TYPE)_indexed',\n",
        " 'max(NAME_SELLER_INDUSTRY)_indexed',\n",
        " 'max(NAME_YIELD_GROUP)_indexed',\n",
        " 'max(PRODUCT_COMBINATION)_indexed'],\n",
        "                                 outputCols=['max(NAME_CONTRACT_TYPE)_en',\n",
        " 'max(WEEKDAY_APPR_PROCESS_START)_en',\n",
        " \n",
        " 'max(NAME_CASH_LOAN_PURPOSE)_en',\n",
        " 'max(NAME_CONTRACT_STATUS)_en',\n",
        " 'max(NAME_PAYMENT_TYPE)_en',\n",
        " 'max(CODE_REJECT_REASON)_en',\n",
        " 'max(NAME_TYPE_SUITE)_en',\n",
        " 'max(NAME_CLIENT_TYPE)_en',\n",
        " 'max(NAME_GOODS_CATEGORY)_en',\n",
        " 'max(NAME_PORTFOLIO)_en',\n",
        " 'max(NAME_PRODUCT_TYPE)_en',\n",
        " 'max(CHANNEL_TYPE)_en',\n",
        " 'max(NAME_SELLER_INDUSTRY)_en',\n",
        " 'max(NAME_YIELD_GROUP)_en',\n",
        " 'max(PRODUCT_COMBINATION)_en'])"
      ]
    },
    {
      "cell_type": "code",
      "execution_count": null,
      "metadata": {
        "id": "TnBq9jptJORa"
      },
      "outputs": [],
      "source": [
        "prev_train_encoded = encoder.fit(prev_train_indexer).transform(prev_train_indexer)\n"
      ]
    },
    {
      "cell_type": "code",
      "execution_count": null,
      "metadata": {
        "colab": {
          "base_uri": "https://localhost:8080/"
        },
        "id": "p804rBk3JOUJ",
        "outputId": "1a2abe5f-584f-471e-fea0-db519e9cd84f"
      },
      "outputs": [
        {
          "name": "stdout",
          "output_type": "stream",
          "text": [
            "+------+------------------+--------------------+-----------------+---------------------+--------------------+----------------------------+---------------------------+----------------------+-------------------+---------------------+-----------------+-----------------------+-------------------+------------------------------+------------------+---------------------+------------------------------+--------+----------+-------------------------------+---------------------------------------+----------------------------------------+-----------------------------------+---------------------------------+------------------------------+-------------------------------+----------------------------+-----------------------------+--------------------------------+---------------------------+------------------------------+-------------------------+---------------------------------+-----------------------------+--------------------------------+--------------------------+----------------------------------+------------------------------+----------------------------+-------------------------+--------------------------+-----------------------+------------------------+---------------------------+----------------------+-------------------------+--------------------+----------------------------+------------------------+---------------------------+\n",
            "|    id|  avg(AMT_ANNUITY)|avg(AMT_APPLICATION)|  avg(AMT_CREDIT)|avg(AMT_DOWN_PAYMENT)|avg(AMT_GOODS_PRICE)|avg(HOUR_APPR_PROCESS_START)|avg(NFLAG_LAST_APPL_IN_DAY)|avg(RATE_DOWN_PAYMENT)| avg(DAYS_DECISION)|avg(SELLERPLACE_AREA)| avg(CNT_PAYMENT)|avg(DAYS_FIRST_DRAWING)|avg(DAYS_FIRST_DUE)|avg(DAYS_LAST_DUE_1ST_VERSION)|avg(DAYS_LAST_DUE)|avg(DAYS_TERMINATION)|avg(NFLAG_INSURED_ON_APPROVAL)| avg(id)|SK_ID_CURR|max(NAME_CONTRACT_TYPE)_indexed|max(WEEKDAY_APPR_PROCESS_START)_indexed|max(FLAG_LAST_APPL_PER_CONTRACT)_indexed|max(NAME_CASH_LOAN_PURPOSE)_indexed|max(NAME_CONTRACT_STATUS)_indexed|max(NAME_PAYMENT_TYPE)_indexed|max(CODE_REJECT_REASON)_indexed|max(NAME_TYPE_SUITE)_indexed|max(NAME_CLIENT_TYPE)_indexed|max(NAME_GOODS_CATEGORY)_indexed|max(NAME_PORTFOLIO)_indexed|max(NAME_PRODUCT_TYPE)_indexed|max(CHANNEL_TYPE)_indexed|max(NAME_SELLER_INDUSTRY)_indexed|max(NAME_YIELD_GROUP)_indexed|max(PRODUCT_COMBINATION)_indexed|max(NAME_CONTRACT_TYPE)_en|max(WEEKDAY_APPR_PROCESS_START)_en|max(NAME_CASH_LOAN_PURPOSE)_en|max(NAME_CONTRACT_STATUS)_en|max(NAME_PAYMENT_TYPE)_en|max(CODE_REJECT_REASON)_en|max(NAME_TYPE_SUITE)_en|max(NAME_CLIENT_TYPE)_en|max(NAME_GOODS_CATEGORY)_en|max(NAME_PORTFOLIO)_en|max(NAME_PRODUCT_TYPE)_en|max(CHANNEL_TYPE)_en|max(NAME_SELLER_INDUSTRY)_en|max(NAME_YIELD_GROUP)_en|max(PRODUCT_COMBINATION)_en|\n",
            "+------+------------------+--------------------+-----------------+---------------------+--------------------+----------------------------+---------------------------+----------------------+-------------------+---------------------+-----------------+-----------------------+-------------------+------------------------------+------------------+---------------------+------------------------------+--------+----------+-------------------------------+---------------------------------------+----------------------------------------+-----------------------------------+---------------------------------+------------------------------+-------------------------------+----------------------------+-----------------------------+--------------------------------+---------------------------+------------------------------+-------------------------+---------------------------------+-----------------------------+--------------------------------+--------------------------+----------------------------------+------------------------------+----------------------------+-------------------------+--------------------------+-----------------------+------------------------+---------------------------+----------------------+-------------------------+--------------------+----------------------------+------------------------+---------------------------+\n",
            "|100011|         18303.195|          202732.875|       261840.375|              6797.25|            270310.5|                       11.75|                        1.0|      0.05000522275463|            -1784.5|               342.25|             14.0|     242736.33333333334|            -1955.0|            120935.66666666667|           -1231.0|             121258.0|            0.6666666666666666|100011.0|    100011|                            0.0|                                    0.0|                                     0.0|                                0.0|                              0.0|                           0.0|                            0.0|                         0.0|                          0.0|                             0.0|                        0.0|                           0.0|                      1.0|                              0.0|                          3.0|                             1.0|             (3,[0],[1.0])|                     (6,[0],[1.0])|                 (9,[0],[1.0])|               (3,[0],[1.0])|            (3,[0],[1.0])|             (6,[0],[1.0])|          (6,[0],[1.0])|           (3,[0],[1.0])|             (21,[0],[1.0])|         (4,[0],[1.0])|            (2,[0],[1.0])|       (7,[1],[1.0])|              (10,[0],[1.0])|           (4,[3],[1.0])|             (16,[1],[1.0])|\n",
            "|100023| 8895.892499999998|           98746.875|         113517.0|              8435.25|           98746.875|                        10.0|                        1.0|   0.09866945201849298|           -1215.75|                382.0|             12.5|               365243.0|           90199.75|                      90552.25|          90372.25|             90377.25|                           0.5|100023.0|    100023|                            0.0|                                    0.0|                                     0.0|                                0.0|                              1.0|                           0.0|                            0.0|                         0.0|                          0.0|                             0.0|                        1.0|                           0.0|                      0.0|                              0.0|                          0.0|                             3.0|             (3,[0],[1.0])|                     (6,[0],[1.0])|                 (9,[0],[1.0])|               (3,[1],[1.0])|            (3,[0],[1.0])|             (6,[0],[1.0])|          (6,[0],[1.0])|           (3,[0],[1.0])|             (21,[0],[1.0])|         (4,[1],[1.0])|            (2,[0],[1.0])|       (7,[0],[1.0])|              (10,[0],[1.0])|           (4,[0],[1.0])|             (16,[3],[1.0])|\n",
            "|100048|         38522.265|            394875.0|       432694.125|   6636.9450095915745|            526500.0|                       10.75|                        1.0|   0.08185536720555545|             -544.5|                 -1.0|             12.0|     243188.33333333334|             -530.0|            121850.33333333333|243392.66666666666|   243394.66666666666|            0.6666666666666666|100048.0|    100048|                            0.0|                                    1.0|                                     0.0|                                0.0|                              2.0|                           0.0|                            0.0|                         0.0|                          0.0|                             0.0|                        0.0|                           0.0|                      1.0|                              0.0|                          0.0|                             6.0|             (3,[0],[1.0])|                     (6,[1],[1.0])|                 (9,[0],[1.0])|               (3,[2],[1.0])|            (3,[0],[1.0])|             (6,[0],[1.0])|          (6,[0],[1.0])|           (3,[0],[1.0])|             (21,[0],[1.0])|         (4,[0],[1.0])|            (2,[0],[1.0])|       (7,[1],[1.0])|              (10,[0],[1.0])|           (4,[0],[1.0])|             (16,[6],[1.0])|\n",
            "|100049|5747.8589999999995|             35602.2|          55715.4|               4377.0|            44502.75|                        10.6|                        1.0|   0.11639047300249707|            -1066.6|                 94.6|              8.0|               292148.8|             -995.8|                       72305.8|           72305.8|              72309.2|                           0.6|100049.0|    100049|                            0.0|                                    3.0|                                     0.0|                                0.0|                              1.0|                           0.0|                            0.0|                         0.0|                          0.0|                             0.0|                        1.0|                           0.0|                      2.0|                              0.0|                          0.0|                             0.0|             (3,[0],[1.0])|                     (6,[3],[1.0])|                 (9,[0],[1.0])|               (3,[1],[1.0])|            (3,[0],[1.0])|             (6,[0],[1.0])|          (6,[0],[1.0])|           (3,[0],[1.0])|             (21,[0],[1.0])|         (4,[1],[1.0])|            (2,[0],[1.0])|       (7,[2],[1.0])|              (10,[0],[1.0])|           (4,[0],[1.0])|             (16,[0],[1.0])|\n",
            "|100050|         7959.8025|            111199.5|         111199.5|                  0.0|           166799.25|           9.333333333333334|                        1.0|                   0.0| -317.6666666666667|   29.333333333333332|             12.0|               365243.0|           182392.0|                      182737.0|          182617.0|                -13.0|                           0.0|100050.0|    100050|                            0.0|                                    0.0|                                     0.0|                                1.0|                              2.0|                           0.0|                            0.0|                         0.0|                          0.0|                             0.0|                        0.0|                           0.0|                      1.0|                              0.0|                          3.0|                            12.0|             (3,[0],[1.0])|                     (6,[0],[1.0])|                 (9,[1],[1.0])|               (3,[2],[1.0])|            (3,[0],[1.0])|             (6,[0],[1.0])|          (6,[0],[1.0])|           (3,[0],[1.0])|             (21,[0],[1.0])|         (4,[0],[1.0])|            (2,[0],[1.0])|       (7,[1],[1.0])|              (10,[0],[1.0])|           (4,[3],[1.0])|            (16,[12],[1.0])|\n",
            "|100077|         21123.243|   59380.61538461538|66984.92307692308|               5890.5|            308779.2|          12.192307692307692|                        1.0|   0.10892573349633247|-330.15384615384613|  -0.9615384615384616|             14.0|               365243.0| 120845.66666666667|            120925.66666666667|120915.66666666667|   120917.33333333333|            0.3333333333333333|100077.0|    100077|                            0.0|                                    0.0|                                     0.0|                                0.0|                              0.0|                           0.0|                            0.0|                         0.0|                          0.0|                             0.0|                        0.0|                           0.0|                      1.0|                              0.0|                          0.0|                             4.0|             (3,[0],[1.0])|                     (6,[0],[1.0])|                 (9,[0],[1.0])|               (3,[0],[1.0])|            (3,[0],[1.0])|             (6,[0],[1.0])|          (6,[0],[1.0])|           (3,[0],[1.0])|             (21,[0],[1.0])|         (4,[0],[1.0])|            (2,[0],[1.0])|       (7,[1],[1.0])|              (10,[0],[1.0])|           (4,[0],[1.0])|             (16,[4],[1.0])|\n",
            "|100082| 22021.44576923077|            523975.2|         548873.4|              22662.0|            654969.0|                        17.6|                        1.0|   0.15943527382905257|-1138.6666666666667|   114.66666666666667|35.38461538461539|              273262.75|            -2010.5|                       90281.0|           -1662.0|             90068.25|                           0.0|100082.0|    100082|                            0.0|                                    1.0|                                     0.0|                                0.0|                              0.0|                           0.0|                            0.0|                         0.0|                          0.0|                             0.0|                        0.0|                           0.0|                      0.0|                              0.0|                          1.0|                             0.0|             (3,[0],[1.0])|                     (6,[1],[1.0])|                 (9,[0],[1.0])|               (3,[0],[1.0])|            (3,[0],[1.0])|             (6,[0],[1.0])|          (6,[0],[1.0])|           (3,[0],[1.0])|             (21,[0],[1.0])|         (4,[0],[1.0])|            (2,[0],[1.0])|       (7,[0],[1.0])|              (10,[0],[1.0])|           (4,[1],[1.0])|             (16,[0],[1.0])|\n",
            "|100100|13491.197999999999|            137855.7|         189446.4|                  0.0|          172319.625|                        12.6|                        1.0|                   0.0|            -1169.6|               3216.6|             12.8|               291621.2|            -1136.8|                       72838.2|           72605.8|             145822.4|                           0.2|100100.0|    100100|                            0.0|                                    0.0|                                     0.0|                                1.0|                              1.0|                           0.0|                            0.0|                         2.0|                          0.0|                             0.0|                        1.0|                           0.0|                      1.0|                              0.0|                          0.0|                             0.0|             (3,[0],[1.0])|                     (6,[0],[1.0])|                 (9,[1],[1.0])|               (3,[1],[1.0])|            (3,[0],[1.0])|             (6,[0],[1.0])|          (6,[2],[1.0])|           (3,[0],[1.0])|             (21,[0],[1.0])|         (4,[1],[1.0])|            (2,[0],[1.0])|       (7,[1],[1.0])|              (10,[0],[1.0])|           (4,[0],[1.0])|             (16,[0],[1.0])|\n",
            "|100110|         6903.8775|            68442.75|          76599.0|               4540.5|            68442.75|                       14.75|                        1.0|  0.028781894375922667|             -200.5|                51.25|             10.5|               365243.0|          182494.25|                      91503.25|          273852.0|            273852.75|                          0.25|100110.0|    100110|                            0.0|                                    0.0|                                     0.0|                                1.0|                              1.0|                           0.0|                            0.0|                         1.0|                          0.0|                             0.0|                        1.0|                           1.0|                      2.0|                              1.0|                          0.0|                             0.0|             (3,[0],[1.0])|                     (6,[0],[1.0])|                 (9,[1],[1.0])|               (3,[1],[1.0])|            (3,[0],[1.0])|             (6,[0],[1.0])|          (6,[1],[1.0])|           (3,[0],[1.0])|             (21,[0],[1.0])|         (4,[1],[1.0])|            (2,[1],[1.0])|       (7,[2],[1.0])|              (10,[1],[1.0])|           (4,[0],[1.0])|             (16,[0],[1.0])|\n",
            "|100112|        12261.8025|           79239.375|        115589.25|              14161.5|            105652.5|                       18.25|                        1.0|    0.1969766534908337|             -883.5|                376.0|              7.0|               365243.0|           90599.75|                      90787.25|          90712.25|              -634.75|                           0.0|100112.0|    100112|                            0.0|                                    1.0|                                     0.0|                                1.0|                              1.0|                           0.0|                            0.0|                         0.0|                          0.0|                             0.0|                        1.0|                           0.0|                      0.0|                              1.0|                          0.0|                             5.0|             (3,[0],[1.0])|                     (6,[1],[1.0])|                 (9,[1],[1.0])|               (3,[1],[1.0])|            (3,[0],[1.0])|             (6,[0],[1.0])|          (6,[0],[1.0])|           (3,[0],[1.0])|             (21,[0],[1.0])|         (4,[1],[1.0])|            (2,[0],[1.0])|       (7,[0],[1.0])|              (10,[1],[1.0])|           (4,[0],[1.0])|             (16,[5],[1.0])|\n",
            "|100114|           5288.13|             62842.5|         67101.75|                  0.0|             62842.5|                        14.5|                        1.0|                   0.0|             -227.0|                200.0|              6.0|               365243.0|           182523.0|                      182688.0|          365243.0|             365243.0|                           0.5|100114.0|    100114|                            0.0|                                    6.0|                                     0.0|                                1.0|                              1.0|                           0.0|                            0.0|                         1.0|                          1.0|                             0.0|                        1.0|                           1.0|                      3.0|                              1.0|                          1.0|                             1.0|             (3,[0],[1.0])|                         (6,[],[])|                 (9,[1],[1.0])|               (3,[1],[1.0])|            (3,[0],[1.0])|             (6,[0],[1.0])|          (6,[1],[1.0])|           (3,[1],[1.0])|             (21,[0],[1.0])|         (4,[1],[1.0])|            (2,[1],[1.0])|       (7,[3],[1.0])|              (10,[1],[1.0])|           (4,[1],[1.0])|             (16,[1],[1.0])|\n",
            "|100115| 6408.157499999999|            40826.25|          42097.5|                  0.0|             81652.5|                        11.5|                        1.0|                   0.0|             -90.75|                11.75|              3.0|               182601.5|           182515.5|                      182590.5|          182590.5|             182593.5|                           0.0|100115.0|    100115|                            0.0|                                    1.0|                                     0.0|                                0.0|                              2.0|                           0.0|                            0.0|                         1.0|                          0.0|                             0.0|                        0.0|                           0.0|                      1.0|                              0.0|                          0.0|                             1.0|             (3,[0],[1.0])|                     (6,[1],[1.0])|                 (9,[0],[1.0])|               (3,[2],[1.0])|            (3,[0],[1.0])|             (6,[0],[1.0])|          (6,[1],[1.0])|           (3,[0],[1.0])|             (21,[0],[1.0])|         (4,[0],[1.0])|            (2,[0],[1.0])|       (7,[1],[1.0])|              (10,[0],[1.0])|           (4,[0],[1.0])|             (16,[1],[1.0])|\n",
            "|100131|         25057.575|            112500.0|        442028.25|   6636.9450095915745|            225000.0|                        19.0|                        1.0|   0.08185536720555545|             -741.0|                 -1.0|             12.0|               182258.0|             -704.5|                      182611.0|          182476.0|             182479.5|                           0.5|100131.0|    100131|                            0.0|                                    6.0|                                     0.0|                                0.0|                              1.0|                           0.0|                            0.0|                         0.0|                          2.0|                             0.0|                        2.0|                           0.0|                      1.0|                              0.0|                          2.0|                            11.0|             (3,[0],[1.0])|                         (6,[],[])|                 (9,[0],[1.0])|               (3,[1],[1.0])|            (3,[0],[1.0])|             (6,[0],[1.0])|          (6,[0],[1.0])|           (3,[2],[1.0])|             (21,[0],[1.0])|         (4,[2],[1.0])|            (2,[0],[1.0])|       (7,[1],[1.0])|              (10,[0],[1.0])|           (4,[2],[1.0])|            (16,[11],[1.0])|\n",
            "|100135|13163.028750000001|           126672.75|       171004.875|                  0.0|          190009.125|                        13.0|         0.9166666666666666|                   0.0| -449.6666666666667|   184.33333333333334|             18.0|               365243.0|           90822.25|                      91339.75|          182304.5|            182310.75|                          0.75|100135.0|    100135|                            0.0|                                    0.0|                                     0.0|                                0.0|                              0.0|                           0.0|                            0.0|                         0.0|                          0.0|                             0.0|                        0.0|                           0.0|                      1.0|                              0.0|                          0.0|                             3.0|             (3,[0],[1.0])|                     (6,[0],[1.0])|                 (9,[0],[1.0])|               (3,[0],[1.0])|            (3,[0],[1.0])|             (6,[0],[1.0])|          (6,[0],[1.0])|           (3,[0],[1.0])|             (21,[0],[1.0])|         (4,[0],[1.0])|            (2,[0],[1.0])|       (7,[1],[1.0])|              (10,[0],[1.0])|           (4,[0],[1.0])|             (16,[3],[1.0])|\n",
            "|100138|         8467.0875|            76943.25|          81733.5|                  0.0|            76943.25|                        15.0|                        1.0|                   0.0|             -242.0|                200.0|              5.0|               365243.0|           182515.5|                      182650.5|          365243.0|             365243.0|                           0.5|100138.0|    100138|                            0.0|                                    4.0|                                     0.0|                                1.0|                              1.0|                           0.0|                            0.0|                         1.0|                          1.0|                             0.0|                        1.0|                           1.0|                      3.0|                              1.0|                          0.0|                             1.0|             (3,[0],[1.0])|                     (6,[4],[1.0])|                 (9,[1],[1.0])|               (3,[1],[1.0])|            (3,[0],[1.0])|             (6,[0],[1.0])|          (6,[1],[1.0])|           (3,[1],[1.0])|             (21,[0],[1.0])|         (4,[1],[1.0])|            (2,[1],[1.0])|       (7,[3],[1.0])|              (10,[1],[1.0])|           (4,[0],[1.0])|             (16,[1],[1.0])|\n",
            "|100151|           16767.9|            195000.0|         198358.5|   6636.9450095915745|            292500.0|                        13.0|                        1.0|   0.08185536720555545| -612.3333333333334|                 -1.0|              6.0|               182437.5|             -666.5|                      182281.0|          182281.0|             182285.5|                           0.5|100151.0|    100151|                            0.0|                                    0.0|                                     0.0|                                0.0|                              2.0|                           0.0|                            0.0|                         0.0|                          0.0|                             0.0|                        0.0|                           0.0|                      1.0|                              0.0|                          2.0|                             9.0|             (3,[0],[1.0])|                     (6,[0],[1.0])|                 (9,[0],[1.0])|               (3,[2],[1.0])|            (3,[0],[1.0])|             (6,[0],[1.0])|          (6,[0],[1.0])|           (3,[0],[1.0])|             (21,[0],[1.0])|         (4,[0],[1.0])|            (2,[0],[1.0])|       (7,[1],[1.0])|              (10,[0],[1.0])|           (4,[2],[1.0])|             (16,[9],[1.0])|\n",
            "|100152|         19889.715|   369405.4090909091|466384.0909090909|               1717.2|         507932.4375|           7.909090909090909|                        1.0|   0.04141534802501027| -883.4545454545455|    365.6363636363636|28.88888888888889|               365243.0|            44645.0|                      45368.75|           90585.5|            44924.375|                          0.25|100152.0|    100152|                            0.0|                                    0.0|                                     0.0|                                0.0|                              2.0|                           0.0|                            0.0|                         0.0|                          0.0|                             0.0|                        0.0|                           0.0|                      1.0|                              0.0|                          0.0|                             0.0|             (3,[0],[1.0])|                     (6,[0],[1.0])|                 (9,[0],[1.0])|               (3,[2],[1.0])|            (3,[0],[1.0])|             (6,[0],[1.0])|          (6,[0],[1.0])|           (3,[0],[1.0])|             (21,[0],[1.0])|         (4,[0],[1.0])|            (2,[0],[1.0])|       (7,[1],[1.0])|              (10,[0],[1.0])|           (4,[0],[1.0])|             (16,[0],[1.0])|\n",
            "|100153|          15290.31|  185659.07142857142|         222160.5|               2533.5|            259922.7|          10.714285714285714|                        1.0|  0.027424236390469717| -1535.857142857143|   169.85714285714286|             15.0|      303998.8333333333|-1718.8333333333333|                       59941.5|           59836.5|              59841.5|            0.6666666666666666|100153.0|    100153|                            0.0|                                    2.0|                                     0.0|                                0.0|                              2.0|                           0.0|                            0.0|                         0.0|                          0.0|                             0.0|                        0.0|                           0.0|                      0.0|                              0.0|                          0.0|                             1.0|             (3,[0],[1.0])|                     (6,[2],[1.0])|                 (9,[0],[1.0])|               (3,[2],[1.0])|            (3,[0],[1.0])|             (6,[0],[1.0])|          (6,[0],[1.0])|           (3,[0],[1.0])|             (21,[0],[1.0])|         (4,[0],[1.0])|            (2,[0],[1.0])|       (7,[0],[1.0])|              (10,[0],[1.0])|           (4,[0],[1.0])|             (16,[1],[1.0])|\n",
            "|100157|12724.470000000001|             41386.5|         128614.5|               5625.0|             68977.5|                        10.6|                        1.0|   0.06886456738013745|            -1435.8|               1354.6|              7.5|               365243.0| 120585.33333333333|            120805.33333333333|120785.33333333333|             120788.0|                           0.0|100157.0|    100157|                            0.0|                                    1.0|                                     0.0|                                0.0|                              0.0|                           0.0|                            0.0|                         2.0|                          0.0|                             0.0|                        0.0|                           0.0|                      1.0|                              0.0|                          0.0|                             1.0|             (3,[0],[1.0])|                     (6,[1],[1.0])|                 (9,[0],[1.0])|               (3,[0],[1.0])|            (3,[0],[1.0])|             (6,[0],[1.0])|          (6,[2],[1.0])|           (3,[0],[1.0])|             (21,[0],[1.0])|         (4,[0],[1.0])|            (2,[0],[1.0])|       (7,[1],[1.0])|              (10,[0],[1.0])|           (4,[0],[1.0])|             (16,[1],[1.0])|\n",
            "|100162|17355.510000000002|            301380.0|         331975.5|              10125.0|            339052.5|           10.11111111111111|                        1.0|   0.07352981292247929|-1106.6666666666667|   117.22222222222223|            35.25|               365243.0| 59959.333333333336|            60924.333333333336|60199.333333333336|              60206.0|                           0.5|100162.0|    100162|                            0.0|                                    0.0|                                     0.0|                                0.0|                              3.0|                           0.0|                            0.0|                         0.0|                          0.0|                             0.0|                        0.0|                           0.0|                      0.0|                              0.0|                          0.0|                             0.0|             (3,[0],[1.0])|                     (6,[0],[1.0])|                 (9,[0],[1.0])|                   (3,[],[])|            (3,[0],[1.0])|             (6,[0],[1.0])|          (6,[0],[1.0])|           (3,[0],[1.0])|             (21,[0],[1.0])|         (4,[0],[1.0])|            (2,[0],[1.0])|       (7,[0],[1.0])|              (10,[0],[1.0])|           (4,[0],[1.0])|             (16,[0],[1.0])|\n",
            "+------+------------------+--------------------+-----------------+---------------------+--------------------+----------------------------+---------------------------+----------------------+-------------------+---------------------+-----------------+-----------------------+-------------------+------------------------------+------------------+---------------------+------------------------------+--------+----------+-------------------------------+---------------------------------------+----------------------------------------+-----------------------------------+---------------------------------+------------------------------+-------------------------------+----------------------------+-----------------------------+--------------------------------+---------------------------+------------------------------+-------------------------+---------------------------------+-----------------------------+--------------------------------+--------------------------+----------------------------------+------------------------------+----------------------------+-------------------------+--------------------------+-----------------------+------------------------+---------------------------+----------------------+-------------------------+--------------------+----------------------------+------------------------+---------------------------+\n",
            "only showing top 20 rows\n",
            "\n"
          ]
        }
      ],
      "source": [
        "prev_train_encoded.show()"
      ]
    },
    {
      "cell_type": "code",
      "execution_count": null,
      "metadata": {
        "id": "he1GvuyjJOWl"
      },
      "outputs": [],
      "source": [
        "prev_train_encoded = prev_train_encoded.drop('max(NAME_CONTRACT_TYPE)_indexed',\n",
        " 'max(WEEKDAY_APPR_PROCESS_START)_indexed',\n",
        " \n",
        " 'max(NAME_CASH_LOAN_PURPOSE)_indexed',\n",
        " 'max(NAME_CONTRACT_STATUS)_indexed',\n",
        " 'max(NAME_PAYMENT_TYPE)_indexed',\n",
        " 'max(CODE_REJECT_REASON)_indexed',\n",
        " 'max(NAME_TYPE_SUITE)_indexed',\n",
        " 'max(NAME_CLIENT_TYPE)_indexed',\n",
        " 'max(NAME_GOODS_CATEGORY)_indexed',\n",
        " 'max(NAME_PORTFOLIO)_indexed',\n",
        " 'max(NAME_PRODUCT_TYPE)_indexed',\n",
        " 'max(CHANNEL_TYPE)_indexed',\n",
        " 'max(NAME_SELLER_INDUSTRY)_indexed',\n",
        " 'max(NAME_YIELD_GROUP)_indexed',\n",
        " 'max(PRODUCT_COMBINATION)_indexed')"
      ]
    },
    {
      "cell_type": "code",
      "execution_count": null,
      "metadata": {
        "colab": {
          "base_uri": "https://localhost:8080/"
        },
        "id": "y3_JQGkNJOZT",
        "outputId": "459c3e75-008b-4dbc-bcd3-b77ea58520c4"
      },
      "outputs": [
        {
          "data": {
            "text/plain": [
              "['id',\n",
              " 'avg(AMT_ANNUITY)',\n",
              " 'avg(AMT_APPLICATION)',\n",
              " 'avg(AMT_CREDIT)',\n",
              " 'avg(AMT_DOWN_PAYMENT)',\n",
              " 'avg(AMT_GOODS_PRICE)',\n",
              " 'avg(HOUR_APPR_PROCESS_START)',\n",
              " 'avg(NFLAG_LAST_APPL_IN_DAY)',\n",
              " 'avg(RATE_DOWN_PAYMENT)',\n",
              " 'avg(DAYS_DECISION)',\n",
              " 'avg(SELLERPLACE_AREA)',\n",
              " 'avg(CNT_PAYMENT)',\n",
              " 'avg(DAYS_FIRST_DRAWING)',\n",
              " 'avg(DAYS_FIRST_DUE)',\n",
              " 'avg(DAYS_LAST_DUE_1ST_VERSION)',\n",
              " 'avg(DAYS_LAST_DUE)',\n",
              " 'avg(DAYS_TERMINATION)',\n",
              " 'avg(NFLAG_INSURED_ON_APPROVAL)',\n",
              " 'avg(id)',\n",
              " 'SK_ID_CURR',\n",
              " 'max(FLAG_LAST_APPL_PER_CONTRACT)_indexed',\n",
              " 'max(NAME_CONTRACT_TYPE)_en',\n",
              " 'max(WEEKDAY_APPR_PROCESS_START)_en',\n",
              " 'max(NAME_CASH_LOAN_PURPOSE)_en',\n",
              " 'max(NAME_CONTRACT_STATUS)_en',\n",
              " 'max(NAME_PAYMENT_TYPE)_en',\n",
              " 'max(CODE_REJECT_REASON)_en',\n",
              " 'max(NAME_TYPE_SUITE)_en',\n",
              " 'max(NAME_CLIENT_TYPE)_en',\n",
              " 'max(NAME_GOODS_CATEGORY)_en',\n",
              " 'max(NAME_PORTFOLIO)_en',\n",
              " 'max(NAME_PRODUCT_TYPE)_en',\n",
              " 'max(CHANNEL_TYPE)_en',\n",
              " 'max(NAME_SELLER_INDUSTRY)_en',\n",
              " 'max(NAME_YIELD_GROUP)_en',\n",
              " 'max(PRODUCT_COMBINATION)_en']"
            ]
          },
          "execution_count": 87,
          "metadata": {},
          "output_type": "execute_result"
        }
      ],
      "source": [
        "prev_train_encoded.columns"
      ]
    },
    {
      "cell_type": "code",
      "execution_count": null,
      "metadata": {
        "id": "GKf3ki79mO2O"
      },
      "outputs": [],
      "source": [
        "prev_train_encoded_1 = prev_train_encoded.drop('avg(HOUR_APPR_PROCESS_START)',\n",
        " 'avg(NFLAG_LAST_APPL_IN_DAY)','avg(DAYS_DECISION)',\n",
        " 'avg(SELLERPLACE_AREA)','avg(id)','max(FLAG_LAST_APPL_PER_CONTRACT)_indexed','max(NAME_CONTRACT_STATUS)_en','max(NAME_TYPE_SUITE)_en','max(NAME_PRODUCT_TYPE)_en','avg(DAYS_LAST_DUE_1ST_VERSION)',)"
      ]
    },
    {
      "cell_type": "markdown",
      "metadata": {
        "id": "5jcUMZynPXa5"
      },
      "source": [
        "Changing the third file "
      ]
    },
    {
      "cell_type": "code",
      "execution_count": null,
      "metadata": {
        "id": "WLNBMaddJOcK"
      },
      "outputs": [],
      "source": []
    },
    {
      "cell_type": "code",
      "execution_count": null,
      "metadata": {
        "colab": {
          "base_uri": "https://localhost:8080/"
        },
        "id": "cA9n9gGxJOeu",
        "outputId": "079f49f3-ea0e-44b6-e2e2-614a02ed46a0"
      },
      "outputs": [
        {
          "data": {
            "text/plain": [
              "[('SK_ID_PREV', 'int'),\n",
              " ('SK_ID_CURR', 'int'),\n",
              " ('MONTHS_BALANCE', 'int'),\n",
              " ('CNT_INSTALMENT', 'double'),\n",
              " ('CNT_INSTALMENT_FUTURE', 'double'),\n",
              " ('NAME_CONTRACT_STATUS', 'string'),\n",
              " ('SK_DPD', 'int'),\n",
              " ('SK_DPD_DEF', 'int')]"
            ]
          },
          "execution_count": 89,
          "metadata": {},
          "output_type": "execute_result"
        }
      ],
      "source": [
        "pos_cash.dtypes"
      ]
    },
    {
      "cell_type": "code",
      "execution_count": null,
      "metadata": {
        "colab": {
          "base_uri": "https://localhost:8080/"
        },
        "id": "saGepfK6EzLR",
        "outputId": "750b5fe3-0a9d-47e2-ed3b-038fcf755387"
      },
      "outputs": [
        {
          "name": "stdout",
          "output_type": "stream",
          "text": [
            "1  categorical features\n",
            "7  numerical features\n"
          ]
        }
      ],
      "source": [
        "cat_cols_pos = [item[0] for item in pos_cash_train.dtypes if item[1].startswith('string')] \n",
        "print(str(len(cat_cols_pos)) + '  categorical features')\n",
        "num_cols_pos = [item[0] for item in pos_cash_train.dtypes if item[1].startswith('int') | item[1].startswith('double')][1:]\n",
        "print(str(len(num_cols_pos)) + '  numerical features')"
      ]
    },
    {
      "cell_type": "code",
      "execution_count": null,
      "metadata": {
        "colab": {
          "base_uri": "https://localhost:8080/"
        },
        "id": "P8GRkL9kQOp9",
        "outputId": "1d9f25ff-0c6d-468b-b4a8-ab41f5f62e5d"
      },
      "outputs": [
        {
          "data": {
            "text/plain": [
              "['NAME_CONTRACT_STATUS']"
            ]
          },
          "execution_count": 91,
          "metadata": {},
          "output_type": "execute_result"
        }
      ],
      "source": [
        "cat_cols_pos"
      ]
    },
    {
      "cell_type": "code",
      "execution_count": null,
      "metadata": {
        "colab": {
          "base_uri": "https://localhost:8080/"
        },
        "id": "qQNqooqTQOwK",
        "outputId": "086575fc-1c14-419a-ee66-996420a4eb99"
      },
      "outputs": [
        {
          "data": {
            "text/plain": [
              "['SK_ID_CURR',\n",
              " 'MONTHS_BALANCE',\n",
              " 'CNT_INSTALMENT',\n",
              " 'CNT_INSTALMENT_FUTURE',\n",
              " 'SK_DPD',\n",
              " 'SK_DPD_DEF',\n",
              " 'id']"
            ]
          },
          "execution_count": 92,
          "metadata": {},
          "output_type": "execute_result"
        }
      ],
      "source": [
        "num_cols_pos"
      ]
    },
    {
      "cell_type": "code",
      "execution_count": null,
      "metadata": {
        "id": "waKOcUOzQO26"
      },
      "outputs": [],
      "source": [
        "pos_cash_train.createOrReplaceTempView(\"pos_cash_train\")"
      ]
    },
    {
      "cell_type": "code",
      "execution_count": null,
      "metadata": {
        "id": "f7baJnEmQO7D"
      },
      "outputs": [],
      "source": [
        "pos_cash_num = spark.sql('''select SK_ID_CURR,\n",
        " MONTHS_BALANCE,\n",
        " CNT_INSTALMENT,\n",
        " CNT_INSTALMENT_FUTURE,\n",
        " SK_DPD,\n",
        " SK_DPD_DEF from pos_cash_train ''')"
      ]
    },
    {
      "cell_type": "code",
      "execution_count": null,
      "metadata": {
        "id": "BE88JmOOQPAQ"
      },
      "outputs": [],
      "source": [
        "pos_cash_num_1 = pos_cash_num.groupBy('SK_ID_CURR').mean()"
      ]
    },
    {
      "cell_type": "code",
      "execution_count": null,
      "metadata": {
        "colab": {
          "base_uri": "https://localhost:8080/"
        },
        "id": "bI_Mut_nQPDN",
        "outputId": "45b00d42-ff22-480a-9413-5881124e2456"
      },
      "outputs": [
        {
          "name": "stdout",
          "output_type": "stream",
          "text": [
            "+----------+---------------+-------------------+-------------------+--------------------------+--------------------+--------------------+\n",
            "|SK_ID_CURR|avg(SK_ID_CURR)|avg(MONTHS_BALANCE)|avg(CNT_INSTALMENT)|avg(CNT_INSTALMENT_FUTURE)|         avg(SK_DPD)|     avg(SK_DPD_DEF)|\n",
            "+----------+---------------+-------------------+-------------------+--------------------------+--------------------+--------------------+\n",
            "|    100274|       100274.0|              -50.0| 59.775510204081634|        34.795918367346935|                 0.0|                 0.0|\n",
            "|    100800|       100800.0| -12.61111111111111| 15.333333333333334|        10.944444444444445|                 0.0|                 0.0|\n",
            "|    102798|       102798.0|              -33.5|               12.0|                       6.0|  1.6538461538461537|                 0.0|\n",
            "|    103747|       103747.0| -52.61538461538461|  5.615384615384615|        3.6923076923076925|                 0.0|                 0.0|\n",
            "|    104064|       104064.0|-45.247058823529414|  16.03529411764706|         9.152941176470588|                 0.0|                 0.0|\n",
            "|    105536|       105536.0|-32.641666666666666|               31.7|                     18.25|0.008333333333333333|0.008333333333333333|\n",
            "|    105665|       105665.0|            -48.925|            22.0875|                     12.95|                0.15|              0.0375|\n",
            "|    105796|       105796.0|             -24.82|               36.4|                     26.72|                 0.0|                 0.0|\n",
            "|    106544|       106544.0|-16.692307692307693|   8.76923076923077|                       5.0|0.038461538461538464|0.038461538461538464|\n",
            "|    107032|       107032.0|              -16.0|               10.0|                       5.0|                 0.0|                 0.0|\n",
            "|    109172|       109172.0|              -43.5|               14.0|                      9.25|                 0.0|                 0.0|\n",
            "|    109608|       109608.0| -50.48936170212766|  10.02127659574468|        0.5851063829787234|  206.04255319148936|                 0.0|\n",
            "|    109613|       109613.0|-7.0476190476190474|               12.0|        6.9523809523809526|                 0.0|                 0.0|\n",
            "|    109800|       109800.0|-61.541666666666664| 12.041666666666666|         6.208333333333333|0.041666666666666664|                 0.0|\n",
            "|    111300|       111300.0|              -31.6|              11.68|                      5.92|                 0.0|                 0.0|\n",
            "|    115528|       115528.0|-31.122222222222224| 21.533333333333335|        14.655555555555555| 0.12222222222222222| 0.12222222222222222|\n",
            "|    116259|       116259.0|-38.671052631578945| 13.013157894736842|         7.552631578947368|                 0.0|                 0.0|\n",
            "|    117994|       117994.0|-17.302325581395348| 15.348837209302326|         9.767441860465116|                 0.0|                 0.0|\n",
            "|    118185|       118185.0|-28.571428571428573| 23.214285714285715|                      18.5|  1.7142857142857142| 0.07142857142857142|\n",
            "|    120899|       120899.0|               -8.5|               23.5|                   15.8125|                 0.0|                 0.0|\n",
            "+----------+---------------+-------------------+-------------------+--------------------------+--------------------+--------------------+\n",
            "only showing top 20 rows\n",
            "\n"
          ]
        }
      ],
      "source": [
        "pos_cash_num_1.show()"
      ]
    },
    {
      "cell_type": "code",
      "execution_count": null,
      "metadata": {
        "id": "5k5PE3Q4QPFD"
      },
      "outputs": [],
      "source": [
        "pos_cash_cat = spark.sql('''select id,NAME_CONTRACT_STATUS from pos_cash_train ''')"
      ]
    },
    {
      "cell_type": "code",
      "execution_count": null,
      "metadata": {
        "id": "C844_XNGSzhB"
      },
      "outputs": [],
      "source": [
        "pos_cash_cat = pos_cash_cat.groupBy('id').agg(f.max('NAME_CONTRACT_STATUS'))"
      ]
    },
    {
      "cell_type": "code",
      "execution_count": null,
      "metadata": {
        "colab": {
          "base_uri": "https://localhost:8080/"
        },
        "id": "jbrB-IgiQPHA",
        "outputId": "c1861980-ccfa-4c38-9216-eed318738fc4"
      },
      "outputs": [
        {
          "name": "stdout",
          "output_type": "stream",
          "text": [
            "+------+-------------------------+\n",
            "|    id|max(NAME_CONTRACT_STATUS)|\n",
            "+------+-------------------------+\n",
            "|100011|                Completed|\n",
            "|100023|                Completed|\n",
            "|100048|                Completed|\n",
            "|100049|                Completed|\n",
            "|100050|                   Active|\n",
            "|100077|                Completed|\n",
            "|100082|                Completed|\n",
            "|100100|                Completed|\n",
            "|100110|     Returned to the s...|\n",
            "|100112|                Completed|\n",
            "|100114|                   Active|\n",
            "|100115|                Completed|\n",
            "|100131|                Completed|\n",
            "|100135|                Completed|\n",
            "|100138|                   Active|\n",
            "|100151|                Completed|\n",
            "|100152|                   Signed|\n",
            "|100153|                   Signed|\n",
            "|100157|                Completed|\n",
            "|100162|                Completed|\n",
            "+------+-------------------------+\n",
            "only showing top 20 rows\n",
            "\n"
          ]
        }
      ],
      "source": [
        "pos_cash_cat.show()"
      ]
    },
    {
      "cell_type": "code",
      "execution_count": null,
      "metadata": {
        "id": "zbeuv2CQQPJC"
      },
      "outputs": [],
      "source": [
        "pos_cash_num_1.createOrReplaceTempView(\"pos_cash_num_1\")\n",
        "pos_cash_cat.createOrReplaceTempView(\"pos_cash_cat\")\n",
        "pos_cash_training = spark.sql('''select *\n",
        "FROM pos_cash_num_1\n",
        "INNER JOIN pos_cash_cat\n",
        "ON pos_cash_cat.id = pos_cash_num_1.SK_ID_CURR; ''') "
      ]
    },
    {
      "cell_type": "code",
      "execution_count": null,
      "metadata": {
        "colab": {
          "base_uri": "https://localhost:8080/"
        },
        "id": "xxBKy0ZjQPLJ",
        "outputId": "7503bff9-a04a-4783-dd92-8ae7e41d6d06"
      },
      "outputs": [
        {
          "name": "stdout",
          "output_type": "stream",
          "text": [
            "root\n",
            " |-- SK_ID_CURR: integer (nullable = true)\n",
            " |-- avg(SK_ID_CURR): double (nullable = true)\n",
            " |-- avg(MONTHS_BALANCE): double (nullable = true)\n",
            " |-- avg(CNT_INSTALMENT): double (nullable = true)\n",
            " |-- avg(CNT_INSTALMENT_FUTURE): double (nullable = true)\n",
            " |-- avg(SK_DPD): double (nullable = true)\n",
            " |-- avg(SK_DPD_DEF): double (nullable = true)\n",
            " |-- id: integer (nullable = true)\n",
            " |-- max(NAME_CONTRACT_STATUS): string (nullable = true)\n",
            "\n"
          ]
        }
      ],
      "source": [
        "pos_cash_training.printSchema()"
      ]
    },
    {
      "cell_type": "code",
      "execution_count": null,
      "metadata": {
        "colab": {
          "base_uri": "https://localhost:8080/"
        },
        "id": "pHR09exnQPNQ",
        "outputId": "6794b5b9-c260-405a-ffc4-8ef484fd9172"
      },
      "outputs": [
        {
          "name": "stdout",
          "output_type": "stream",
          "text": [
            "+----------+---------------+-------------------+-------------------+--------------------------+-----------+---------------+---+-------------------------+\n",
            "|SK_ID_CURR|avg(SK_ID_CURR)|avg(MONTHS_BALANCE)|avg(CNT_INSTALMENT)|avg(CNT_INSTALMENT_FUTURE)|avg(SK_DPD)|avg(SK_DPD_DEF)| id|max(NAME_CONTRACT_STATUS)|\n",
            "+----------+---------------+-------------------+-------------------+--------------------------+-----------+---------------+---+-------------------------+\n",
            "|         0|              0|                  0|                  5|                         5|          0|              0|  0|                        0|\n",
            "+----------+---------------+-------------------+-------------------+--------------------------+-----------+---------------+---+-------------------------+\n",
            "\n"
          ]
        }
      ],
      "source": [
        "pos_cash_training.select([count(when(col(c).isNull(), c)).alias(c) for c in pos_cash_training.columns]).show()"
      ]
    },
    {
      "cell_type": "code",
      "execution_count": null,
      "metadata": {
        "id": "5sX0USnNQPPT"
      },
      "outputs": [],
      "source": [
        "imputer = Imputer(\n",
        "      inputCols=['avg(CNT_INSTALMENT_FUTURE)'], \n",
        "      outputCols=['avg(CNT_INSTALMENT_FUTURE)']\n",
        "      ).setStrategy(\"mean\")"
      ]
    },
    {
      "cell_type": "code",
      "execution_count": null,
      "metadata": {
        "id": "Vqv9r4gKWGK5"
      },
      "outputs": [],
      "source": [
        "model = imputer.fit(pos_cash_training)\n",
        "pos_cash_train_imputed = model.transform(pos_cash_training)"
      ]
    },
    {
      "cell_type": "code",
      "execution_count": null,
      "metadata": {
        "id": "DkCJeZWBWWQR"
      },
      "outputs": [],
      "source": [
        "indexer = StringIndexer(inputCols=['max(NAME_CONTRACT_STATUS)'],outputCols=['max(NAME_CONTRACT_STATUS)_indexed'])"
      ]
    },
    {
      "cell_type": "code",
      "execution_count": null,
      "metadata": {
        "id": "P0xg54fmWo0C"
      },
      "outputs": [],
      "source": [
        "pos_cash_indexer = indexer.fit(pos_cash_train_imputed).transform(pos_cash_train_imputed)"
      ]
    },
    {
      "cell_type": "code",
      "execution_count": null,
      "metadata": {
        "id": "QHzzhumZWo3E"
      },
      "outputs": [],
      "source": [
        "encoder = OneHotEncoder(inputCols=['max(NAME_CONTRACT_STATUS)_indexed'],\n",
        "                                 outputCols=['max(NAME_CONTRACT_STATUS)_en'])"
      ]
    },
    {
      "cell_type": "code",
      "execution_count": null,
      "metadata": {
        "id": "tS7SxarRWo8W"
      },
      "outputs": [],
      "source": [
        "pos_cash_encoded = encoder.fit(pos_cash_indexer).transform(pos_cash_indexer)"
      ]
    },
    {
      "cell_type": "code",
      "execution_count": null,
      "metadata": {
        "id": "rvIxbpV2Wo_u"
      },
      "outputs": [],
      "source": [
        "pos_cash_encoded = pos_cash_encoded.drop('max(NAME_CONTRACT_STATUS)')"
      ]
    },
    {
      "cell_type": "code",
      "execution_count": null,
      "metadata": {
        "id": "UeLoROvThajq"
      },
      "outputs": [],
      "source": [
        "pos_cash_encoded = pos_cash_encoded.drop('max(NAME_CONTRACT_STATUS)_indexed')"
      ]
    },
    {
      "cell_type": "code",
      "execution_count": null,
      "metadata": {
        "colab": {
          "base_uri": "https://localhost:8080/"
        },
        "id": "qiv-QG7MWpCk",
        "outputId": "07be780e-f623-4459-ad87-d886098f4585"
      },
      "outputs": [
        {
          "data": {
            "text/plain": [
              "['SK_ID_CURR',\n",
              " 'avg(SK_ID_CURR)',\n",
              " 'avg(MONTHS_BALANCE)',\n",
              " 'avg(CNT_INSTALMENT)',\n",
              " 'avg(CNT_INSTALMENT_FUTURE)',\n",
              " 'avg(SK_DPD)',\n",
              " 'avg(SK_DPD_DEF)',\n",
              " 'id',\n",
              " 'max(NAME_CONTRACT_STATUS)_en']"
            ]
          },
          "execution_count": 111,
          "metadata": {},
          "output_type": "execute_result"
        }
      ],
      "source": [
        "pos_cash_encoded.columns"
      ]
    },
    {
      "cell_type": "code",
      "execution_count": null,
      "metadata": {
        "id": "zHhEoXe8p30r"
      },
      "outputs": [],
      "source": [
        "pos_cash_encoded_1 = pos_cash_encoded.drop('avg(CNT_INSTALMENT)',\n",
        " 'avg(CNT_INSTALMENT_FUTURE)',\n",
        " 'avg(SK_DPD)',\n",
        " 'avg(SK_DPD_DEF)',\n",
        " 'max(NAME_CONTRACT_STATUS)_en')"
      ]
    },
    {
      "cell_type": "markdown",
      "metadata": {
        "id": "Lmr9y7oQYD-N"
      },
      "source": [
        "manupulating the fourth file "
      ]
    },
    {
      "cell_type": "code",
      "execution_count": null,
      "metadata": {
        "colab": {
          "base_uri": "https://localhost:8080/"
        },
        "id": "B3iDORK-WpFJ",
        "outputId": "d8a6c5c1-a42c-4826-a6af-afc82eff9367"
      },
      "outputs": [
        {
          "data": {
            "text/plain": [
              "24"
            ]
          },
          "execution_count": 113,
          "metadata": {},
          "output_type": "execute_result"
        }
      ],
      "source": [
        "len(credit_bal_train.columns)\n"
      ]
    },
    {
      "cell_type": "code",
      "execution_count": null,
      "metadata": {
        "colab": {
          "base_uri": "https://localhost:8080/"
        },
        "id": "YmxaB0YlYeEB",
        "outputId": "ed37a86c-638e-4b2f-da7f-d4dccac61f5d"
      },
      "outputs": [
        {
          "name": "stdout",
          "output_type": "stream",
          "text": [
            "1  categorical features\n",
            "22  numerical features\n"
          ]
        }
      ],
      "source": [
        "cat_cols_credit = [item[0] for item in credit_bal_train.dtypes if item[1].startswith('string')] \n",
        "print(str(len(cat_cols_credit)) + '  categorical features')\n",
        "num_cols_credit = [item[0] for item in credit_bal_train.dtypes if item[1].startswith('int') | item[1].startswith('double')][1:]\n",
        "print(str(len(num_cols_credit)) + '  numerical features')"
      ]
    },
    {
      "cell_type": "code",
      "execution_count": null,
      "metadata": {
        "colab": {
          "base_uri": "https://localhost:8080/"
        },
        "id": "FMOdnrnYYeG-",
        "outputId": "91ab8cca-72ec-4724-fc3e-a4d027b21555"
      },
      "outputs": [
        {
          "data": {
            "text/plain": [
              "['NAME_CONTRACT_STATUS']"
            ]
          },
          "execution_count": 115,
          "metadata": {},
          "output_type": "execute_result"
        }
      ],
      "source": [
        "cat_cols_credit "
      ]
    },
    {
      "cell_type": "code",
      "execution_count": null,
      "metadata": {
        "colab": {
          "base_uri": "https://localhost:8080/"
        },
        "id": "iBz4m5FjYeJx",
        "outputId": "ffdf3e2a-60f9-4791-c6bd-46102c952020"
      },
      "outputs": [
        {
          "data": {
            "text/plain": [
              "['SK_ID_CURR',\n",
              " 'MONTHS_BALANCE',\n",
              " 'AMT_BALANCE',\n",
              " 'AMT_CREDIT_LIMIT_ACTUAL',\n",
              " 'AMT_DRAWINGS_ATM_CURRENT',\n",
              " 'AMT_DRAWINGS_CURRENT',\n",
              " 'AMT_DRAWINGS_OTHER_CURRENT',\n",
              " 'AMT_DRAWINGS_POS_CURRENT',\n",
              " 'AMT_INST_MIN_REGULARITY',\n",
              " 'AMT_PAYMENT_CURRENT',\n",
              " 'AMT_PAYMENT_TOTAL_CURRENT',\n",
              " 'AMT_RECEIVABLE_PRINCIPAL',\n",
              " 'AMT_RECIVABLE',\n",
              " 'AMT_TOTAL_RECEIVABLE',\n",
              " 'CNT_DRAWINGS_ATM_CURRENT',\n",
              " 'CNT_DRAWINGS_CURRENT',\n",
              " 'CNT_DRAWINGS_OTHER_CURRENT',\n",
              " 'CNT_DRAWINGS_POS_CURRENT',\n",
              " 'CNT_INSTALMENT_MATURE_CUM',\n",
              " 'SK_DPD',\n",
              " 'SK_DPD_DEF',\n",
              " 'id']"
            ]
          },
          "execution_count": 116,
          "metadata": {},
          "output_type": "execute_result"
        }
      ],
      "source": [
        "num_cols_credit"
      ]
    },
    {
      "cell_type": "code",
      "execution_count": null,
      "metadata": {
        "id": "9ZF_YXnmYeMT"
      },
      "outputs": [],
      "source": [
        "credit_bal_train.createOrReplaceTempView(\"credit_bal_train\")"
      ]
    },
    {
      "cell_type": "code",
      "execution_count": null,
      "metadata": {
        "id": "JLrEPoanYeQx"
      },
      "outputs": [],
      "source": [
        "credit_bal_num = spark.sql('''select SK_ID_CURR,\n",
        " MONTHS_BALANCE,\n",
        " AMT_BALANCE,\n",
        " AMT_CREDIT_LIMIT_ACTUAL,\n",
        " AMT_DRAWINGS_ATM_CURRENT,\n",
        " AMT_DRAWINGS_CURRENT,\n",
        " AMT_DRAWINGS_OTHER_CURRENT,\n",
        " AMT_DRAWINGS_POS_CURRENT,\n",
        " AMT_INST_MIN_REGULARITY,\n",
        " AMT_PAYMENT_CURRENT,\n",
        " AMT_PAYMENT_TOTAL_CURRENT,\n",
        " AMT_RECEIVABLE_PRINCIPAL,\n",
        " AMT_RECIVABLE,\n",
        " AMT_TOTAL_RECEIVABLE,\n",
        " CNT_DRAWINGS_ATM_CURRENT,\n",
        " CNT_DRAWINGS_CURRENT,\n",
        " CNT_DRAWINGS_OTHER_CURRENT,\n",
        " CNT_DRAWINGS_POS_CURRENT,\n",
        " CNT_INSTALMENT_MATURE_CUM,\n",
        " SK_DPD,\n",
        " SK_DPD_DEF from credit_bal_train ''')"
      ]
    },
    {
      "cell_type": "code",
      "execution_count": null,
      "metadata": {
        "id": "l3XWPQARYeTu"
      },
      "outputs": [],
      "source": [
        "credit_bal_cat = spark.sql('''select id,NAME_CONTRACT_STATUS\n",
        "  from credit_bal_train ''')"
      ]
    },
    {
      "cell_type": "code",
      "execution_count": null,
      "metadata": {
        "id": "WaZx9Sv8YeWL"
      },
      "outputs": [],
      "source": [
        "credit_bal_num = credit_bal_num.groupBy('SK_ID_CURR').mean()"
      ]
    },
    {
      "cell_type": "code",
      "execution_count": null,
      "metadata": {
        "id": "EK_AR054YeY2"
      },
      "outputs": [],
      "source": [
        "credit_bal_cat = credit_bal_cat.groupBy('id').agg(f.max('NAME_CONTRACT_STATUS'))"
      ]
    },
    {
      "cell_type": "code",
      "execution_count": null,
      "metadata": {
        "id": "gXAPOCmgYebi"
      },
      "outputs": [],
      "source": [
        "credit_bal_num.createOrReplaceTempView(\"credit_bal_num\")\n",
        "credit_bal_cat.createOrReplaceTempView(\"credit_bal_cat\")\n",
        "\n",
        "\n",
        "credit_bal_training = spark.sql('''select *\n",
        "FROM credit_bal_num\n",
        "INNER JOIN credit_bal_cat\n",
        "ON credit_bal_cat.id = credit_bal_num.SK_ID_CURR; ''')"
      ]
    },
    {
      "cell_type": "code",
      "execution_count": null,
      "metadata": {
        "colab": {
          "base_uri": "https://localhost:8080/"
        },
        "id": "8S3BuB9YdIRG",
        "outputId": "35d2cc9b-10c2-4454-badd-03a7a1a9a890"
      },
      "outputs": [
        {
          "name": "stdout",
          "output_type": "stream",
          "text": [
            "root\n",
            " |-- SK_ID_CURR: integer (nullable = true)\n",
            " |-- avg(SK_ID_CURR): double (nullable = true)\n",
            " |-- avg(MONTHS_BALANCE): double (nullable = true)\n",
            " |-- avg(AMT_BALANCE): double (nullable = true)\n",
            " |-- avg(AMT_CREDIT_LIMIT_ACTUAL): double (nullable = true)\n",
            " |-- avg(AMT_DRAWINGS_ATM_CURRENT): double (nullable = true)\n",
            " |-- avg(AMT_DRAWINGS_CURRENT): double (nullable = true)\n",
            " |-- avg(AMT_DRAWINGS_OTHER_CURRENT): double (nullable = true)\n",
            " |-- avg(AMT_DRAWINGS_POS_CURRENT): double (nullable = true)\n",
            " |-- avg(AMT_INST_MIN_REGULARITY): double (nullable = true)\n",
            " |-- avg(AMT_PAYMENT_CURRENT): double (nullable = true)\n",
            " |-- avg(AMT_PAYMENT_TOTAL_CURRENT): double (nullable = true)\n",
            " |-- avg(AMT_RECEIVABLE_PRINCIPAL): double (nullable = true)\n",
            " |-- avg(AMT_RECIVABLE): double (nullable = true)\n",
            " |-- avg(AMT_TOTAL_RECEIVABLE): double (nullable = true)\n",
            " |-- avg(CNT_DRAWINGS_ATM_CURRENT): double (nullable = true)\n",
            " |-- avg(CNT_DRAWINGS_CURRENT): double (nullable = true)\n",
            " |-- avg(CNT_DRAWINGS_OTHER_CURRENT): double (nullable = true)\n",
            " |-- avg(CNT_DRAWINGS_POS_CURRENT): double (nullable = true)\n",
            " |-- avg(CNT_INSTALMENT_MATURE_CUM): double (nullable = true)\n",
            " |-- avg(SK_DPD): double (nullable = true)\n",
            " |-- avg(SK_DPD_DEF): double (nullable = true)\n",
            " |-- id: integer (nullable = true)\n",
            " |-- max(NAME_CONTRACT_STATUS): string (nullable = true)\n",
            "\n"
          ]
        }
      ],
      "source": [
        "credit_bal_training.printSchema()"
      ]
    },
    {
      "cell_type": "code",
      "execution_count": null,
      "metadata": {
        "colab": {
          "base_uri": "https://localhost:8080/"
        },
        "id": "O9_-cTQBdIWS",
        "outputId": "0b77f9d9-6fb5-44cf-e8f6-da23e2ed3248"
      },
      "outputs": [
        {
          "name": "stdout",
          "output_type": "stream",
          "text": [
            "+----------+---------------+-------------------+----------------+----------------------------+-----------------------------+-------------------------+-------------------------------+-----------------------------+----------------------------+------------------------+------------------------------+-----------------------------+------------------+-------------------------+-----------------------------+-------------------------+-------------------------------+-----------------------------+------------------------------+-----------+---------------+---+-------------------------+\n",
            "|SK_ID_CURR|avg(SK_ID_CURR)|avg(MONTHS_BALANCE)|avg(AMT_BALANCE)|avg(AMT_CREDIT_LIMIT_ACTUAL)|avg(AMT_DRAWINGS_ATM_CURRENT)|avg(AMT_DRAWINGS_CURRENT)|avg(AMT_DRAWINGS_OTHER_CURRENT)|avg(AMT_DRAWINGS_POS_CURRENT)|avg(AMT_INST_MIN_REGULARITY)|avg(AMT_PAYMENT_CURRENT)|avg(AMT_PAYMENT_TOTAL_CURRENT)|avg(AMT_RECEIVABLE_PRINCIPAL)|avg(AMT_RECIVABLE)|avg(AMT_TOTAL_RECEIVABLE)|avg(CNT_DRAWINGS_ATM_CURRENT)|avg(CNT_DRAWINGS_CURRENT)|avg(CNT_DRAWINGS_OTHER_CURRENT)|avg(CNT_DRAWINGS_POS_CURRENT)|avg(CNT_INSTALMENT_MATURE_CUM)|avg(SK_DPD)|avg(SK_DPD_DEF)| id|max(NAME_CONTRACT_STATUS)|\n",
            "+----------+---------------+-------------------+----------------+----------------------------+-----------------------------+-------------------------+-------------------------------+-----------------------------+----------------------------+------------------------+------------------------------+-----------------------------+------------------+-------------------------+-----------------------------+-------------------------+-------------------------------+-----------------------------+------------------------------+-----------+---------------+---+-------------------------+\n",
            "|         0|              0|                  0|               0|                           0|                        21905|                        0|                          21905|                        21905|                           0|                   21939|                             0|                            0|                 0|                        0|                        21905|                        0|                          21905|                        21905|                             0|          0|              0|  0|                        0|\n",
            "+----------+---------------+-------------------+----------------+----------------------------+-----------------------------+-------------------------+-------------------------------+-----------------------------+----------------------------+------------------------+------------------------------+-----------------------------+------------------+-------------------------+-----------------------------+-------------------------+-------------------------------+-----------------------------+------------------------------+-----------+---------------+---+-------------------------+\n",
            "\n"
          ]
        }
      ],
      "source": [
        "# credit_bal_training.select([count(when(col(c).isNull(), c)).alias(c) for c in credit_bal_training.columns]).show()"
      ]
    },
    {
      "cell_type": "code",
      "execution_count": null,
      "metadata": {
        "id": "nqvgyWfzdIZh"
      },
      "outputs": [],
      "source": [
        "imputer = Imputer(\n",
        "      inputCols=['avg(AMT_DRAWINGS_ATM_CURRENT)','avg(AMT_DRAWINGS_OTHER_CURRENT)','avg(AMT_PAYMENT_CURRENT)','avg(AMT_DRAWINGS_POS_CURRENT)','avg(CNT_DRAWINGS_ATM_CURRENT)','avg(CNT_DRAWINGS_OTHER_CURRENT)','avg(CNT_DRAWINGS_POS_CURRENT)'], \n",
        "      outputCols=['avg(AMT_DRAWINGS_ATM_CURRENT)','avg(AMT_DRAWINGS_OTHER_CURRENT)','avg(AMT_PAYMENT_CURRENT)','avg(AMT_DRAWINGS_POS_CURRENT)','avg(CNT_DRAWINGS_ATM_CURRENT)','avg(CNT_DRAWINGS_OTHER_CURRENT)','avg(CNT_DRAWINGS_POS_CURRENT)']\n",
        "      ).setStrategy(\"mean\")"
      ]
    },
    {
      "cell_type": "code",
      "execution_count": null,
      "metadata": {
        "id": "aJaa9hZQdIck"
      },
      "outputs": [],
      "source": [
        "model = imputer.fit(credit_bal_training)\n",
        "credit_bal_imputed = model.transform(credit_bal_training)"
      ]
    },
    {
      "cell_type": "code",
      "execution_count": null,
      "metadata": {
        "id": "mZufNsg8iB5k"
      },
      "outputs": [],
      "source": [
        "indexer = StringIndexer(inputCols=['max(NAME_CONTRACT_STATUS)'],outputCols=['max(NAME_CONTRACT_STATUS)_indexed'])"
      ]
    },
    {
      "cell_type": "code",
      "execution_count": null,
      "metadata": {
        "id": "q6D3V5lzfS3u"
      },
      "outputs": [],
      "source": [
        "credit_bal_indexer = indexer.fit(credit_bal_imputed).transform(credit_bal_imputed)"
      ]
    },
    {
      "cell_type": "code",
      "execution_count": null,
      "metadata": {
        "id": "Rda4dx-ufS9E"
      },
      "outputs": [],
      "source": [
        "encoder = OneHotEncoder(inputCols=['max(NAME_CONTRACT_STATUS)_indexed'],\n",
        "                                 outputCols=['max(NAME_CONTRACT_STATUS)_en'])"
      ]
    },
    {
      "cell_type": "code",
      "execution_count": null,
      "metadata": {
        "id": "RIhnAeWQfTA3"
      },
      "outputs": [],
      "source": [
        "credit_bal_encoded = encoder.fit(credit_bal_indexer).transform(credit_bal_indexer)"
      ]
    },
    {
      "cell_type": "code",
      "execution_count": null,
      "metadata": {
        "colab": {
          "base_uri": "https://localhost:8080/"
        },
        "id": "fvMb0E3HWpH9",
        "outputId": "79c12a6b-9ffe-48ef-e42d-14760c95e2f1"
      },
      "outputs": [
        {
          "name": "stdout",
          "output_type": "stream",
          "text": [
            "root\n",
            " |-- SK_ID_CURR: integer (nullable = true)\n",
            " |-- avg(SK_ID_CURR): double (nullable = true)\n",
            " |-- avg(MONTHS_BALANCE): double (nullable = true)\n",
            " |-- avg(AMT_BALANCE): double (nullable = true)\n",
            " |-- avg(AMT_CREDIT_LIMIT_ACTUAL): double (nullable = true)\n",
            " |-- avg(AMT_DRAWINGS_ATM_CURRENT): double (nullable = true)\n",
            " |-- avg(AMT_DRAWINGS_CURRENT): double (nullable = true)\n",
            " |-- avg(AMT_DRAWINGS_OTHER_CURRENT): double (nullable = true)\n",
            " |-- avg(AMT_DRAWINGS_POS_CURRENT): double (nullable = true)\n",
            " |-- avg(AMT_INST_MIN_REGULARITY): double (nullable = true)\n",
            " |-- avg(AMT_PAYMENT_CURRENT): double (nullable = true)\n",
            " |-- avg(AMT_PAYMENT_TOTAL_CURRENT): double (nullable = true)\n",
            " |-- avg(AMT_RECEIVABLE_PRINCIPAL): double (nullable = true)\n",
            " |-- avg(AMT_RECIVABLE): double (nullable = true)\n",
            " |-- avg(AMT_TOTAL_RECEIVABLE): double (nullable = true)\n",
            " |-- avg(CNT_DRAWINGS_ATM_CURRENT): double (nullable = true)\n",
            " |-- avg(CNT_DRAWINGS_CURRENT): double (nullable = true)\n",
            " |-- avg(CNT_DRAWINGS_OTHER_CURRENT): double (nullable = true)\n",
            " |-- avg(CNT_DRAWINGS_POS_CURRENT): double (nullable = true)\n",
            " |-- avg(CNT_INSTALMENT_MATURE_CUM): double (nullable = true)\n",
            " |-- avg(SK_DPD): double (nullable = true)\n",
            " |-- avg(SK_DPD_DEF): double (nullable = true)\n",
            " |-- id: integer (nullable = true)\n",
            " |-- max(NAME_CONTRACT_STATUS): string (nullable = true)\n",
            " |-- max(NAME_CONTRACT_STATUS)_indexed: double (nullable = false)\n",
            " |-- max(NAME_CONTRACT_STATUS)_en: vector (nullable = true)\n",
            "\n"
          ]
        }
      ],
      "source": [
        "credit_bal_encoded.printSchema()"
      ]
    },
    {
      "cell_type": "code",
      "execution_count": null,
      "metadata": {
        "id": "_JHuiuzLcu5u"
      },
      "outputs": [],
      "source": [
        "credit_bal_encoded = credit_bal_encoded.drop('max(NAME_CONTRACT_STATUS)_indexed','max(NAME_CONTRACT_STATUS)','avg(SK_ID_CURR)')"
      ]
    },
    {
      "cell_type": "code",
      "execution_count": null,
      "metadata": {
        "colab": {
          "base_uri": "https://localhost:8080/"
        },
        "id": "EUJvLqTvq2uY",
        "outputId": "ffea2eb3-e6f7-4c0e-b89d-de5d54052742"
      },
      "outputs": [
        {
          "data": {
            "text/plain": [
              "['SK_ID_CURR',\n",
              " 'avg(MONTHS_BALANCE)',\n",
              " 'avg(AMT_BALANCE)',\n",
              " 'avg(AMT_CREDIT_LIMIT_ACTUAL)',\n",
              " 'avg(AMT_DRAWINGS_ATM_CURRENT)',\n",
              " 'avg(AMT_DRAWINGS_CURRENT)',\n",
              " 'avg(AMT_DRAWINGS_OTHER_CURRENT)',\n",
              " 'avg(AMT_DRAWINGS_POS_CURRENT)',\n",
              " 'avg(AMT_INST_MIN_REGULARITY)',\n",
              " 'avg(AMT_PAYMENT_CURRENT)',\n",
              " 'avg(AMT_PAYMENT_TOTAL_CURRENT)',\n",
              " 'avg(AMT_RECEIVABLE_PRINCIPAL)',\n",
              " 'avg(AMT_RECIVABLE)',\n",
              " 'avg(AMT_TOTAL_RECEIVABLE)',\n",
              " 'avg(CNT_DRAWINGS_ATM_CURRENT)',\n",
              " 'avg(CNT_DRAWINGS_CURRENT)',\n",
              " 'avg(CNT_DRAWINGS_OTHER_CURRENT)',\n",
              " 'avg(CNT_DRAWINGS_POS_CURRENT)',\n",
              " 'avg(CNT_INSTALMENT_MATURE_CUM)',\n",
              " 'avg(SK_DPD)',\n",
              " 'avg(SK_DPD_DEF)',\n",
              " 'id',\n",
              " 'max(NAME_CONTRACT_STATUS)_en']"
            ]
          },
          "execution_count": 133,
          "metadata": {},
          "output_type": "execute_result"
        }
      ],
      "source": [
        "credit_bal_encoded.columns"
      ]
    },
    {
      "cell_type": "code",
      "execution_count": null,
      "metadata": {
        "id": "pOEzlTgGqvu9"
      },
      "outputs": [],
      "source": [
        "credit_bal_encoded_1 = credit_bal_encoded.drop('avg(AMT_DRAWINGS_ATM_CURRENT)','avg(AMT_DRAWINGS_OTHER_CURRENT)','avg(AMT_PAYMENT_CURRENT)','avg(AMT_DRAWINGS_POS_CURRENT)','avg(CNT_DRAWINGS_ATM_CURRENT)','avg(CNT_DRAWINGS_OTHER_CURRENT)','avg(CNT_DRAWINGS_POS_CURRENT)')"
      ]
    },
    {
      "cell_type": "code",
      "execution_count": null,
      "metadata": {
        "id": "f1joCNHEcu8f"
      },
      "outputs": [],
      "source": [
        "#credit_bal_encoded"
      ]
    },
    {
      "cell_type": "markdown",
      "metadata": {
        "id": "lyPr4hSIkCw9"
      },
      "source": [
        "check for common columns in the four end files "
      ]
    },
    {
      "cell_type": "code",
      "execution_count": null,
      "metadata": {
        "id": "TTMjKi9Kcu_v"
      },
      "outputs": [],
      "source": []
    },
    {
      "cell_type": "code",
      "execution_count": null,
      "metadata": {
        "id": "AfmKFjPfcvEc"
      },
      "outputs": [],
      "source": [
        "app_train_encoded = app_train_encoded.drop('NAME_CONTRACT_TYPE_indexed',\n",
        " 'CODE_GENDER_indexed',\n",
        " 'FLAG_OWN_CAR_indexed',\n",
        " 'FLAG_OWN_REALTY_indexed',\n",
        " 'NAME_TYPE_SUITE_indexed',\n",
        " 'NAME_INCOME_TYPE_indexed',\n",
        " 'NAME_EDUCATION_TYPE_indexed',\n",
        " 'NAME_FAMILY_STATUS_indexed',\n",
        " 'NAME_HOUSING_TYPE_indexed',\n",
        " 'OCCUPATION_TYPE_indexed',\n",
        " 'WEEKDAY_APPR_PROCESS_START_indexed',\n",
        " 'ORGANIZATION_TYPE_indexed',\n",
        " 'HOUSETYPE_MODE_indexed',\n",
        " 'WALLSMATERIAL_MODE_indexed',\n",
        " 'EMERGENCYSTATE_MODE_indexed',)"
      ]
    },
    {
      "cell_type": "code",
      "execution_count": null,
      "metadata": {
        "colab": {
          "base_uri": "https://localhost:8080/"
        },
        "id": "MxhqEUwAcvH1",
        "outputId": "affad2dc-7488-48d8-fca5-fd83a50db735"
      },
      "outputs": [
        {
          "data": {
            "text/plain": [
              "['avg(MONTHS_BALANCE)', 'id', 'SK_ID_CURR']"
            ]
          },
          "execution_count": 137,
          "metadata": {},
          "output_type": "execute_result"
        }
      ],
      "source": [
        "list(set(pos_cash_encoded_1.columns).intersection(credit_bal_encoded_1.columns))"
      ]
    },
    {
      "cell_type": "code",
      "execution_count": null,
      "metadata": {
        "id": "JqbA0OiRWpKo"
      },
      "outputs": [],
      "source": [
        "pos_cash_encoded_1= pos_cash_encoded_1.withColumnRenamed('avg(SK_DPD)','pos_avg(SK_DPD)')\n",
        "pos_cash_encoded_1= pos_cash_encoded_1.withColumnRenamed('avg(SK_DPD_DEF)','pos_avg(SK_DPD_DEF)')\n",
        "pos_cash_encoded_1= pos_cash_encoded_1.withColumnRenamed('max(NAME_CONTRACT_STATUS)_en','pos_max(NAME_CONTRACT_STATUS)_en')\n",
        "pos_cash_encoded_1= pos_cash_encoded_1.withColumnRenamed('avg(MONTHS_BALANCE)','pos_avg(MONTHS_BALANCE)')\n",
        "credit_bal_encoded_1 = credit_bal_encoded_1.withColumnRenamed('max(NAME_CONTRACT_STATUS)_en','credit_max(NAME_CONTRACT_STATUS)_en')"
      ]
    },
    {
      "cell_type": "code",
      "execution_count": null,
      "metadata": {
        "colab": {
          "base_uri": "https://localhost:8080/"
        },
        "id": "Wi0mgNpdyWmr",
        "outputId": "e9ffe171-b174-4499-fda7-1fbd5e91a4e7"
      },
      "outputs": [
        {
          "name": "stdout",
          "output_type": "stream",
          "text": [
            "root\n",
            " |-- SK_ID_CURR: integer (nullable = true)\n",
            " |-- TARGET: integer (nullable = true)\n",
            " |-- CNT_CHILDREN: integer (nullable = true)\n",
            " |-- AMT_INCOME_TOTAL: double (nullable = true)\n",
            " |-- AMT_CREDIT: double (nullable = true)\n",
            " |-- AMT_ANNUITY: double (nullable = true)\n",
            " |-- AMT_GOODS_PRICE: double (nullable = true)\n",
            " |-- REGION_POPULATION_RELATIVE: double (nullable = true)\n",
            " |-- DAYS_BIRTH: integer (nullable = true)\n",
            " |-- DAYS_EMPLOYED: integer (nullable = true)\n",
            " |-- DAYS_REGISTRATION: double (nullable = true)\n",
            " |-- DAYS_ID_PUBLISH: integer (nullable = true)\n",
            " |-- CNT_FAM_MEMBERS: double (nullable = true)\n",
            " |-- REGION_RATING_CLIENT: integer (nullable = true)\n",
            " |-- REGION_RATING_CLIENT_W_CITY: integer (nullable = true)\n",
            " |-- EXT_SOURCE_2: double (nullable = true)\n",
            " |-- EXT_SOURCE_3: double (nullable = true)\n",
            " |-- APARTMENTS_AVG: double (nullable = true)\n",
            " |-- YEARS_BEGINEXPLUATATION_AVG: double (nullable = true)\n",
            " |-- ENTRANCES_AVG: double (nullable = true)\n",
            " |-- FLOORSMAX_AVG: double (nullable = true)\n",
            " |-- LIVINGAREA_AVG: double (nullable = true)\n",
            " |-- APARTMENTS_MEDI: double (nullable = true)\n",
            " |-- ENTRANCES_MEDI: double (nullable = true)\n",
            " |-- FLOORSMAX_MEDI: double (nullable = true)\n",
            " |-- LIVINGAREA_MEDI: double (nullable = true)\n",
            " |-- TOTALAREA_MODE: double (nullable = true)\n",
            " |-- OBS_30_CNT_SOCIAL_CIRCLE: double (nullable = true)\n",
            " |-- DEF_30_CNT_SOCIAL_CIRCLE: double (nullable = true)\n",
            " |-- OBS_60_CNT_SOCIAL_CIRCLE: double (nullable = true)\n",
            " |-- DEF_60_CNT_SOCIAL_CIRCLE: double (nullable = true)\n",
            " |-- DAYS_LAST_PHONE_CHANGE: double (nullable = true)\n",
            " |-- FLAG_DOCUMENT_2: integer (nullable = true)\n",
            " |-- FLAG_DOCUMENT_3: integer (nullable = true)\n",
            " |-- FLAG_DOCUMENT_4: integer (nullable = true)\n",
            " |-- FLAG_DOCUMENT_5: integer (nullable = true)\n",
            " |-- FLAG_DOCUMENT_6: integer (nullable = true)\n",
            " |-- FLAG_DOCUMENT_7: integer (nullable = true)\n",
            " |-- FLAG_DOCUMENT_8: integer (nullable = true)\n",
            " |-- FLAG_DOCUMENT_9: integer (nullable = true)\n",
            " |-- FLAG_DOCUMENT_10: integer (nullable = true)\n",
            " |-- FLAG_DOCUMENT_11: integer (nullable = true)\n",
            " |-- FLAG_DOCUMENT_12: integer (nullable = true)\n",
            " |-- FLAG_DOCUMENT_13: integer (nullable = true)\n",
            " |-- FLAG_DOCUMENT_14: integer (nullable = true)\n",
            " |-- FLAG_DOCUMENT_15: integer (nullable = true)\n",
            " |-- FLAG_DOCUMENT_16: integer (nullable = true)\n",
            " |-- FLAG_DOCUMENT_17: integer (nullable = true)\n",
            " |-- FLAG_DOCUMENT_18: integer (nullable = true)\n",
            " |-- FLAG_DOCUMENT_19: integer (nullable = true)\n",
            " |-- FLAG_DOCUMENT_20: integer (nullable = true)\n",
            " |-- FLAG_DOCUMENT_21: integer (nullable = true)\n",
            " |-- NAME_CONTRACT_TYPE_indexed: double (nullable = false)\n",
            " |-- CODE_GENDER_indexed: double (nullable = false)\n",
            " |-- FLAG_OWN_CAR_indexed: double (nullable = false)\n",
            " |-- FLAG_OWN_REALTY_indexed: double (nullable = false)\n",
            " |-- NAME_TYPE_SUITE_indexed: double (nullable = false)\n",
            " |-- NAME_INCOME_TYPE_indexed: double (nullable = false)\n",
            " |-- NAME_EDUCATION_TYPE_indexed: double (nullable = false)\n",
            " |-- NAME_FAMILY_STATUS_indexed: double (nullable = false)\n",
            " |-- NAME_HOUSING_TYPE_indexed: double (nullable = false)\n",
            " |-- OCCUPATION_TYPE_indexed: double (nullable = false)\n",
            " |-- WEEKDAY_APPR_PROCESS_START_indexed: double (nullable = false)\n",
            " |-- ORGANIZATION_TYPE_indexed: double (nullable = false)\n",
            " |-- HOUSETYPE_MODE_indexed: double (nullable = false)\n",
            " |-- WALLSMATERIAL_MODE_indexed: double (nullable = false)\n",
            " |-- EMERGENCYSTATE_MODE_indexed: double (nullable = false)\n",
            " |-- NAME_CONTRACT_TYPE_en: vector (nullable = true)\n",
            " |-- CODE_GENDER_en: vector (nullable = true)\n",
            " |-- FLAG_OWN_CAR_en: vector (nullable = true)\n",
            " |-- FLAG_OWN_REALTY_en: vector (nullable = true)\n",
            " |-- NAME_TYPE_SUITE_en: vector (nullable = true)\n",
            " |-- NAME_INCOME_TYPE_en: vector (nullable = true)\n",
            " |-- NAME_EDUCATION_TYPE_en: vector (nullable = true)\n",
            " |-- NAME_FAMILY_STATUS_en: vector (nullable = true)\n",
            " |-- NAME_HOUSING_TYPE_en: vector (nullable = true)\n",
            " |-- OCCUPATION_TYPE_en: vector (nullable = true)\n",
            " |-- WEEKDAY_APPR_PROCESS_START_en: vector (nullable = true)\n",
            " |-- ORGANIZATION_TYPE_en: vector (nullable = true)\n",
            " |-- HOUSETYPE_MODE_en: vector (nullable = true)\n",
            " |-- WALLSMATERIAL_MODE_en: vector (nullable = true)\n",
            " |-- EMERGENCYSTATE_MODE_en: vector (nullable = true)\n",
            " |-- weights: double (nullable = false)\n",
            "\n"
          ]
        }
      ],
      "source": [
        "app_train_encoded_1.printSchema()"
      ]
    },
    {
      "cell_type": "code",
      "execution_count": null,
      "metadata": {
        "id": "AHKOXnJ54QjN"
      },
      "outputs": [],
      "source": [
        "pos_cash_encoded_1 = pos_cash_encoded_1.drop('pos_avg(SK_DPD)','pos_avg(SK_DPD_DEF)','pos_max(NAME_CONTRACT_STATUS)_en')"
      ]
    },
    {
      "cell_type": "code",
      "execution_count": null,
      "metadata": {
        "colab": {
          "base_uri": "https://localhost:8080/"
        },
        "id": "8XeZx5Ht4rCs",
        "outputId": "03d4a4b4-fa1c-4d5a-cbd7-4cecc62dc51d"
      },
      "outputs": [
        {
          "name": "stdout",
          "output_type": "stream",
          "text": [
            "root\n",
            " |-- SK_ID_CURR: integer (nullable = true)\n",
            " |-- avg(SK_ID_CURR): double (nullable = true)\n",
            " |-- pos_avg(MONTHS_BALANCE): double (nullable = true)\n",
            " |-- pos_id: integer (nullable = true)\n",
            "\n"
          ]
        }
      ],
      "source": [
        "pos_cash_encoded_1.printSchema()"
      ]
    },
    {
      "cell_type": "code",
      "execution_count": null,
      "metadata": {
        "colab": {
          "base_uri": "https://localhost:8080/"
        },
        "id": "8eF5r3yFqzjp",
        "outputId": "18f0bce2-0ed3-4d1a-e3fa-58b3dba23816"
      },
      "outputs": [
        {
          "name": "stdout",
          "output_type": "stream",
          "text": [
            "root\n",
            " |-- prev_id: integer (nullable = true)\n",
            " |-- avg(AMT_ANNUITY): double (nullable = true)\n",
            " |-- avg(AMT_APPLICATION): double (nullable = true)\n",
            " |-- avg(AMT_CREDIT): double (nullable = true)\n",
            " |-- avg(AMT_DOWN_PAYMENT): double (nullable = true)\n",
            " |-- avg(AMT_GOODS_PRICE): double (nullable = true)\n",
            " |-- avg(RATE_DOWN_PAYMENT): double (nullable = true)\n",
            " |-- avg(CNT_PAYMENT): double (nullable = true)\n",
            " |-- avg(DAYS_FIRST_DRAWING): double (nullable = true)\n",
            " |-- avg(DAYS_FIRST_DUE): double (nullable = true)\n",
            " |-- avg(DAYS_LAST_DUE): double (nullable = true)\n",
            " |-- avg(DAYS_TERMINATION): double (nullable = true)\n",
            " |-- avg(NFLAG_INSURED_ON_APPROVAL): double (nullable = true)\n",
            " |-- SK_ID_CURR: integer (nullable = true)\n",
            " |-- max(NAME_CONTRACT_TYPE)_en: vector (nullable = true)\n",
            " |-- max(WEEKDAY_APPR_PROCESS_START)_en: vector (nullable = true)\n",
            " |-- max(NAME_CASH_LOAN_PURPOSE)_en: vector (nullable = true)\n",
            " |-- max(NAME_PAYMENT_TYPE)_en: vector (nullable = true)\n",
            " |-- max(CODE_REJECT_REASON)_en: vector (nullable = true)\n",
            " |-- max(NAME_CLIENT_TYPE)_en: vector (nullable = true)\n",
            " |-- max(NAME_GOODS_CATEGORY)_en: vector (nullable = true)\n",
            " |-- max(NAME_PORTFOLIO)_en: vector (nullable = true)\n",
            " |-- max(CHANNEL_TYPE)_en: vector (nullable = true)\n",
            " |-- max(NAME_SELLER_INDUSTRY)_en: vector (nullable = true)\n",
            " |-- max(NAME_YIELD_GROUP)_en: vector (nullable = true)\n",
            " |-- max(PRODUCT_COMBINATION)_en: vector (nullable = true)\n",
            "\n"
          ]
        }
      ],
      "source": [
        "prev_train_encoded_1.printSchema()"
      ]
    },
    {
      "cell_type": "code",
      "execution_count": null,
      "metadata": {
        "colab": {
          "base_uri": "https://localhost:8080/"
        },
        "id": "chikCkolr23y",
        "outputId": "8b0182b6-adf4-410c-8174-8f8fd75a6749"
      },
      "outputs": [
        {
          "name": "stdout",
          "output_type": "stream",
          "text": [
            "root\n",
            " |-- SK_ID_CURR: integer (nullable = true)\n",
            " |-- avg(SK_ID_CURR): double (nullable = true)\n",
            " |-- pos_avg(MONTHS_BALANCE): double (nullable = true)\n",
            " |-- pos_id: integer (nullable = true)\n",
            "\n"
          ]
        }
      ],
      "source": [
        "pos_cash_encoded_1.printSchema()"
      ]
    },
    {
      "cell_type": "code",
      "execution_count": null,
      "metadata": {
        "colab": {
          "base_uri": "https://localhost:8080/"
        },
        "id": "l_ekSI8GyTbF",
        "outputId": "3702f18b-1ed9-4fff-adfe-09e47fec040d"
      },
      "outputs": [
        {
          "name": "stdout",
          "output_type": "stream",
          "text": [
            "root\n",
            " |-- SK_ID_CURR: integer (nullable = true)\n",
            " |-- avg(MONTHS_BALANCE): double (nullable = true)\n",
            " |-- avg(AMT_BALANCE): double (nullable = true)\n",
            " |-- avg(AMT_CREDIT_LIMIT_ACTUAL): double (nullable = true)\n",
            " |-- avg(AMT_DRAWINGS_CURRENT): double (nullable = true)\n",
            " |-- avg(AMT_INST_MIN_REGULARITY): double (nullable = true)\n",
            " |-- avg(AMT_PAYMENT_TOTAL_CURRENT): double (nullable = true)\n",
            " |-- avg(AMT_RECEIVABLE_PRINCIPAL): double (nullable = true)\n",
            " |-- avg(AMT_RECIVABLE): double (nullable = true)\n",
            " |-- avg(AMT_TOTAL_RECEIVABLE): double (nullable = true)\n",
            " |-- avg(CNT_DRAWINGS_CURRENT): double (nullable = true)\n",
            " |-- avg(CNT_INSTALMENT_MATURE_CUM): double (nullable = true)\n",
            " |-- avg(SK_DPD): double (nullable = true)\n",
            " |-- avg(SK_DPD_DEF): double (nullable = true)\n",
            " |-- credit_id: integer (nullable = true)\n",
            " |-- credit_max(NAME_CONTRACT_STATUS)_en: vector (nullable = true)\n",
            "\n"
          ]
        }
      ],
      "source": [
        "credit_bal_encoded_1.printSchema()"
      ]
    },
    {
      "cell_type": "code",
      "execution_count": null,
      "metadata": {
        "id": "fyzP1WsIyTjP"
      },
      "outputs": [],
      "source": []
    },
    {
      "cell_type": "code",
      "execution_count": null,
      "metadata": {
        "id": "Kox9N_S0yUKi"
      },
      "outputs": [],
      "source": []
    },
    {
      "cell_type": "code",
      "execution_count": null,
      "metadata": {
        "id": "UNU_SYGppNrH"
      },
      "outputs": [],
      "source": [
        "pos_cash_encoded_1= pos_cash_encoded_1.withColumnRenamed('id','pos_id')\n",
        "prev_train_encoded_1= prev_train_encoded_1.withColumnRenamed('id','prev_id')\n",
        "credit_bal_encoded_1= credit_bal_encoded_1.withColumnRenamed('id','credit_id')\n"
      ]
    },
    {
      "cell_type": "code",
      "execution_count": null,
      "metadata": {
        "id": "dbSmQpAopvou"
      },
      "outputs": [],
      "source": [
        "app_train_encoded_1.createOrReplaceTempView(\"app_train_encoded_1\")\n",
        "prev_train_encoded_1.createOrReplaceTempView(\"prev_train_encoded_1\")\n",
        "pos_cash_encoded_1.createOrReplaceTempView(\"pos_cash_encoded_1\")\n",
        "credit_bal_encoded_1.createOrReplaceTempView(\"credit_bal_encoded_1\")\n",
        "\n",
        "apprev_train = spark.sql('''select * from app_train_encoded_1 INNER JOIN prev_train_encoded_1 on app_train_encoded_1.SK_ID_CURR = prev_train_encoded_1.prev_id ''')"
      ]
    },
    {
      "cell_type": "code",
      "execution_count": null,
      "metadata": {
        "id": "iDQe5VjRsQgY"
      },
      "outputs": [],
      "source": [
        "# apprev_train.printSchema()"
      ]
    },
    {
      "cell_type": "code",
      "execution_count": null,
      "metadata": {
        "id": "QHfgvCDVpvsE"
      },
      "outputs": [],
      "source": [
        "apprev_train.createOrReplaceTempView(\"apprev_train\")\n",
        "apprevposh_train = spark.sql('''select * from apprev_train INNER JOIN pos_cash_encoded_1 on apprev_train.prev_id = pos_cash_encoded_1.pos_id ''')"
      ]
    },
    {
      "cell_type": "code",
      "execution_count": null,
      "metadata": {
        "id": "h0RG0x2Xpvvq"
      },
      "outputs": [],
      "source": [
        "apprevposh_train.createOrReplaceTempView(\"apprevposh_train\")\n",
        "ap_prev_pos_credit_train = spark.sql('''select * from apprevposh_train INNER JOIN credit_bal_encoded_1 on apprevposh_train.pos_id = credit_bal_encoded_1.credit_id ''')\n"
      ]
    },
    {
      "cell_type": "code",
      "execution_count": null,
      "metadata": {
        "colab": {
          "base_uri": "https://localhost:8080/"
        },
        "id": "IhsB1tqlt4WH",
        "outputId": "c7d3a8bc-0976-41fe-bcca-8de625295f1e"
      },
      "outputs": [
        {
          "name": "stdout",
          "output_type": "stream",
          "text": [
            "root\n",
            " |-- SK_ID_CURR: integer (nullable = true)\n",
            " |-- TARGET: integer (nullable = true)\n",
            " |-- CNT_CHILDREN: integer (nullable = true)\n",
            " |-- AMT_INCOME_TOTAL: double (nullable = true)\n",
            " |-- AMT_CREDIT: double (nullable = true)\n",
            " |-- AMT_ANNUITY: double (nullable = true)\n",
            " |-- AMT_GOODS_PRICE: double (nullable = true)\n",
            " |-- REGION_POPULATION_RELATIVE: double (nullable = true)\n",
            " |-- DAYS_BIRTH: integer (nullable = true)\n",
            " |-- DAYS_EMPLOYED: integer (nullable = true)\n",
            " |-- DAYS_REGISTRATION: double (nullable = true)\n",
            " |-- DAYS_ID_PUBLISH: integer (nullable = true)\n",
            " |-- CNT_FAM_MEMBERS: double (nullable = true)\n",
            " |-- REGION_RATING_CLIENT: integer (nullable = true)\n",
            " |-- REGION_RATING_CLIENT_W_CITY: integer (nullable = true)\n",
            " |-- EXT_SOURCE_2: double (nullable = true)\n",
            " |-- EXT_SOURCE_3: double (nullable = true)\n",
            " |-- APARTMENTS_AVG: double (nullable = true)\n",
            " |-- YEARS_BEGINEXPLUATATION_AVG: double (nullable = true)\n",
            " |-- ENTRANCES_AVG: double (nullable = true)\n",
            " |-- FLOORSMAX_AVG: double (nullable = true)\n",
            " |-- LIVINGAREA_AVG: double (nullable = true)\n",
            " |-- APARTMENTS_MEDI: double (nullable = true)\n",
            " |-- ENTRANCES_MEDI: double (nullable = true)\n",
            " |-- FLOORSMAX_MEDI: double (nullable = true)\n",
            " |-- LIVINGAREA_MEDI: double (nullable = true)\n",
            " |-- TOTALAREA_MODE: double (nullable = true)\n",
            " |-- OBS_30_CNT_SOCIAL_CIRCLE: double (nullable = true)\n",
            " |-- DEF_30_CNT_SOCIAL_CIRCLE: double (nullable = true)\n",
            " |-- OBS_60_CNT_SOCIAL_CIRCLE: double (nullable = true)\n",
            " |-- DEF_60_CNT_SOCIAL_CIRCLE: double (nullable = true)\n",
            " |-- DAYS_LAST_PHONE_CHANGE: double (nullable = true)\n",
            " |-- FLAG_DOCUMENT_2: integer (nullable = true)\n",
            " |-- FLAG_DOCUMENT_3: integer (nullable = true)\n",
            " |-- FLAG_DOCUMENT_4: integer (nullable = true)\n",
            " |-- FLAG_DOCUMENT_5: integer (nullable = true)\n",
            " |-- FLAG_DOCUMENT_6: integer (nullable = true)\n",
            " |-- FLAG_DOCUMENT_7: integer (nullable = true)\n",
            " |-- FLAG_DOCUMENT_8: integer (nullable = true)\n",
            " |-- FLAG_DOCUMENT_9: integer (nullable = true)\n",
            " |-- FLAG_DOCUMENT_10: integer (nullable = true)\n",
            " |-- FLAG_DOCUMENT_11: integer (nullable = true)\n",
            " |-- FLAG_DOCUMENT_12: integer (nullable = true)\n",
            " |-- FLAG_DOCUMENT_13: integer (nullable = true)\n",
            " |-- FLAG_DOCUMENT_14: integer (nullable = true)\n",
            " |-- FLAG_DOCUMENT_15: integer (nullable = true)\n",
            " |-- FLAG_DOCUMENT_16: integer (nullable = true)\n",
            " |-- FLAG_DOCUMENT_17: integer (nullable = true)\n",
            " |-- FLAG_DOCUMENT_18: integer (nullable = true)\n",
            " |-- FLAG_DOCUMENT_19: integer (nullable = true)\n",
            " |-- FLAG_DOCUMENT_20: integer (nullable = true)\n",
            " |-- FLAG_DOCUMENT_21: integer (nullable = true)\n",
            " |-- NAME_CONTRACT_TYPE_en: vector (nullable = true)\n",
            " |-- CODE_GENDER_en: vector (nullable = true)\n",
            " |-- FLAG_OWN_CAR_en: vector (nullable = true)\n",
            " |-- FLAG_OWN_REALTY_en: vector (nullable = true)\n",
            " |-- NAME_TYPE_SUITE_en: vector (nullable = true)\n",
            " |-- NAME_INCOME_TYPE_en: vector (nullable = true)\n",
            " |-- NAME_EDUCATION_TYPE_en: vector (nullable = true)\n",
            " |-- NAME_FAMILY_STATUS_en: vector (nullable = true)\n",
            " |-- NAME_HOUSING_TYPE_en: vector (nullable = true)\n",
            " |-- OCCUPATION_TYPE_en: vector (nullable = true)\n",
            " |-- WEEKDAY_APPR_PROCESS_START_en: vector (nullable = true)\n",
            " |-- ORGANIZATION_TYPE_en: vector (nullable = true)\n",
            " |-- HOUSETYPE_MODE_en: vector (nullable = true)\n",
            " |-- WALLSMATERIAL_MODE_en: vector (nullable = true)\n",
            " |-- EMERGENCYSTATE_MODE_en: vector (nullable = true)\n",
            " |-- prev_id: integer (nullable = true)\n",
            " |-- avg(AMT_ANNUITY): double (nullable = true)\n",
            " |-- avg(AMT_APPLICATION): double (nullable = true)\n",
            " |-- avg(AMT_CREDIT): double (nullable = true)\n",
            " |-- avg(AMT_DOWN_PAYMENT): double (nullable = true)\n",
            " |-- avg(AMT_GOODS_PRICE): double (nullable = true)\n",
            " |-- avg(RATE_DOWN_PAYMENT): double (nullable = true)\n",
            " |-- avg(CNT_PAYMENT): double (nullable = true)\n",
            " |-- avg(DAYS_FIRST_DRAWING): double (nullable = true)\n",
            " |-- avg(DAYS_FIRST_DUE): double (nullable = true)\n",
            " |-- avg(DAYS_LAST_DUE): double (nullable = true)\n",
            " |-- avg(DAYS_TERMINATION): double (nullable = true)\n",
            " |-- avg(NFLAG_INSURED_ON_APPROVAL): double (nullable = true)\n",
            " |-- SK_ID_CURR: integer (nullable = true)\n",
            " |-- max(NAME_CONTRACT_TYPE)_en: vector (nullable = true)\n",
            " |-- max(WEEKDAY_APPR_PROCESS_START)_en: vector (nullable = true)\n",
            " |-- max(NAME_CASH_LOAN_PURPOSE)_en: vector (nullable = true)\n",
            " |-- max(NAME_PAYMENT_TYPE)_en: vector (nullable = true)\n",
            " |-- max(CODE_REJECT_REASON)_en: vector (nullable = true)\n",
            " |-- max(NAME_CLIENT_TYPE)_en: vector (nullable = true)\n",
            " |-- max(NAME_GOODS_CATEGORY)_en: vector (nullable = true)\n",
            " |-- max(NAME_PORTFOLIO)_en: vector (nullable = true)\n",
            " |-- max(CHANNEL_TYPE)_en: vector (nullable = true)\n",
            " |-- max(NAME_SELLER_INDUSTRY)_en: vector (nullable = true)\n",
            " |-- max(NAME_YIELD_GROUP)_en: vector (nullable = true)\n",
            " |-- max(PRODUCT_COMBINATION)_en: vector (nullable = true)\n",
            " |-- SK_ID_CURR: integer (nullable = true)\n",
            " |-- avg(SK_ID_CURR): double (nullable = true)\n",
            " |-- pos_avg(MONTHS_BALANCE): double (nullable = true)\n",
            " |-- pos_id: integer (nullable = true)\n",
            " |-- SK_ID_CURR: integer (nullable = true)\n",
            " |-- avg(MONTHS_BALANCE): double (nullable = true)\n",
            " |-- avg(AMT_BALANCE): double (nullable = true)\n",
            " |-- avg(AMT_CREDIT_LIMIT_ACTUAL): double (nullable = true)\n",
            " |-- avg(AMT_DRAWINGS_CURRENT): double (nullable = true)\n",
            " |-- avg(AMT_INST_MIN_REGULARITY): double (nullable = true)\n",
            " |-- avg(AMT_PAYMENT_TOTAL_CURRENT): double (nullable = true)\n",
            " |-- avg(AMT_RECEIVABLE_PRINCIPAL): double (nullable = true)\n",
            " |-- avg(AMT_RECIVABLE): double (nullable = true)\n",
            " |-- avg(AMT_TOTAL_RECEIVABLE): double (nullable = true)\n",
            " |-- avg(CNT_DRAWINGS_CURRENT): double (nullable = true)\n",
            " |-- avg(CNT_INSTALMENT_MATURE_CUM): double (nullable = true)\n",
            " |-- avg(SK_DPD): double (nullable = true)\n",
            " |-- avg(SK_DPD_DEF): double (nullable = true)\n",
            " |-- credit_id: integer (nullable = true)\n",
            " |-- credit_max(NAME_CONTRACT_STATUS)_en: vector (nullable = true)\n",
            "\n"
          ]
        }
      ],
      "source": [
        "ap_prev_pos_credit_train.printSchema()"
      ]
    },
    {
      "cell_type": "code",
      "execution_count": null,
      "metadata": {
        "id": "LsVpm7XCuAX7"
      },
      "outputs": [],
      "source": [
        "ap_prev_pos_credit_train = ap_prev_pos_credit_train.drop('NAME_CONTRACT_TYPE_indexed',\n",
        " 'CODE_GENDER_indexed',\n",
        " 'FLAG_OWN_CAR_indexed',\n",
        " 'FLAG_OWN_REALTY_indexed',\n",
        " 'NAME_TYPE_SUITE_indexed',\n",
        " 'NAME_INCOME_TYPE_indexed',\n",
        " 'NAME_EDUCATION_TYPE_indexed',\n",
        " 'NAME_FAMILY_STATUS_indexed',\n",
        " 'NAME_HOUSING_TYPE_indexed',\n",
        " 'OCCUPATION_TYPE_indexed',\n",
        " 'WEEKDAY_APPR_PROCESS_START_indexed',\n",
        " 'ORGANIZATION_TYPE_indexed',\n",
        " 'HOUSETYPE_MODE_indexed',\n",
        " 'WALLSMATERIAL_MODE_indexed',\n",
        " 'EMERGENCYSTATE_MODE_indexed')"
      ]
    },
    {
      "cell_type": "code",
      "execution_count": null,
      "metadata": {
        "id": "vwPulUxe13z_"
      },
      "outputs": [],
      "source": [
        "apprev_train = apprev_train.drop('NAME_CONTRACT_TYPE_indexed',\n",
        " 'CODE_GENDER_indexed',\n",
        " 'FLAG_OWN_CAR_indexed',\n",
        " 'FLAG_OWN_REALTY_indexed',\n",
        " 'NAME_TYPE_SUITE_indexed',\n",
        " 'NAME_INCOME_TYPE_indexed',\n",
        " 'NAME_EDUCATION_TYPE_indexed',\n",
        " 'NAME_FAMILY_STATUS_indexed',\n",
        " 'NAME_HOUSING_TYPE_indexed',\n",
        " 'OCCUPATION_TYPE_indexed',\n",
        " 'WEEKDAY_APPR_PROCESS_START_indexed',\n",
        " 'ORGANIZATION_TYPE_indexed',\n",
        " 'HOUSETYPE_MODE_indexed',\n",
        " 'WALLSMATERIAL_MODE_indexed',\n",
        " 'EMERGENCYSTATE_MODE_indexed')"
      ]
    },
    {
      "cell_type": "code",
      "execution_count": null,
      "metadata": {
        "id": "-P_bPx4JuAbP"
      },
      "outputs": [],
      "source": [
        "final_df = ap_prev_pos_credit_train.drop('SK_ID_CURR','avg(SK_ID_CURR)','pos_id','prev_id','credit_id')"
      ]
    },
    {
      "cell_type": "code",
      "execution_count": null,
      "metadata": {
        "colab": {
          "base_uri": "https://localhost:8080/"
        },
        "id": "FRLYnwtRubwU",
        "outputId": "985d289b-e382-4e37-e697-1067d61ed6f2"
      },
      "outputs": [
        {
          "name": "stdout",
          "output_type": "stream",
          "text": [
            "root\n",
            " |-- TARGET: integer (nullable = true)\n",
            " |-- CNT_CHILDREN: integer (nullable = true)\n",
            " |-- AMT_INCOME_TOTAL: double (nullable = true)\n",
            " |-- AMT_CREDIT: double (nullable = true)\n",
            " |-- AMT_ANNUITY: double (nullable = true)\n",
            " |-- AMT_GOODS_PRICE: double (nullable = true)\n",
            " |-- REGION_POPULATION_RELATIVE: double (nullable = true)\n",
            " |-- DAYS_BIRTH: integer (nullable = true)\n",
            " |-- DAYS_EMPLOYED: integer (nullable = true)\n",
            " |-- DAYS_REGISTRATION: double (nullable = true)\n",
            " |-- DAYS_ID_PUBLISH: integer (nullable = true)\n",
            " |-- CNT_FAM_MEMBERS: double (nullable = true)\n",
            " |-- REGION_RATING_CLIENT: integer (nullable = true)\n",
            " |-- REGION_RATING_CLIENT_W_CITY: integer (nullable = true)\n",
            " |-- EXT_SOURCE_2: double (nullable = true)\n",
            " |-- EXT_SOURCE_3: double (nullable = true)\n",
            " |-- APARTMENTS_AVG: double (nullable = true)\n",
            " |-- YEARS_BEGINEXPLUATATION_AVG: double (nullable = true)\n",
            " |-- ENTRANCES_AVG: double (nullable = true)\n",
            " |-- FLOORSMAX_AVG: double (nullable = true)\n",
            " |-- LIVINGAREA_AVG: double (nullable = true)\n",
            " |-- APARTMENTS_MEDI: double (nullable = true)\n",
            " |-- ENTRANCES_MEDI: double (nullable = true)\n",
            " |-- FLOORSMAX_MEDI: double (nullable = true)\n",
            " |-- LIVINGAREA_MEDI: double (nullable = true)\n",
            " |-- TOTALAREA_MODE: double (nullable = true)\n",
            " |-- OBS_30_CNT_SOCIAL_CIRCLE: double (nullable = true)\n",
            " |-- DEF_30_CNT_SOCIAL_CIRCLE: double (nullable = true)\n",
            " |-- OBS_60_CNT_SOCIAL_CIRCLE: double (nullable = true)\n",
            " |-- DEF_60_CNT_SOCIAL_CIRCLE: double (nullable = true)\n",
            " |-- DAYS_LAST_PHONE_CHANGE: double (nullable = true)\n",
            " |-- FLAG_DOCUMENT_2: integer (nullable = true)\n",
            " |-- FLAG_DOCUMENT_3: integer (nullable = true)\n",
            " |-- FLAG_DOCUMENT_4: integer (nullable = true)\n",
            " |-- FLAG_DOCUMENT_5: integer (nullable = true)\n",
            " |-- FLAG_DOCUMENT_6: integer (nullable = true)\n",
            " |-- FLAG_DOCUMENT_7: integer (nullable = true)\n",
            " |-- FLAG_DOCUMENT_8: integer (nullable = true)\n",
            " |-- FLAG_DOCUMENT_9: integer (nullable = true)\n",
            " |-- FLAG_DOCUMENT_10: integer (nullable = true)\n",
            " |-- FLAG_DOCUMENT_11: integer (nullable = true)\n",
            " |-- FLAG_DOCUMENT_12: integer (nullable = true)\n",
            " |-- FLAG_DOCUMENT_13: integer (nullable = true)\n",
            " |-- FLAG_DOCUMENT_14: integer (nullable = true)\n",
            " |-- FLAG_DOCUMENT_15: integer (nullable = true)\n",
            " |-- FLAG_DOCUMENT_16: integer (nullable = true)\n",
            " |-- FLAG_DOCUMENT_17: integer (nullable = true)\n",
            " |-- FLAG_DOCUMENT_18: integer (nullable = true)\n",
            " |-- FLAG_DOCUMENT_19: integer (nullable = true)\n",
            " |-- FLAG_DOCUMENT_20: integer (nullable = true)\n",
            " |-- FLAG_DOCUMENT_21: integer (nullable = true)\n",
            " |-- NAME_CONTRACT_TYPE_en: vector (nullable = true)\n",
            " |-- CODE_GENDER_en: vector (nullable = true)\n",
            " |-- FLAG_OWN_CAR_en: vector (nullable = true)\n",
            " |-- FLAG_OWN_REALTY_en: vector (nullable = true)\n",
            " |-- NAME_TYPE_SUITE_en: vector (nullable = true)\n",
            " |-- NAME_INCOME_TYPE_en: vector (nullable = true)\n",
            " |-- NAME_EDUCATION_TYPE_en: vector (nullable = true)\n",
            " |-- NAME_FAMILY_STATUS_en: vector (nullable = true)\n",
            " |-- NAME_HOUSING_TYPE_en: vector (nullable = true)\n",
            " |-- OCCUPATION_TYPE_en: vector (nullable = true)\n",
            " |-- WEEKDAY_APPR_PROCESS_START_en: vector (nullable = true)\n",
            " |-- ORGANIZATION_TYPE_en: vector (nullable = true)\n",
            " |-- HOUSETYPE_MODE_en: vector (nullable = true)\n",
            " |-- WALLSMATERIAL_MODE_en: vector (nullable = true)\n",
            " |-- EMERGENCYSTATE_MODE_en: vector (nullable = true)\n",
            " |-- avg(AMT_ANNUITY): double (nullable = true)\n",
            " |-- avg(AMT_APPLICATION): double (nullable = true)\n",
            " |-- avg(AMT_CREDIT): double (nullable = true)\n",
            " |-- avg(AMT_DOWN_PAYMENT): double (nullable = true)\n",
            " |-- avg(AMT_GOODS_PRICE): double (nullable = true)\n",
            " |-- avg(RATE_DOWN_PAYMENT): double (nullable = true)\n",
            " |-- avg(CNT_PAYMENT): double (nullable = true)\n",
            " |-- avg(DAYS_FIRST_DRAWING): double (nullable = true)\n",
            " |-- avg(DAYS_FIRST_DUE): double (nullable = true)\n",
            " |-- avg(DAYS_LAST_DUE): double (nullable = true)\n",
            " |-- avg(DAYS_TERMINATION): double (nullable = true)\n",
            " |-- avg(NFLAG_INSURED_ON_APPROVAL): double (nullable = true)\n",
            " |-- max(NAME_CONTRACT_TYPE)_en: vector (nullable = true)\n",
            " |-- max(WEEKDAY_APPR_PROCESS_START)_en: vector (nullable = true)\n",
            " |-- max(NAME_CASH_LOAN_PURPOSE)_en: vector (nullable = true)\n",
            " |-- max(NAME_PAYMENT_TYPE)_en: vector (nullable = true)\n",
            " |-- max(CODE_REJECT_REASON)_en: vector (nullable = true)\n",
            " |-- max(NAME_CLIENT_TYPE)_en: vector (nullable = true)\n",
            " |-- max(NAME_GOODS_CATEGORY)_en: vector (nullable = true)\n",
            " |-- max(NAME_PORTFOLIO)_en: vector (nullable = true)\n",
            " |-- max(CHANNEL_TYPE)_en: vector (nullable = true)\n",
            " |-- max(NAME_SELLER_INDUSTRY)_en: vector (nullable = true)\n",
            " |-- max(NAME_YIELD_GROUP)_en: vector (nullable = true)\n",
            " |-- max(PRODUCT_COMBINATION)_en: vector (nullable = true)\n",
            " |-- pos_avg(MONTHS_BALANCE): double (nullable = true)\n",
            " |-- avg(MONTHS_BALANCE): double (nullable = true)\n",
            " |-- avg(AMT_BALANCE): double (nullable = true)\n",
            " |-- avg(AMT_CREDIT_LIMIT_ACTUAL): double (nullable = true)\n",
            " |-- avg(AMT_DRAWINGS_CURRENT): double (nullable = true)\n",
            " |-- avg(AMT_INST_MIN_REGULARITY): double (nullable = true)\n",
            " |-- avg(AMT_PAYMENT_TOTAL_CURRENT): double (nullable = true)\n",
            " |-- avg(AMT_RECEIVABLE_PRINCIPAL): double (nullable = true)\n",
            " |-- avg(AMT_RECIVABLE): double (nullable = true)\n",
            " |-- avg(AMT_TOTAL_RECEIVABLE): double (nullable = true)\n",
            " |-- avg(CNT_DRAWINGS_CURRENT): double (nullable = true)\n",
            " |-- avg(CNT_INSTALMENT_MATURE_CUM): double (nullable = true)\n",
            " |-- avg(SK_DPD): double (nullable = true)\n",
            " |-- avg(SK_DPD_DEF): double (nullable = true)\n",
            " |-- credit_max(NAME_CONTRACT_STATUS)_en: vector (nullable = true)\n",
            "\n"
          ]
        }
      ],
      "source": [
        "final_df.printSchema()"
      ]
    },
    {
      "cell_type": "code",
      "execution_count": null,
      "metadata": {
        "id": "FLI_oJWFuAet"
      },
      "outputs": [],
      "source": [
        "final_df = final_df.withColumnRenamed('TARGET','label')"
      ]
    },
    {
      "cell_type": "code",
      "execution_count": null,
      "metadata": {
        "id": "w1TLn0mpvMfr"
      },
      "outputs": [],
      "source": [
        "# from pyspark.sql.functions import when\n",
        "# ratio = 0.91\n",
        "# def weight_balance(labels):\n",
        "#     return when(labels == 1, ratio).otherwise(1*(1-ratio))\n",
        "# final_df = final_df.withColumn('weights', weight_balance(col('label')))"
      ]
    },
    {
      "cell_type": "code",
      "execution_count": null,
      "metadata": {
        "id": "G52UIuaZQhgz"
      },
      "outputs": [],
      "source": [
        "# final_df.select([count(when(col(c).isNull(), c)).alias(c) for c in final_df.columns]).show()"
      ]
    },
    {
      "cell_type": "code",
      "execution_count": null,
      "metadata": {
        "id": "2Gq_C7ZUuAh5"
      },
      "outputs": [],
      "source": [
        "from pyspark.ml.linalg import Vectors\n",
        "from pyspark.ml.feature import VectorAssembler"
      ]
    },
    {
      "cell_type": "code",
      "execution_count": null,
      "metadata": {
        "id": "E5IseQF6vzEh"
      },
      "outputs": [],
      "source": [
        "vec_assembler = []\n",
        "for i in range(1,len(final_df.columns)):\n",
        "  vec_assembler.append(final_df.columns[i])"
      ]
    },
    {
      "cell_type": "code",
      "execution_count": null,
      "metadata": {
        "colab": {
          "base_uri": "https://localhost:8080/"
        },
        "id": "v6XRhDFUwLlp",
        "outputId": "709fc64c-c60c-417f-9cf1-e5ef2e34d53c"
      },
      "outputs": [
        {
          "data": {
            "text/plain": [
              "['CNT_CHILDREN',\n",
              " 'AMT_INCOME_TOTAL',\n",
              " 'AMT_CREDIT',\n",
              " 'AMT_ANNUITY',\n",
              " 'AMT_GOODS_PRICE',\n",
              " 'REGION_POPULATION_RELATIVE',\n",
              " 'DAYS_BIRTH',\n",
              " 'DAYS_EMPLOYED',\n",
              " 'DAYS_REGISTRATION',\n",
              " 'DAYS_ID_PUBLISH',\n",
              " 'CNT_FAM_MEMBERS',\n",
              " 'REGION_RATING_CLIENT',\n",
              " 'REGION_RATING_CLIENT_W_CITY',\n",
              " 'EXT_SOURCE_2',\n",
              " 'EXT_SOURCE_3',\n",
              " 'APARTMENTS_AVG',\n",
              " 'YEARS_BEGINEXPLUATATION_AVG',\n",
              " 'ENTRANCES_AVG',\n",
              " 'FLOORSMAX_AVG',\n",
              " 'LIVINGAREA_AVG',\n",
              " 'APARTMENTS_MEDI',\n",
              " 'ENTRANCES_MEDI',\n",
              " 'FLOORSMAX_MEDI',\n",
              " 'LIVINGAREA_MEDI',\n",
              " 'TOTALAREA_MODE',\n",
              " 'OBS_30_CNT_SOCIAL_CIRCLE',\n",
              " 'DEF_30_CNT_SOCIAL_CIRCLE',\n",
              " 'OBS_60_CNT_SOCIAL_CIRCLE',\n",
              " 'DEF_60_CNT_SOCIAL_CIRCLE',\n",
              " 'DAYS_LAST_PHONE_CHANGE',\n",
              " 'FLAG_DOCUMENT_2',\n",
              " 'FLAG_DOCUMENT_3',\n",
              " 'FLAG_DOCUMENT_4',\n",
              " 'FLAG_DOCUMENT_5',\n",
              " 'FLAG_DOCUMENT_6',\n",
              " 'FLAG_DOCUMENT_7',\n",
              " 'FLAG_DOCUMENT_8',\n",
              " 'FLAG_DOCUMENT_9',\n",
              " 'FLAG_DOCUMENT_10',\n",
              " 'FLAG_DOCUMENT_11',\n",
              " 'FLAG_DOCUMENT_12',\n",
              " 'FLAG_DOCUMENT_13',\n",
              " 'FLAG_DOCUMENT_14',\n",
              " 'FLAG_DOCUMENT_15',\n",
              " 'FLAG_DOCUMENT_16',\n",
              " 'FLAG_DOCUMENT_17',\n",
              " 'FLAG_DOCUMENT_18',\n",
              " 'FLAG_DOCUMENT_19',\n",
              " 'FLAG_DOCUMENT_20',\n",
              " 'FLAG_DOCUMENT_21',\n",
              " 'NAME_CONTRACT_TYPE_en',\n",
              " 'CODE_GENDER_en',\n",
              " 'FLAG_OWN_CAR_en',\n",
              " 'FLAG_OWN_REALTY_en',\n",
              " 'NAME_TYPE_SUITE_en',\n",
              " 'NAME_INCOME_TYPE_en',\n",
              " 'NAME_EDUCATION_TYPE_en',\n",
              " 'NAME_FAMILY_STATUS_en',\n",
              " 'NAME_HOUSING_TYPE_en',\n",
              " 'OCCUPATION_TYPE_en',\n",
              " 'WEEKDAY_APPR_PROCESS_START_en',\n",
              " 'ORGANIZATION_TYPE_en',\n",
              " 'HOUSETYPE_MODE_en',\n",
              " 'WALLSMATERIAL_MODE_en',\n",
              " 'EMERGENCYSTATE_MODE_en',\n",
              " 'avg(AMT_ANNUITY)',\n",
              " 'avg(AMT_APPLICATION)',\n",
              " 'avg(AMT_CREDIT)',\n",
              " 'avg(AMT_DOWN_PAYMENT)',\n",
              " 'avg(AMT_GOODS_PRICE)',\n",
              " 'avg(RATE_DOWN_PAYMENT)',\n",
              " 'avg(CNT_PAYMENT)',\n",
              " 'avg(DAYS_FIRST_DRAWING)',\n",
              " 'avg(DAYS_FIRST_DUE)',\n",
              " 'avg(DAYS_LAST_DUE)',\n",
              " 'avg(DAYS_TERMINATION)',\n",
              " 'avg(NFLAG_INSURED_ON_APPROVAL)',\n",
              " 'max(NAME_CONTRACT_TYPE)_en',\n",
              " 'max(WEEKDAY_APPR_PROCESS_START)_en',\n",
              " 'max(NAME_CASH_LOAN_PURPOSE)_en',\n",
              " 'max(NAME_PAYMENT_TYPE)_en',\n",
              " 'max(CODE_REJECT_REASON)_en',\n",
              " 'max(NAME_CLIENT_TYPE)_en',\n",
              " 'max(NAME_GOODS_CATEGORY)_en',\n",
              " 'max(NAME_PORTFOLIO)_en',\n",
              " 'max(CHANNEL_TYPE)_en',\n",
              " 'max(NAME_SELLER_INDUSTRY)_en',\n",
              " 'max(NAME_YIELD_GROUP)_en',\n",
              " 'max(PRODUCT_COMBINATION)_en',\n",
              " 'pos_avg(MONTHS_BALANCE)',\n",
              " 'avg(MONTHS_BALANCE)',\n",
              " 'avg(AMT_BALANCE)',\n",
              " 'avg(AMT_CREDIT_LIMIT_ACTUAL)',\n",
              " 'avg(AMT_DRAWINGS_CURRENT)',\n",
              " 'avg(AMT_INST_MIN_REGULARITY)',\n",
              " 'avg(AMT_PAYMENT_TOTAL_CURRENT)',\n",
              " 'avg(AMT_RECEIVABLE_PRINCIPAL)',\n",
              " 'avg(AMT_RECIVABLE)',\n",
              " 'avg(AMT_TOTAL_RECEIVABLE)',\n",
              " 'avg(CNT_DRAWINGS_CURRENT)',\n",
              " 'avg(CNT_INSTALMENT_MATURE_CUM)',\n",
              " 'avg(SK_DPD)',\n",
              " 'avg(SK_DPD_DEF)',\n",
              " 'credit_max(NAME_CONTRACT_STATUS)_en']"
            ]
          },
          "execution_count": 267,
          "metadata": {},
          "output_type": "execute_result"
        }
      ],
      "source": [
        "vec_assembler"
      ]
    },
    {
      "cell_type": "code",
      "execution_count": null,
      "metadata": {
        "id": "mkJ3IQ9EuAku"
      },
      "outputs": [],
      "source": [
        "features = VectorAssembler(inputCols=vec_assembler,outputCol=\"features\")"
      ]
    },
    {
      "cell_type": "code",
      "execution_count": null,
      "metadata": {
        "id": "F_ZUPHDcuAnk"
      },
      "outputs": [],
      "source": [
        "M1 = features.transform(final_df)"
      ]
    },
    {
      "cell_type": "code",
      "execution_count": null,
      "metadata": {
        "id": "C-_RZuYQyeOV"
      },
      "outputs": [],
      "source": [
        "M1 = M1.dropna()"
      ]
    },
    {
      "cell_type": "code",
      "execution_count": null,
      "metadata": {
        "id": "WwATxT57yeRu"
      },
      "outputs": [],
      "source": [
        "final_data = M1.select('features','label')"
      ]
    },
    {
      "cell_type": "code",
      "execution_count": null,
      "metadata": {
        "colab": {
          "base_uri": "https://localhost:8080/"
        },
        "id": "2-pZ225fyeWw",
        "outputId": "70af88a2-7bcb-490f-8f29-00428a5f20e8"
      },
      "outputs": [
        {
          "name": "stdout",
          "output_type": "stream",
          "text": [
            "+--------------------+-----+\n",
            "|            features|label|\n",
            "+--------------------+-----+\n",
            "|(290,[1,2,3,4,5,6...|    0|\n",
            "|(290,[0,1,2,3,4,5...|    0|\n",
            "|(290,[1,2,3,4,5,6...|    0|\n",
            "|(290,[1,2,3,4,5,6...|    1|\n",
            "|(290,[1,2,3,4,5,6...|    0|\n",
            "|(290,[1,2,3,4,5,6...|    0|\n",
            "|(290,[0,1,2,3,4,5...|    0|\n",
            "|(290,[0,1,2,3,4,5...|    0|\n",
            "|(290,[0,1,2,3,4,5...|    0|\n",
            "|(290,[1,2,3,4,5,6...|    1|\n",
            "|(290,[1,2,3,4,5,6...|    0|\n",
            "|(290,[1,2,3,4,5,6...|    0|\n",
            "|(290,[1,2,3,4,5,6...|    0|\n",
            "|(290,[1,2,3,4,5,6...|    0|\n",
            "|(290,[1,2,3,4,5,6...|    0|\n",
            "|(290,[1,2,3,4,5,6...|    0|\n",
            "|(290,[1,2,3,4,5,6...|    0|\n",
            "|(290,[1,2,3,4,5,6...|    0|\n",
            "|(290,[1,2,3,4,5,6...|    0|\n",
            "|(290,[1,2,3,4,5,6...|    0|\n",
            "+--------------------+-----+\n",
            "only showing top 20 rows\n",
            "\n"
          ]
        }
      ],
      "source": [
        "final_data.show()"
      ]
    },
    {
      "cell_type": "code",
      "execution_count": null,
      "metadata": {
        "id": "RuAa6YE_yead"
      },
      "outputs": [],
      "source": [
        "(train, test) = final_data.randomSplit([0.7, 0.3])"
      ]
    },
    {
      "cell_type": "code",
      "execution_count": null,
      "metadata": {
        "id": "dZsObRL2yeeN"
      },
      "outputs": [],
      "source": [
        "from pyspark.ml.classification import LogisticRegression\n",
        "LR = LogisticRegression(featuresCol = 'features', labelCol = 'label')\n",
        "LR_model = LR.fit(train)"
      ]
    },
    {
      "cell_type": "code",
      "execution_count": null,
      "metadata": {
        "colab": {
          "base_uri": "https://localhost:8080/",
          "height": 347
        },
        "id": "sn75Jd9EyehY",
        "outputId": "857a724b-4ff6-499b-dd93-bf7a2b1dbe7b"
      },
      "outputs": [
        {
          "name": "stderr",
          "output_type": "stream",
          "text": [
            "spark-3.2.0-bin-hadoop3.2/python/pyspark/sql/context.py:127: FutureWarning: Deprecated in 3.0.0. Use SparkSession.builder.getOrCreate() instead.\n",
            "  FutureWarning\n"
          ]
        },
        {
          "data": {
            "image/png": "[encoded data removed]",
            "text/plain": [
              "<Figure size 432x288 with 1 Axes>"
            ]
          },
          "metadata": {
            "needs_background": "light"
          },
          "output_type": "display_data"
        },
        {
          "name": "stdout",
          "output_type": "stream",
          "text": [
            "Training set ROC: 0.7722304910389057\n"
          ]
        }
      ],
      "source": [
        "import numpy as np \n",
        "import pandas as pd\n",
        "%matplotlib inline\n",
        "import matplotlib.pyplot as plt\n",
        "import seaborn as sns\n",
        "trainingSummary = LR_model.summary\n",
        "roc = trainingSummary.roc.toPandas()\n",
        "plt.plot(roc['FPR'],roc['TPR'])\n",
        "plt.ylabel('False Positive Rate')\n",
        "plt.xlabel('True Positive Rate')\n",
        "plt.title('ROC Curve')\n",
        "plt.show()\n",
        "print('Training set ROC: ' + str(trainingSummary.areaUnderROC))"
      ]
    },
    {
      "cell_type": "code",
      "execution_count": null,
      "metadata": {
        "colab": {
          "base_uri": "https://localhost:8080/"
        },
        "id": "QsfKnkjyyekY",
        "outputId": "45abd13a-607f-4f8f-e5fc-dca62bf8ea6f"
      },
      "outputs": [
        {
          "name": "stdout",
          "output_type": "stream",
          "text": [
            "Test_SET (Area Under ROC): 0.7544057355839292\n"
          ]
        }
      ],
      "source": [
        "from pyspark.ml.evaluation import BinaryClassificationEvaluator\n",
        "predictions_LR = LR_model.transform(test)\n",
        "evaluator = BinaryClassificationEvaluator()\n",
        "print(\"Test_SET (Area Under ROC): \" + str(evaluator.evaluate(predictions_LR, {evaluator.metricName: \"areaUnderROC\"})))"
      ]
    },
    {
      "cell_type": "code",
      "execution_count": null,
      "metadata": {
        "colab": {
          "base_uri": "https://localhost:8080/"
        },
        "id": "8zhoXBTVuAqU",
        "outputId": "e4d435ed-2773-49a7-b282-63be0dc80b75"
      },
      "outputs": [
        {
          "name": "stdout",
          "output_type": "stream",
          "text": [
            "Confusion Matrix:\n",
            "[[20077    51]\n",
            " [ 1861    59]]\n",
            "Prediction Accuracy:  0.7544067835643546\n"
          ]
        }
      ],
      "source": [
        "from sklearn.metrics import confusion_matrix\n",
        "\n",
        "y_predictions=predictions_LR.select(\"prediction\").collect()\n",
        "y_predictions_orig=predictions_LR.select(\"label\").collect()\n",
        "\n",
        "cm_1 = confusion_matrix(y_predictions_orig, y_predictions)\n",
        "print(\"Confusion Matrix:\")\n",
        "print(cm_1)\n",
        "acc_1 = evaluator.evaluate(predictions_LR)\n",
        " \n",
        "print(\"Prediction Accuracy: \", acc_1)"
      ]
    },
    {
      "cell_type": "code",
      "execution_count": null,
      "metadata": {
        "id": "OLSTgkBSL8kU"
      },
      "outputs": [],
      "source": [
        "from pyspark.ml.classification import DecisionTreeClassifier\n",
        "from sklearn.metrics import confusion_matrix\n",
        "\n",
        "from pyspark.ml.evaluation import MulticlassClassificationEvaluator\n",
        "dtc = DecisionTreeClassifier(featuresCol=\"features\", labelCol=\"label\")\n",
        "\n",
        "dtc_model = dtc.fit(train)\n",
        "\n",
        "pred = dtc_model.transform(test)\n",
        "# pred.show(3)"
      ]
    },
    {
      "cell_type": "code",
      "execution_count": null,
      "metadata": {
        "colab": {
          "base_uri": "https://localhost:8080/"
        },
        "id": "7QmFA3WrL8oK",
        "outputId": "f48b346b-1834-4185-a41d-64c9cf9cc4eb"
      },
      "outputs": [
        {
          "name": "stdout",
          "output_type": "stream",
          "text": [
            "Prediction Accuracy:  0.8713354319680164\n",
            "Confusion Matrix:\n",
            "[[20127     1]\n",
            " [ 1920     0]]\n"
          ]
        }
      ],
      "source": [
        "evaluator=MulticlassClassificationEvaluator(predictionCol=\"prediction\")\n",
        "from sklearn.metrics import confusion_matrix\n",
        "acc = evaluator.evaluate(pred)\n",
        " \n",
        "print(\"Prediction Accuracy: \", acc)\n",
        " \n",
        "y_pred=pred.select(\"prediction\").collect()\n",
        "y_orig=pred.select(\"label\").collect()\n",
        "\n",
        "cm = confusion_matrix(y_orig, y_pred)\n",
        "print(\"Confusion Matrix:\")\n",
        "print(cm)"
      ]
    },
    {
      "cell_type": "code",
      "execution_count": null,
      "metadata": {
        "colab": {
          "base_uri": "https://localhost:8080/"
        },
        "id": "QOf0VZ1XK6N3",
        "outputId": "f6ddc581-580e-41d1-873c-5b0215ac7740"
      },
      "outputs": [
        {
          "name": "stdout",
          "output_type": "stream",
          "text": [
            "Test_SET (Area Under ROC): 0.73061967211927\n"
          ]
        }
      ],
      "source": [
        "from pyspark.ml.classification import GBTClassifier\n",
        "gbt = GBTClassifier(maxIter=15)\n",
        "GBT_Model = gbt.fit(train)\n",
        "gbt_predictions = GBT_Model.transform(test)\n",
        "evaluator = BinaryClassificationEvaluator()\n",
        "print(\"Test_SET (Area Under ROC): \" + str(evaluator.evaluate(gbt_predictions, {evaluator.metricName: \"areaUnderROC\"})))"
      ]
    },
    {
      "cell_type": "code",
      "execution_count": null,
      "metadata": {
        "colab": {
          "base_uri": "https://localhost:8080/"
        },
        "id": "ysrM1d8B3x4G",
        "outputId": "99bf2599-7dad-4693-dae8-cdc6be594f87"
      },
      "outputs": [
        {
          "name": "stdout",
          "output_type": "stream",
          "text": [
            "Prediction Accuracy:  0.872668215272406\n"
          ]
        }
      ],
      "source": [
        "evaluator=MulticlassClassificationEvaluator(predictionCol=\"prediction\")\n",
        "from sklearn.metrics import confusion_matrix\n",
        "acc = evaluator.evaluate(gbt_predictions)\n",
        " \n",
        "print(\"Prediction Accuracy: \", acc)\n",
        " \n",
        "y_pred=pred.select(\"prediction\").collect()\n",
        "y_orig=pred.select(\"label\").collect()\n",
        "\n",
        "cm = confusion_matrix(y_orig, y_pred)\n",
        "print(\"Confusion Matrix:\")\n",
        "print(cm)"
      ]
    },
    {
      "cell_type": "code",
      "execution_count": null,
      "metadata": {
        "colab": {
          "base_uri": "https://localhost:8080/"
        },
        "id": "MXwZBU6XBHQq",
        "outputId": "567ef1b9-3ef4-4996-e6e7-3b8bcf039319"
      },
      "outputs": [
        {
          "name": "stdout",
          "output_type": "stream",
          "text": [
            "Confusion Matrix:\n",
            "[[20127     1]\n",
            " [ 1920     0]]\n"
          ]
        }
      ],
      "source": [
        "y_pred=pred.select(\"prediction\").collect()\n",
        "y_orig=pred.select(\"label\").collect()\n",
        "\n",
        "cm = confusion_matrix(y_orig, y_pred)\n",
        "print(\"Confusion Matrix:\")\n",
        "print(cm)"
      ]
    },
    {
      "cell_type": "code",
      "execution_count": null,
      "metadata": {
        "id": "0d87Pw6vMwn9"
      },
      "outputs": [],
      "source": [
        "from pyspark.ml.classification import RandomForestClassifier\n",
        "from time import *\n",
        "rf = RandomForestClassifier(featuresCol=\"features\", labelCol=\"label\")\n",
        "model = rf.fit(train)\n",
        "rf_predictions = model.transform(test)"
      ]
    },
    {
      "cell_type": "code",
      "execution_count": null,
      "metadata": {
        "colab": {
          "base_uri": "https://localhost:8080/"
        },
        "id": "U7AI9Ds368P1",
        "outputId": "d2eb3d55-0850-49da-fb0e-c92fc0c96bc3"
      },
      "outputs": [
        {
          "name": "stdout",
          "output_type": "stream",
          "text": [
            "Prediction Accuracy:  0.8713580633012592\n"
          ]
        }
      ],
      "source": [
        "evaluator=MulticlassClassificationEvaluator(predictionCol=\"prediction\")\n",
        "from sklearn.metrics import confusion_matrix\n",
        "acc_rf = evaluator.evaluate(rf_predictions)\n",
        " \n",
        "print(\"Prediction Accuracy: \", acc_rf)\n"
      ]
    },
    {
      "cell_type": "code",
      "execution_count": null,
      "metadata": {
        "colab": {
          "base_uri": "https://localhost:8080/"
        },
        "id": "dKX1R9cF_eY5",
        "outputId": "7980bd9d-8f56-4e77-e82d-c7fefc442e7d"
      },
      "outputs": [
        {
          "name": "stdout",
          "output_type": "stream",
          "text": [
            "Confusion Matrix:\n",
            "[[20128     0]\n",
            " [ 1920     0]]\n"
          ]
        }
      ],
      "source": [
        "y_pred=rf_predictions.select(\"prediction\").collect()\n",
        "y_orig=rf_predictions.select(\"label\").collect()\n",
        "\n",
        "cm_rf = confusion_matrix(y_orig, y_pred)\n",
        "print(\"Confusion Matrix:\")\n",
        "print(cm_rf)"
      ]
    },
    {
      "cell_type": "code",
      "execution_count": null,
      "metadata": {
        "id": "yV2AuUwkBEyK"
      },
      "outputs": [],
      "source": []
    }
  ],
  "metadata": {
    "colab": {
      "collapsed_sections": [],
      "name": "Home_loan_default_second.ipynb",
      "provenance": []
    },
    "kernelspec": {
      "display_name": "Python 3",
      "name": "python3"
    },
    "language_info": {
      "name": "python"
    }
  },
  "nbformat": 4,
  "nbformat_minor": 0
}
